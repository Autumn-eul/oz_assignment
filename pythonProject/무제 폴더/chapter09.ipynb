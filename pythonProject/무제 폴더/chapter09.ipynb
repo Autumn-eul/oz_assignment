{
 "cells": [
  {
   "metadata": {},
   "cell_type": "markdown",
   "source": [
    "## 입력과 출력\n",
    "\n",
    "* 입력 : input()\n",
    "* 출력 : print()\n",
    "\n",
    "함수와 메서드\n",
    "\n",
    "    함수 : 어디에 속해있지 않고 단독 모듈이라 함수를 그냥 호출하여 사용 가능\n",
    "\n",
    "    메소드 : 함수의 클래스 안에 속해있고 클래스의 멤버 변수들을 이용하여 구현된 것\n",
    "    예 ) '까먹으신건가요?'.count('까') / '까먹으신건가요?'.index('까')"
   ],
   "id": "353b7883a56a822f"
  },
  {
   "cell_type": "code",
   "execution_count": null,
   "id": "initial_id",
   "metadata": {
    "collapsed": true
   },
   "outputs": [],
   "source": [
    "# int(), float(), str(), bool()\n",
    "\n",
    "정수 = input()\n",
    "정수 = int(정수)\n",
    "print(정수, type(정수))\n",
    "\n",
    "실수 = input()\n",
    "실수 = float(실수)\n",
    "print(실수, type(실수))"
   ]
  },
  {
   "metadata": {},
   "cell_type": "markdown",
   "source": [
    "그 외 입력값의 형변환이 가능한 종류\n",
    "* tuple()\n",
    "* list()\n",
    "* dic()\n",
    "* set()"
   ],
   "id": "fcb11260b3c1dd55"
  },
  {
   "metadata": {},
   "cell_type": "code",
   "outputs": [],
   "execution_count": null,
   "source": [
    "넌센스, 정답 = input().split('.')\n",
    "print(f'넌센스 퀴즈 : {넌센스}')\n",
    "print(f'정답 : {정답}')"
   ],
   "id": "1dbcd39d019b6141"
  },
  {
   "metadata": {},
   "cell_type": "code",
   "outputs": [],
   "execution_count": null,
   "source": [
    "# 시퀀스 자료형에 다 지원되는 메소드\n",
    "번호1, 번호2, 번호3, 번호4 = input().split(',')\n",
    "\n",
    "번호1 = int(번호1)\n",
    "번호2 = int(번호2)\n",
    "번호3 = int(번호3)\n",
    "번호4 = int(번호4)\n",
    "\n",
    "print(type(번호1), 번호2, 번호3, 번호4)"
   ],
   "id": "b821a330c02ec812"
  },
  {
   "metadata": {},
   "cell_type": "code",
   "outputs": [],
   "execution_count": null,
   "source": [
    "# map()\n",
    "번호1, 번호2, 번호3, 번호4 = map(int, input().split(','))\n",
    "print(type(번호1), 번호2, 번호3, 번호4)"
   ],
   "id": "24fb63444971a62a"
  },
  {
   "metadata": {},
   "cell_type": "code",
   "outputs": [],
   "execution_count": null,
   "source": [
    "# 레거시 : 누군가 남겨두고 간 코드\n",
    "# 리펙토링 : 결과의 변경 없이 코드의 구조를 재조정하는 것입니다.\n",
    "# input()\n",
    "\n",
    "\n",
    "fish__p, fish__s, fish__j = '붕어빵(팥)', '붕어빵(슈크림)', '붕어빵(잡채)'\n",
    "price__p, price__s, price__j = 2000, 2500, 3000\n",
    "order__p, order__s, order__j = input('붕어빵(팥), 붕어빵(슈크림), 붕어빵(잡채)를 순서대로 개수를 입력하고 사지않는 붕어빵에는 0을 넣어줘').split(' ')\n",
    "total__fish = order__p + order__s + order__j\n",
    "total__price = price__p * order__p + price__s * order__s + price__j * order__j\n",
    "\n",
    "print(f'주문이 완료되었습니다. {fish__p} {order__p}개, {fish__s} {order__s}개, {fish__j} {order__j}개 총 {total__fish}개 결제 금액은 {total__price}원 입니다.')"
   ],
   "id": "d3df9b2eed186a75"
  },
  {
   "metadata": {},
   "cell_type": "code",
   "outputs": [],
   "execution_count": null,
   "source": [
    "# print 함수의 기능을 이용해 보겠습니다.\n",
    "\n",
    "print('초코칩', '민트', '샷추가', '휘핑크림')\n",
    "print('초코칩', '민트', '샷추가', '휘핑크림', sep = '/')\n",
    "print('초코칩', '민트', '샷추가', '휘핑크림', sep = ':')\n",
    "print('초코칩', '민트', '샷추가', '휘핑크림')\n",
    "print('초코칩', '민트', '샷추가', '휘핑크림', sep = '\\n')"
   ],
   "id": "4b8530f1fba25b07"
  },
  {
   "metadata": {},
   "cell_type": "code",
   "outputs": [],
   "execution_count": null,
   "source": [
    "# end 가로로 일렬로 정렬\n",
    "\n",
    "print('초코칩', '민트', '샷추가', '휘핑크림', end = ' ')\n",
    "print('초코칩', '민트', '샷추가', '휘핑크림', end = ' ')\n",
    "print('초코칩', '민트', '샷추가', '휘핑크림', end = ' ')"
   ],
   "id": "4fee70ae43d90ddd"
  }
 ],
 "metadata": {
  "kernelspec": {
   "display_name": "Python 3",
   "language": "python",
   "name": "python3"
  },
  "language_info": {
   "codemirror_mode": {
    "name": "ipython",
    "version": 2
   },
   "file_extension": ".py",
   "mimetype": "text/x-python",
   "name": "python",
   "nbconvert_exporter": "python",
   "pygments_lexer": "ipython2",
   "version": "2.7.6"
  }
 },
 "nbformat": 4,
 "nbformat_minor": 5
}
