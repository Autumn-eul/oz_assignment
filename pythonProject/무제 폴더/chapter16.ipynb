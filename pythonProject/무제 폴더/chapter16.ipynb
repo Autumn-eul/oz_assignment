{
 "cells": [
  {
   "metadata": {},
   "cell_type": "markdown",
   "source": [
    "### while 문 목차\n",
    "1. while 문 만들어보기\n",
    "2. while 문 코드의 흐름 보기\n",
    "3. while 문 조건식 증감\n",
    "4. while 문을 조심히 사용해야 하는 이유\n",
    "5. while 문보다 for 문이 강점인 부분\n",
    "6. continue, break\n",
    "7. while 문에도 else가 존재\n",
    "8. 붕어빵 인터네셔널은 내가 살린다\n",
    "9. 예제로 while 문 익혀보기\n"
   ],
   "id": "5186c4830f01371a"
  },
  {
   "cell_type": "code",
   "execution_count": null,
   "id": "initial_id",
   "metadata": {
    "collapsed": true
   },
   "outputs": [],
   "source": [
    "# 1. while 문 만들어보기\n",
    "\n",
    "i = 0\n",
    "while i < 10:\n",
    "    print('점점 성장하는')\n",
    "    i += 1"
   ]
  },
  {
   "metadata": {},
   "cell_type": "code",
   "outputs": [],
   "execution_count": null,
   "source": [
    "# 3. while 문 조건식 증감\n",
    "# 기본적인 증가 유형\n",
    "\n",
    "i = 1\n",
    "while i < 10:\n",
    "    print('이정도로', i)\n",
    "    i += 1\n",
    "\n",
    "# 기본적인 감소 유형\n",
    "i = 10\n",
    "while i > 0:\n",
    "    print('이정도로', i)\n",
    "    i -= 1"
   ],
   "id": "dd1ed94c9067bb2"
  },
  {
   "metadata": {},
   "cell_type": "code",
   "outputs": [],
   "execution_count": null,
   "source": [
    "# 4. while 문 조심히 사용해야하는 이유\n",
    "# 조건이 잘못 설정되면 무한 루프에 빠져 과도한 리소스 소모\n",
    "# 잘 사용하면 for 문보다 효율적\n",
    "\n",
    "# 무한 루프\n",
    "# while True:\n",
    "#     print(1)"
   ],
   "id": "f41e7d030974b641"
  },
  {
   "metadata": {},
   "cell_type": "code",
   "outputs": [],
   "execution_count": null,
   "source": [
    "# 5. while 문이 for 문보다 강점인 부분\n",
    "# 무수히 많이 실행해야 할 때\n",
    "\n",
    "import random\n",
    "\n",
    "# random.randint(1, 6)\n",
    "\n",
    "i = 0\n",
    "while i != 4:\n",
    "    i = random.randint(1, 6)\n",
    "    print(i)"
   ],
   "id": "d118a10046b6b36b"
  },
  {
   "metadata": {
    "ExecuteTime": {
     "end_time": "2024-10-19T06:40:18.665494Z",
     "start_time": "2024-10-19T06:40:18.660956Z"
    }
   },
   "cell_type": "code",
   "source": [
    "# 6. while 문에도 else 가 있어요\n",
    "\n",
    "양파 = 12\n",
    "while 양파 > 10:\n",
    "    print('양파', 양파, '개 남았습니다.')\n",
    "    if 양파 == 0:\n",
    "        break\n",
    "    양파 -= 1\n",
    "else:\n",
    "    print('양파 다 팔렸습니다.')"
   ],
   "id": "4c23df95b17d1c18",
   "outputs": [
    {
     "name": "stdout",
     "output_type": "stream",
     "text": [
      "양파 12 개 남았습니다.\n",
      "양파 11 개 남았습니다.\n",
      "양파 다 팔렸습니다.\n"
     ]
    }
   ],
   "execution_count": 10
  },
  {
   "metadata": {
    "ExecuteTime": {
     "end_time": "2024-10-19T06:37:51.034400Z",
     "start_time": "2024-10-19T06:37:51.029602Z"
    }
   },
   "cell_type": "code",
   "source": [
    "# 7. 반복문에 흐름을 제어하는 continue 와 break\n",
    "\n",
    "i = 0\n",
    "while True:\n",
    "    print(i)\n",
    "    i += 1\n",
    "    if i == 10:\n",
    "        break\n",
    "\n",
    "for i in range(10):\n",
    "    print(i)\n",
    "    if i == 10:\n",
    "        break"
   ],
   "id": "311b348764a11b55",
   "outputs": [
    {
     "name": "stdout",
     "output_type": "stream",
     "text": [
      "0\n",
      "1\n",
      "2\n",
      "3\n",
      "4\n",
      "5\n",
      "6\n",
      "7\n",
      "8\n",
      "9\n",
      "0\n",
      "1\n",
      "2\n",
      "3\n",
      "4\n",
      "5\n",
      "6\n",
      "7\n",
      "8\n",
      "9\n"
     ]
    }
   ],
   "execution_count": 7
  },
  {
   "metadata": {
    "ExecuteTime": {
     "end_time": "2024-10-19T06:36:46.204962Z",
     "start_time": "2024-10-19T06:36:46.171566Z"
    }
   },
   "cell_type": "code",
   "source": [
    "i = 0\n",
    "while i < 10:\n",
    "    i += 1\n",
    "    if i % 2 == 0:\n",
    "        continue\n",
    "    print(i)\n",
    "\n",
    "for i in range(10):\n",
    "    if i % 2 == 0:\n",
    "        continue\n",
    "    print(i)"
   ],
   "id": "cf38f577dfbb5aa4",
   "outputs": [
    {
     "name": "stdout",
     "output_type": "stream",
     "text": [
      "1\n",
      "3\n",
      "5\n",
      "7\n",
      "9\n",
      "1\n",
      "3\n",
      "5\n",
      "7\n",
      "9\n"
     ]
    }
   ],
   "execution_count": 4
  },
  {
   "metadata": {},
   "cell_type": "code",
   "outputs": [],
   "execution_count": null,
   "source": [
    "# 8. 붕어빵 인터내셔널은 내가 살린다\n",
    "# for 문을 이용해 리팩토링 해주세요\n",
    "# 잡담 게시판에 여러분의 코드를 자랑해 주세요."
   ],
   "id": "77eea8c7bd934c5"
  },
  {
   "metadata": {
    "ExecuteTime": {
     "end_time": "2024-10-18T02:15:48.694386Z",
     "start_time": "2024-10-18T02:15:48.674091Z"
    }
   },
   "cell_type": "code",
   "source": [
    "# 9. 예제로 while 문 익혀보기\n",
    "\n",
    "# 콜라츠하는 사람은 주어진 수가 1이 될 때까지 다음 작업을 반복하면, 모든 수를 1로 만들 수 있다고 추측했다.\n",
    "# 작업\n",
    "# 1-1. 입력된 수가 짝수라면 2로 나눈다.\n",
    "# 1-2. 입력된 수가 홀수라면 3을 곱하고 1을 더한다.\n",
    "# 위 결과로 나온 수에 같은 작업을 1이 될ㄷ 때 까지 반복한다.\n",
    "# 예를 들어, 입력된 수가 6 이라면, 6 -> 3 -> 10 -> 5 -> 16 -> 8 -> 4 -> 2 -> 1\n",
    "\n",
    "# num 변수에 있는 수를 1로 만드는데 몇번이나 작업을 반복해야하는지 출력한다."
   ],
   "id": "410a45d58e51cdae",
   "outputs": [],
   "execution_count": 1
  },
  {
   "metadata": {
    "ExecuteTime": {
     "end_time": "2024-10-18T02:17:15.669577Z",
     "start_time": "2024-10-18T02:17:15.662224Z"
    }
   },
   "cell_type": "code",
   "source": [
    "num = 7\n",
    "\n",
    "정답 = 0\n",
    "\n",
    "while num != 1:\n",
    "    if num % 2 == 0:\n",
    "        num = num / 2\n",
    "    else:\n",
    "        num = num * 3 + 1\n",
    "    정답 += 1\n",
    "    \n",
    "print(정답)"
   ],
   "id": "2eb1469fabb5be78",
   "outputs": [
    {
     "name": "stdout",
     "output_type": "stream",
     "text": [
      "16\n"
     ]
    }
   ],
   "execution_count": 3
  }
 ],
 "metadata": {
  "kernelspec": {
   "display_name": "Python 3",
   "language": "python",
   "name": "python3"
  },
  "language_info": {
   "codemirror_mode": {
    "name": "ipython",
    "version": 2
   },
   "file_extension": ".py",
   "mimetype": "text/x-python",
   "name": "python",
   "nbconvert_exporter": "python",
   "pygments_lexer": "ipython2",
   "version": "2.7.6"
  }
 },
 "nbformat": 4,
 "nbformat_minor": 5
}
