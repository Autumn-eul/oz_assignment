{
 "cells": [
  {
   "cell_type": "code",
   "execution_count": null,
   "id": "initial_id",
   "metadata": {
    "collapsed": true
   },
   "outputs": [],
   "source": [
    "# 주석은 이렇게 하는거다\n",
    "print(\"진짜 안보이는 거야?\")\n",
    "# print(\"신기하네?\")"
   ]
  },
  {
   "metadata": {},
   "cell_type": "code",
   "outputs": [],
   "execution_count": null,
   "source": [
    "# \"\"\" \"\"\" -> colab 에선 실행 안됨\n",
    "\n",
    "# print(\"진짜 안보이는 거야?\")\n",
    "# print(\"신기하네?\")"
   ],
   "id": "94b33b80bab31f15"
  },
  {
   "metadata": {
    "ExecuteTime": {
     "end_time": "2024-10-17T15:47:01.207922Z",
     "start_time": "2024-10-17T15:47:01.200206Z"
    }
   },
   "cell_type": "code",
   "source": [
    "for 동물 in (\"토끼\", \"라이언\", \"춘식이\", \"호랑이\"):\n",
    "    print(동물)\n",
    "    print(\"보러 갈래요?\")"
   ],
   "id": "8dcd45a62b06ee95",
   "outputs": [
    {
     "name": "stdout",
     "output_type": "stream",
     "text": [
      "토끼\n",
      "보러 갈래요?\n",
      "라이언\n",
      "보러 갈래요?\n",
      "춘식이\n",
      "보러 갈래요?\n",
      "호랑이\n",
      "보러 갈래요?\n"
     ]
    }
   ],
   "execution_count": 1
  },
  {
   "metadata": {},
   "cell_type": "code",
   "outputs": [],
   "execution_count": null,
   "source": [
    "for 동물 in (\"토끼\", \"라이언\", \"춘식이\", \"호랑이\"):\n",
    "    print(동물)\n",
    "print(\"보러 갈래요?\") # 들여쓰기의 중요성"
   ],
   "id": "d3136d1ec4c087b1"
  }
 ],
 "metadata": {
  "kernelspec": {
   "display_name": "Python 3",
   "language": "python",
   "name": "python3"
  },
  "language_info": {
   "codemirror_mode": {
    "name": "ipython",
    "version": 2
   },
   "file_extension": ".py",
   "mimetype": "text/x-python",
   "name": "python",
   "nbconvert_exporter": "python",
   "pygments_lexer": "ipython2",
   "version": "2.7.6"
  }
 },
 "nbformat": 4,
 "nbformat_minor": 5
}
