{
 "cells": [
  {
   "metadata": {},
   "cell_type": "markdown",
   "source": [
    "## 시퀀스 자료형\n",
    "* 문자열\n",
    "        * 시퀀스형에서 사용할 수 있는 메소드 (count(), index(), split() 등)\n",
    "        * 슬라이싱 ( [:], [::] )\n",
    "        * 요소들로 이루어져 가능한 기능들 (요소 합치기, 요소 찾기 등)\n",
    "* list\n",
    "        * 시퀀스형에서 사용할 수 있는 메소드 (count(), index(), split() 등)\n",
    "        * 슬라이싱 ( [:], [::] )\n",
    "        * 요소들로 이루어져 가능한 기능들 (요소 합치기, 요소 찾기 등)\n",
    "        * list 지원하는 다양한 메소드 (append(), insert(), del, sort(), reverse())\n",
    "* tuple\n",
    "        * 리스트처럼 요소를 일렬로 저장하지만 안에 저장된 요소를 변경, 추가, 삭제 할 수 없다.\n",
    "        * 값을 추가, 삭제, 변경할 수 없기 때문에 사용하지 못하는 메소드가 많다.\n",
    "        * tuple 의 생성 방법은 tuple = 값, 값 또는 tuple = (값, 값)\n",
    "        * 튜플은 소괄호 사용"
   ],
   "id": "22a8edac2e1f3fec"
  },
  {
   "cell_type": "code",
   "execution_count": null,
   "id": "initial_id",
   "metadata": {
    "collapsed": true
   },
   "outputs": [],
   "source": [
    "# 리스트 대괄호 [], 튜플은 소괄고 ()\n",
    "튜플 = (1, '이', 3.0)\n",
    "print(type(튜플))\n",
    "print(튜플)\n",
    "\n",
    "리스트 = [1, '이', 3.0]\n",
    "print(type(리스트))\n",
    "print(리스트)"
   ]
  },
  {
   "metadata": {},
   "cell_type": "code",
   "outputs": [],
   "execution_count": null,
   "source": [
    "튜플2 = 1, '이', 3.0\n",
    "print(type(튜플2))\n",
    "print(튜플2)\n",
    "\n",
    "# 하나의 값만 들어있는 튜플만 만들고 싶다면?\n",
    "튜플_솔로 = (1, )\n",
    "print(type(튜플_솔로))\n",
    "print(튜플_솔로)\n",
    "\n",
    "튜플_나는솔로 = (1)\n",
    "print(type(튜플_나는솔로))\n",
    "print(튜플_나는솔로)"
   ],
   "id": "3e6bd888d3d39269"
  },
  {
   "metadata": {},
   "cell_type": "code",
   "outputs": [],
   "execution_count": null,
   "source": [
    "# 값 추가, 삭제, 변경 불가\n",
    "print(튜플)\n",
    "print(dir(튜플))\n",
    "\n",
    "print(dir(list))"
   ],
   "id": "b5b5b7448a90136f"
  },
  {
   "metadata": {},
   "cell_type": "code",
   "outputs": [],
   "execution_count": null,
   "source": [
    "튜플_리스트화 = list(튜플)\n",
    "print(type(튜플_리스트화))"
   ],
   "id": "45e2170ffc50c4c2"
  },
  {
   "metadata": {},
   "cell_type": "code",
   "outputs": [],
   "execution_count": null,
   "source": [
    "# 정말로 값의 삽입, 삭제, 변경을 지원하지 않는지 확인\n",
    "튜플.append('두리안')\n",
    "pirnt(튜플)"
   ],
   "id": "3ee68f149d011d6"
  },
  {
   "metadata": {},
   "cell_type": "code",
   "outputs": [],
   "execution_count": null,
   "source": [
    "del 튜플[2]\n",
    "print(튜플)"
   ],
   "id": "a3106fb6fd688caf"
  },
  {
   "metadata": {},
   "cell_type": "code",
   "outputs": [],
   "execution_count": null,
   "source": [
    "튜플[1] = '너만 믿는다'\n",
    "print(튜플)"
   ],
   "id": "5252ce4b510f48a7"
  },
  {
   "metadata": {},
   "cell_type": "code",
   "outputs": [],
   "execution_count": null,
   "source": [
    "# 번외\n",
    "수강생 = '중꺽마'\n",
    "\n",
    "수강생_list = list(수강생)\n",
    "수강생_tuple = tuple(수강생)\n",
    "\n",
    "print(수강생_list)\n",
    "print(수강생_tuple)\n",
    "\n",
    "수강생_list[1] = '뿌'\n",
    "print(수강생_list)\n",
    "\n",
    "# join 함수 알고있으면 코딩 테스트에 좋다\n",
    "취뽀_수강생 = ''.join(수강생_list)\n",
    "print(취뽀_수강생)"
   ],
   "id": "94164ddcd6a0443b"
  },
  {
   "metadata": {},
   "cell_type": "code",
   "outputs": [],
   "execution_count": null,
   "source": [
    "# 공통점이 무엇인가?\n",
    "print(튜플)\n",
    "# 길이를 구할 수 있다\n",
    "len(튜플)\n",
    "# 곱하기 연산으로 요소를 복사 할 수 있다\n",
    "튜플 * 3\n",
    "# 튜플은 요소끼리 더할 수 있다\n",
    "튜플 + 튜플\n",
    "# 튜플은 인덱싱이 가능하다\n",
    "튜플[2]\n",
    "# 튜플의 인덱스\n",
    "튜플.index(3.0)\n",
    "# 튜플 요소의 개수\n",
    "튜플.count(1)\n",
    "# 슬라이싱이 가능하다\n",
    "튜플[1:3]"
   ],
   "id": "46e9753db8f0306e"
  },
  {
   "metadata": {},
   "cell_type": "markdown",
   "source": [
    "# tuple 왜 쓸까요?\n",
    "(여러분을 다른 수강생들 보다 더 돋보이게 만들어 줄 수 있어요)\n",
    "\n",
    "1. 3GO가 불가하기 때문입니다. (넣고, 삭제하고, 바꾸고)\n",
    "\n",
    "        여러명이 코딩을 하는 경우 변경되면 안되는 변수를 건드리는 경우\n",
    "        또는 값이 변경되면 안되는 중요한 데이터를 넣어서 보안적으로 관리하기 좋다\n",
    "        (은행계좌, 비밀번호 등)\n",
    "\n",
    "2. list 는 tuple 보다 무겁다.\n",
    "\n",
    "        단지 기능이 많아서 무거운 것이 아닙니다.\n",
    "        C 언어 기반으로 만들어진 파이썬은 동적 배열을 지원합니다.\n",
    "        - list = [1, 2, 3, 4] 생성해서 4개에 값을 모두 넣었습니다.\n",
    "        - 문제는 그 다음 값을 추가할 때 이미 공간이 다 찼기 때문에 추가 할당을 진행합니다.\n",
    "            추가 할당 시 메모리 크기는 4, 8, 16, 25.. 더블링을 해줍니다.\n",
    "\n",
    "3. list 는 가변, 튜플은 불변이다.\n",
    "        값이 고정되어야 하거나 크기가 작을 경우 튜플을 권장한다."
   ],
   "id": "c5362a945a9ac507"
  },
  {
   "metadata": {},
   "cell_type": "markdown",
   "source": [
    "* 가변객체와 불변객체\n",
    "* 파이썬 리스트의 동적배열\n",
    "* 자료구조 책 추천 (파이썬 클린코드)"
   ],
   "id": "ce5e203436bd70d"
  }
 ],
 "metadata": {
  "kernelspec": {
   "display_name": "Python 3",
   "language": "python",
   "name": "python3"
  },
  "language_info": {
   "codemirror_mode": {
    "name": "ipython",
    "version": 2
   },
   "file_extension": ".py",
   "mimetype": "text/x-python",
   "name": "python",
   "nbconvert_exporter": "python",
   "pygments_lexer": "ipython2",
   "version": "2.7.6"
  }
 },
 "nbformat": 4,
 "nbformat_minor": 5
}
