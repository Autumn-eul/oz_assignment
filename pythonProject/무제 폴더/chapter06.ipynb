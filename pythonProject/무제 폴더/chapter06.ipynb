{
 "cells": [
  {
   "metadata": {},
   "cell_type": "markdown",
   "source": [
    "변수 : 하나의 값을 저장할 수 있는 공간을 생성하는 것\n",
    "\n",
    "변수명을 만들 때 컨벤션\n",
    "\n",
    "변수를 표현하는 방법 : 스네이크, 카멜\n",
    "\n",
    "변수를 활용하여 다양한 문제"
   ],
   "id": "d07607fa7c82d9e9"
  },
  {
   "cell_type": "code",
   "execution_count": null,
   "id": "initial_id",
   "metadata": {
    "collapsed": true
   },
   "outputs": [],
   "source": [
    "# 1. int(integer) : 정수\n",
    "# 2. float(float) : 실수\n",
    "# 3. str(string) : 문자\n",
    "# 4. bool(bool, boolean) : 참 또는 거짓, true of false, 1 또는 0\n",
    "\n",
    "# 5. list\n",
    "# 6. tuple\n",
    "# 7. dict\n",
    "# 8. set"
   ]
  },
  {
   "metadata": {},
   "cell_type": "code",
   "outputs": [],
   "execution_count": null,
   "source": [
    "1.1 + 2\n",
    "\n",
    "4 / 2"
   ],
   "id": "ed32b158797e8531"
  },
  {
   "metadata": {},
   "cell_type": "code",
   "outputs": [],
   "execution_count": null,
   "source": [
    "# 정수 : 1, 2, 3, 4, -1, -2, -3\n",
    "# 실수 : 1.2, 3.3, 4.5\n",
    "\n",
    "9.0 + 2"
   ],
   "id": "a753f980d86d61b2"
  },
  {
   "metadata": {},
   "cell_type": "code",
   "outputs": [],
   "execution_count": null,
   "source": [
    "# box_num에 숫자만 넣자는 약속을 했는데 누군가 한글 표기법으로 숫자를 넣었습니다.\n",
    "\n",
    "box_num = '하나'\n",
    "box_num += 1\n",
    "print(box_num)"
   ],
   "id": "76365a2c57097d1e"
  }
 ],
 "metadata": {
  "kernelspec": {
   "display_name": "Python 3",
   "language": "python",
   "name": "python3"
  },
  "language_info": {
   "codemirror_mode": {
    "name": "ipython",
    "version": 2
   },
   "file_extension": ".py",
   "mimetype": "text/x-python",
   "name": "python",
   "nbconvert_exporter": "python",
   "pygments_lexer": "ipython2",
   "version": "2.7.6"
  }
 },
 "nbformat": 4,
 "nbformat_minor": 5
}
