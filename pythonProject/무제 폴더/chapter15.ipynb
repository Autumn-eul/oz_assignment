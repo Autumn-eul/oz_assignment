{
 "cells": [
  {
   "metadata": {},
   "cell_type": "markdown",
   "source": [
    "## for 문이란?\n",
    "* 프로그래밍 언어에서 반복되는 작업을 간단하게 처리하기 위해서 사용하는 기능"
   ],
   "id": "b04405fa739d4b0b"
  },
  {
   "cell_type": "code",
   "execution_count": null,
   "id": "initial_id",
   "metadata": {
    "collapsed": true
   },
   "outputs": [],
   "source": [
    "# 2. for 문으로 만들어보기\n",
    "# for 변수 in range(횟수):\n",
    "#   print()"
   ]
  },
  {
   "metadata": {},
   "cell_type": "code",
   "outputs": [],
   "execution_count": null,
   "source": [
    "# 3. for 문으로 만들어보기\n",
    "\n",
    "for i in range(5):\n",
    "    print('반복이 되네')"
   ],
   "id": "f30719e14dd6cc48"
  },
  {
   "metadata": {},
   "cell_type": "code",
   "outputs": [],
   "execution_count": null,
   "source": [
    "# 4. for 문의 흐름 확인\n",
    "# i : 루프 인덱스\n",
    "\n",
    "for i in range(5):\n",
    "    print('반복이 되네', i)"
   ],
   "id": "a66049e3477bd3ce"
  },
  {
   "metadata": {},
   "cell_type": "code",
   "outputs": [],
   "execution_count": null,
   "source": [
    "# 5. for 문에서 range() 함수 활용하기\n",
    "\n",
    "# for i in range(4, 10):\n",
    "#     print(i)\n",
    "\n",
    "for i in range(10, 4, -1):\n",
    "    print(i)"
   ],
   "id": "320eb87ccf81e1e4"
  },
  {
   "metadata": {},
   "cell_type": "code",
   "outputs": [],
   "execution_count": null,
   "source": [
    "# 6. for 문에서 시퀀스 객체로 반복하기\n",
    "\n",
    "과일 = ['두리안', '망고', '바나나', '멜론']\n",
    "\n",
    "# for i in 과일:\n",
    "#     print(i)\n",
    "\n",
    "# for i in '닥스훈트':\n",
    "#     print(i)\n",
    "\n",
    "for i in '닥스훈트':\n",
    "    print(i, end='') # 한 줄로 출력\n",
    "\n",
    "for i in reversed('닥스훈트'):\n",
    "    print(i, end='')"
   ],
   "id": "bee60e174189370e"
  },
  {
   "metadata": {},
   "cell_type": "code",
   "outputs": [],
   "execution_count": null,
   "source": [
    "# 7. 예제로 for 문 익혀보기\n",
    "# 문제 : 절대값 정수가 담긴 정수 변수와 그 정수의 부호를 차례로 담은 부호 변수가 있다.\n",
    "# 두 변수를 이용해 실제 정수의 합을 구하시오. (True : 양수, False : 음수)\n",
    "\n",
    "정수 = [10, 5, 8]\n",
    "부호 = [True, False, True]\n",
    "\n",
    "합 = 0\n",
    "\n",
    "for k, v in zip(부호, 정수):\n",
    "    if k:\n",
    "        합 += v\n",
    "    else:\n",
    "        합 -= v\n",
    "\n",
    "print(f'총 합은 {합}입니다.')"
   ],
   "id": "f26d5d2c83322cd"
  }
 ],
 "metadata": {
  "kernelspec": {
   "display_name": "Python 3",
   "language": "python",
   "name": "python3"
  },
  "language_info": {
   "codemirror_mode": {
    "name": "ipython",
    "version": 2
   },
   "file_extension": ".py",
   "mimetype": "text/x-python",
   "name": "python",
   "nbconvert_exporter": "python",
   "pygments_lexer": "ipython2",
   "version": "2.7.6"
  }
 },
 "nbformat": 4,
 "nbformat_minor": 5
}
