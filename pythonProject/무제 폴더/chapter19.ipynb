{
 "cells": [
  {
   "cell_type": "code",
   "id": "initial_id",
   "metadata": {
    "collapsed": true,
    "ExecuteTime": {
     "end_time": "2024-10-18T07:15:38.405307Z",
     "start_time": "2024-10-18T07:15:30.922548Z"
    }
   },
   "source": [
    "# 예외 코드 작성\n",
    "\n",
    "try:\n",
    "    x = int(input('나눌 숫자를 입력하세요.'))\n",
    "    y = 10 / x\n",
    "    print(y)\n",
    "except:\n",
    "    print(\"예외가 발생했습니다.\")"
   ],
   "outputs": [
    {
     "name": "stdout",
     "output_type": "stream",
     "text": [
      "예외가 발생했습니다.\n"
     ]
    }
   ],
   "execution_count": 4
  },
  {
   "metadata": {
    "ExecuteTime": {
     "end_time": "2024-10-18T07:20:35.561164Z",
     "start_time": "2024-10-18T07:20:30.387823Z"
    }
   },
   "cell_type": "code",
   "source": [
    "y = [10, 20, 30]\n",
    "try:\n",
    "    index, x = map(int, input(\"나눌 숫자를 입력하세요: \").split(','))\n",
    "    print(y[index]/x)\n",
    "except ZeroDivisionError: # 숫자를 0으로 나눌 수 없을 때의 에러를 처리함\n",
    "    print(\"숫자를 0으로 나눌 수 없습니다.\")\n",
    "except IndexError:\n",
    "    print(\"잘못된 인덱스입니다.\")"
   ],
   "id": "e8c4fd9e48a689fe",
   "outputs": [
    {
     "name": "stdout",
     "output_type": "stream",
     "text": [
      "잘못된 인덱스 입니다.\n"
     ]
    }
   ],
   "execution_count": 8
  },
  {
   "metadata": {
    "ExecuteTime": {
     "end_time": "2024-10-18T07:22:29.264409Z",
     "start_time": "2024-10-18T07:22:24.705382Z"
    }
   },
   "cell_type": "code",
   "source": [
    "try:\n",
    "    x = int(input('나눌 숫자를 입력하세요.'))\n",
    "    y = 10 / x\n",
    "    print(y)\n",
    "except:\n",
    "    print(\"예외가 발생했습니다.\")\n",
    "else:\n",
    "    print(y, \"성공하셨습니다.\")"
   ],
   "id": "3a5a31b4e73b99b2",
   "outputs": [
    {
     "name": "stdout",
     "output_type": "stream",
     "text": [
      "3.3333333333333335\n",
      "3.3333333333333335 성공하셨습니다.\n"
     ]
    }
   ],
   "execution_count": 12
  },
  {
   "metadata": {
    "ExecuteTime": {
     "end_time": "2024-10-18T07:23:45.144520Z",
     "start_time": "2024-10-18T07:23:41.579617Z"
    }
   },
   "cell_type": "code",
   "source": [
    "try:\n",
    "    x = int(input('나눌 숫자를 입력하세요.'))\n",
    "    y = 10 / x\n",
    "    # raise # 임의로 에러를 발생하게 할 수 있음\n",
    "    print(y)\n",
    "except:\n",
    "    print(\"예외가 발생했습니다.\")\n",
    "else:\n",
    "    print(y, \"성공하셨습니다.\")\n",
    "finally: # 어떤 조건과 상관없이 무조건 실행\n",
    "    print(\"코드 실행이 종료되었습니다.\")"
   ],
   "id": "800b1aab5468045e",
   "outputs": [
    {
     "name": "stdout",
     "output_type": "stream",
     "text": [
      "3.3333333333333335\n",
      "3.3333333333333335 성공하셨습니다.\n",
      "코드 실행이 종료되었습니다.\n"
     ]
    }
   ],
   "execution_count": 13
  }
 ],
 "metadata": {
  "kernelspec": {
   "display_name": "Python 3",
   "language": "python",
   "name": "python3"
  },
  "language_info": {
   "codemirror_mode": {
    "name": "ipython",
    "version": 2
   },
   "file_extension": ".py",
   "mimetype": "text/x-python",
   "name": "python",
   "nbconvert_exporter": "python",
   "pygments_lexer": "ipython2",
   "version": "2.7.6"
  }
 },
 "nbformat": 4,
 "nbformat_minor": 5
}
