{
 "cells": [
  {
   "cell_type": "markdown",
   "metadata": {
    "id": "aLkxKxnFLowa"
   },
   "source": [
    "안녕하세요. 수강생 여러분~! Chapter17 ~ 20 수업은 잘 들으셨나요?\n",
    "\n",
    "Chapter17 ~ 20의 수업 내용을 바탕으로 아래 문제를 풀어주시면 됩니다.\n",
    "\n",
    "[**답변 입력 방법**]\n",
    "\n",
    "문제 아래에 있는 코드 입력창에 정답코드를 작성하신 후 ▷ 버튼을 클릭해 코드를 실행해보세요<br>"
   ]
  },
  {
   "cell_type": "markdown",
   "metadata": {
    "id": "pYJ1dSggLwcG"
   },
   "source": [
    "[문제1]\n",
    "\n",
    "print_even 리스트 내에 있는 값 중 짝수만 화면에 출력되도록 print_score 함수를 생성 후 결과값을 출력해주세요\n",
    "\n",
    "print_even ([1, 3, 2, 10, 12, 11, 15])"
   ]
  },
  {
   "cell_type": "code",
   "metadata": {
    "id": "PTqEeebbLmCA",
    "ExecuteTime": {
     "end_time": "2024-10-19T09:30:55.962621Z",
     "start_time": "2024-10-19T09:30:55.957643Z"
    }
   },
   "source": [
    "print_even = [1, 3, 2, 10, 12, 11, 15]\n",
    "\n",
    "def print_score():\n",
    "    i = 0\n",
    "    while i < len(print_even):\n",
    "        if print_even[i] % 2 == 0:\n",
    "            print(print_even[i])\n",
    "        i += 1\n",
    "            \n",
    "print_score()"
   ],
   "outputs": [
    {
     "name": "stdout",
     "output_type": "stream",
     "text": [
      "2\n",
      "10\n",
      "12\n"
     ]
    }
   ],
   "execution_count": 22
  },
  {
   "cell_type": "markdown",
   "metadata": {},
   "source": [
    "---"
   ]
  },
  {
   "cell_type": "markdown",
   "metadata": {
    "id": "ZkGserEsQS0L"
   },
   "source": [
    "[문제2]\n",
    "\n",
    "비어있는 오즈 (oz) 클래스를 \"정의\" 해보세요."
   ]
  },
  {
   "cell_type": "code",
   "metadata": {
    "id": "dJbcWWlwL0iK",
    "ExecuteTime": {
     "end_time": "2024-10-22T08:11:54.809110Z",
     "start_time": "2024-10-22T08:11:54.791573Z"
    }
   },
   "source": [
    "class oz:\n",
    "    pass"
   ],
   "outputs": [],
   "execution_count": 1
  },
  {
   "cell_type": "markdown",
   "metadata": {},
   "source": [
    "---"
   ]
  },
  {
   "cell_type": "markdown",
   "metadata": {
    "id": "Ofy86rZfL1Mg"
   },
   "source": [
    "[문제3]\n",
    "\n",
    "오즈(oz) 클래스의 인스턴스를 \"생성\" 하고 이를 coding 변수로 할당해보세요."
   ]
  },
  {
   "cell_type": "code",
   "execution_count": null,
   "metadata": {
    "id": "5NhWiuULL2Xa"
   },
   "outputs": [],
   "source": [
    "class oz:\n",
    "    \n",
    "coding = oz()"
   ]
  },
  {
   "cell_type": "markdown",
   "metadata": {},
   "source": [
    "---"
   ]
  },
  {
   "cell_type": "markdown",
   "metadata": {
    "id": "5T6EMx8EL26b"
   },
   "source": [
    "[문제4]\n",
    "\n",
    "오즈(oz) 클래스에 \"클래스 정복\"을 출력하는 기본 생성자를 추가해주세요"
   ]
  },
  {
   "cell_type": "code",
   "metadata": {
    "id": "Zq35PXA0L3-m",
    "ExecuteTime": {
     "end_time": "2024-10-19T09:38:55.913396Z",
     "start_time": "2024-10-19T09:38:55.909313Z"
    }
   },
   "source": [
    "class oz:\n",
    "    def __init__(self):\n",
    "        print(\"클래스 정복\")\n",
    "        \n",
    "coding = oz()"
   ],
   "outputs": [
    {
     "name": "stdout",
     "output_type": "stream",
     "text": [
      "클래스 정복\n"
     ]
    }
   ],
   "execution_count": 25
  },
  {
   "cell_type": "markdown",
   "metadata": {},
   "source": [
    "---"
   ]
  },
  {
   "cell_type": "markdown",
   "metadata": {
    "id": "htuycQWSL4l-"
   },
   "source": [
    "[문제5]\n",
    "\n",
    "오즈 (oz) 클래스에 (이름, 나이, 코딩레벨)을 받는 생성자를 추가해주세요\n",
    "\n",
    "coding = oz(\"김코\", 30, \"A\")\n"
   ]
  },
  {
   "cell_type": "code",
   "metadata": {
    "id": "A7h3I8CWL5ox",
    "ExecuteTime": {
     "end_time": "2024-10-19T09:40:22.332311Z",
     "start_time": "2024-10-19T09:40:22.328252Z"
    }
   },
   "source": [
    "class oz:\n",
    "    def __init__(self, name, age, level):\n",
    "        self.name = name\n",
    "        self.age = age\n",
    "        self.level = level\n",
    "        \n",
    "coding = oz(\"김코딩\", 30, \"A\")"
   ],
   "outputs": [],
   "execution_count": 26
  },
  {
   "cell_type": "markdown",
   "metadata": {},
   "source": [
    "---"
   ]
  },
  {
   "cell_type": "markdown",
   "metadata": {
    "id": "ZGDLHI5xL6Bd"
   },
   "source": [
    "[문제6]\n",
    "\n",
    "5번 문제에서 생성한 인스턴스의 이름, 나이, 성별을 출력해주세요.\n",
    "인스턴스 변수에 접근하여 값을 출력하면 됩니다  : )\n",
    "\n",
    "출력 결과  \n",
    "이름 : 김코  \n",
    "나이 : 30  \n",
    "코딩레벨 : A  "
   ]
  },
  {
   "cell_type": "code",
   "metadata": {
    "id": "qCrPejI_L8Wr",
    "ExecuteTime": {
     "end_time": "2024-10-19T09:42:15.346024Z",
     "start_time": "2024-10-19T09:42:15.341466Z"
    }
   },
   "source": [
    "print(\"이름 :\", coding.name)\n",
    "print(\"나이 :\", coding.age)\n",
    "print(\"코딩레벨 :\", coding.level)"
   ],
   "outputs": [
    {
     "name": "stdout",
     "output_type": "stream",
     "text": [
      "이름 : 김코딩\n",
      "나이 : 30\n",
      "코딩레벨 : A\n"
     ]
    }
   ],
   "execution_count": 27
  },
  {
   "cell_type": "markdown",
   "metadata": {},
   "source": [
    "---"
   ]
  },
  {
   "cell_type": "markdown",
   "metadata": {
    "id": "RmtPk-A1L8z4"
   },
   "source": [
    "[뮨제7]\n",
    "\n",
    "오즈 (oz) 클래스에서 이름, 나이, 성별을 출력하는 who() 메소드를 추가하고 who()메소드를 이용해 아래 출력 결과를 만들어주세요\n",
    "\n",
    "\n",
    "출력 결과 : 이름: 김코, 나이: 30, 코딩레벨: A"
   ]
  },
  {
   "cell_type": "code",
   "metadata": {
    "id": "fvrvm87vL_HZ",
    "ExecuteTime": {
     "end_time": "2024-10-19T09:48:12.583754Z",
     "start_time": "2024-10-19T09:48:12.578224Z"
    }
   },
   "source": [
    "class oz:\n",
    "    def __init__(self, name, age, level):\n",
    "        self.name = name\n",
    "        self.age = age\n",
    "        self.level = level\n",
    "        \n",
    "    def who(self):\n",
    "        print(f\"이름 : {self.name}\\n나이 : {self.age}\\n코딩레벨 : {self.level}\")\n",
    "        \n",
    "coding = oz(\"김코딩\", 30, \"A\")\n",
    "coding.who()"
   ],
   "outputs": [
    {
     "name": "stdout",
     "output_type": "stream",
     "text": [
      "이름 : 김코딩\n",
      "나이 : 30\n",
      "코딩레벨 : A\n"
     ]
    }
   ],
   "execution_count": 31
  },
  {
   "cell_type": "markdown",
   "metadata": {},
   "source": [
    "#### 리팩토링 과제\n",
    "\n",
    "Day4에서 만든 \"붕어빵 자동 판매 시스템\"은 절차적 코드로 구현되어있습니다.\n",
    "\n",
    "Day5에서 배운 함수, 클래스 개념을 적용시켜 객체지향적으로 리팩토링을 진행해주세요\n"
   ]
  },
  {
   "cell_type": "code",
   "execution_count": null,
   "metadata": {},
   "outputs": [],
   "source": [
    "# 리팩토링 과제 힌트\n",
    "# 구조는 아래와 같습니다.\n",
    "class BungeoppangShop:\n",
    "    def __init__(self):\n",
    "\n",
    "    def check_stock(self):\n",
    "\n",
    "    def process_order(self, bread_type, bread_count):\n",
    "\n",
    "    def admin_mode(self):\n",
    "\n",
    "    def calculate_total_sales(self):\n",
    "\n",
    "def main():\n",
    "\n",
    "if __name__ == \"__main__\":\n",
    "    main()\n"
   ]
  },
  {
   "cell_type": "markdown",
   "metadata": {},
   "source": [
    "과제_1: BungeoppangShop 클래스 만들기\n",
    "\n",
    "- __init__: 초기 재고, 가격, 판매량을 설정합니다.\n",
    "- check_stock: 현재 재고를 출력합니다.\n",
    "- process_order: 주문을 처리하고 재고를 업데이트합니다.\n",
    "- admin_mode: 관리자 모드에서 재고를 추가합니다.\n",
    "- calculate_total_sales: 총 매출을 계산하고 출력합니다."
   ]
  },
  {
   "cell_type": "code",
   "metadata": {
    "ExecuteTime": {
     "end_time": "2024-10-19T10:17:56.759595Z",
     "start_time": "2024-10-19T10:17:56.754633Z"
    }
   },
   "source": [
    "class BungeoppangShop:\n",
    "    def __init__(self):\n",
    "        \n",
    "    def check_stock(self):\n",
    "\n",
    "    def process_order(self, bread_type, bread_count):\n",
    "        \n",
    "    def admin_mode(self):\n",
    "\n",
    "    def calculate_total_sales(self):\n",
    "\n",
    "def main():\n",
    "\n",
    "if __name__ == \"__main__\":\n",
    "    main()"
   ],
   "outputs": [
    {
     "ename": "IndentationError",
     "evalue": "expected an indented block (136644771.py, line 4)",
     "output_type": "error",
     "traceback": [
      "\u001B[0;36m  Cell \u001B[0;32mIn[33], line 4\u001B[0;36m\u001B[0m\n\u001B[0;31m    def check_stock(self):\u001B[0m\n\u001B[0m    ^\u001B[0m\n\u001B[0;31mIndentationError\u001B[0m\u001B[0;31m:\u001B[0m expected an indented block\n"
     ]
    }
   ],
   "execution_count": 33
  },
  {
   "cell_type": "markdown",
   "metadata": {},
   "source": [
    "[과제 2: 초기화 메서드 __init__]\n",
    "\n",
    "목표: __init__ 메서드를 구현하여 붕어빵 가게의 초기 재고, 가격, 판매량을 설정합니다.\n",
    "\n",
    "설명: self.stock, self.prices, self.sales 딕셔너리를 초기화하세요.\n",
    "- stock \n",
    "    - \"팥붕어빵\": 10\n",
    "    - \"슈크림붕어빵\": 8\n",
    "    - \"초코붕어빵\": 5\n",
    "\n",
    "- prices\n",
    "    - \"팥붕어빵\": 1000\n",
    "    - \"슈크림붕어빵\": 1200\n",
    "    - \"초코붕어빵\": 1500\n",
    "\n",
    "- sales\n",
    "    - \"팥붕어빵\": 0,\n",
    "    - \"슈크림붕어빵\": 0,\n",
    "    - \"초코붕어빵\": 0"
   ]
  },
  {
   "cell_type": "code",
   "metadata": {
    "ExecuteTime": {
     "end_time": "2024-10-19T10:19:03.228474Z",
     "start_time": "2024-10-19T10:19:03.224006Z"
    }
   },
   "source": [
    "class BungeoppangShop:\n",
    "    def __init__(self): # 초기 재고, 가격 설정, 판매량 초기화\n",
    "        self.stock = {\"팥\" : 10,\n",
    "                      \"슈크림\" : 8,\n",
    "                      \"초코\" : 5} # 초기 재고량 설정\n",
    "        \n",
    "        self.prices = {\"팥\" : 1000,\n",
    "                       \"슈크림\" : 1200,\n",
    "                       \"초코\" : 1500} # 붕어빵 가격 설정\n",
    "        \n",
    "        self.sales = {\"팥\" : 0,\n",
    "                      \"슈크림\" : 0,\n",
    "                      \"초코\" : 0} # 판매량 초기화"
   ],
   "outputs": [],
   "execution_count": 34
  },
  {
   "cell_type": "markdown",
   "metadata": {},
   "source": [
    "[과제 3: 재고 확인 메서드 check_stock]\n",
    "\n",
    "목표: check_stock 함수를 구현하여 현재 붕어빵 재고를 출력합니다.\n",
    "\n",
    "설명: self.stock 딕셔너리를 순회하며 각 붕어빵의 종류와 재고를 출력하세요.\n"
   ]
  },
  {
   "cell_type": "code",
   "metadata": {
    "ExecuteTime": {
     "end_time": "2024-10-19T10:37:49.356706Z",
     "start_time": "2024-10-19T10:37:49.351641Z"
    }
   },
   "source": [
    "class BungeoppangShop:\n",
    "    def __init__(self): # 초기 재고, 가격 설정, 판매량 초기화\n",
    "        self.stock = {\"팥\" : 10,\n",
    "                      \"슈크림\" : 8,\n",
    "                      \"초코\" : 5} # 초기 재고량 설정\n",
    "        \n",
    "        self.prices = {\"팥\" : 1000,\n",
    "                       \"슈크림\" : 1200,\n",
    "                       \"초코\" : 1500} # 붕어빵 가격 설정\n",
    "        \n",
    "        self.sales = {\"팥\" : 0,\n",
    "                      \"슈크림\" : 0,\n",
    "                      \"초코\" : 0} # 판매량 초기화\n",
    "        \n",
    "    def check_stock(self): # 현재 재고 체크 함수\n",
    "        print(f'현재 재고\\n팥 붕어빵 : {self.stock[\"팥\"]}개\\n슈크림 붕어빵 : {self.stock[\"슈크림\"]}개\\n초코 붕어빵 : {self.stock[\"초코\"]}개') # 현재 재고 출력"
   ],
   "outputs": [],
   "execution_count": 35
  },
  {
   "cell_type": "markdown",
   "metadata": {},
   "source": [
    "[과제 4: 주문 처리 메서드 process_order]\n",
    "\n",
    "목표: process_order 함수를 구현하여 손님의 주문을 처리하고 재고를 업데이트합니다.\n",
    "\n",
    "설명: bread_type과 bread_count를 매개변수로 받아, 재고를 확인하고 충분한 경우 재고를 감소시키고 판매량을 증가시킵니다. 재고가 부족하거나 잘못된 붕어빵 종류인 경우 적절한 메시지를 출력하세요."
   ]
  },
  {
   "cell_type": "code",
   "metadata": {
    "ExecuteTime": {
     "end_time": "2024-10-19T11:01:12.817953Z",
     "start_time": "2024-10-19T11:01:12.802074Z"
    }
   },
   "source": [
    "class BungeoppangShop:\n",
    "    def __init__(self): # 초기 재고, 가격 설정, 판매량 초기화\n",
    "        self.stock = {\"팥\" : 10,\n",
    "                      \"슈크림\" : 8,\n",
    "                      \"초코\" : 5} # 초기 재고량 설정\n",
    "        \n",
    "        self.prices = {\"팥\" : 1000,\n",
    "                       \"슈크림\" : 1200,\n",
    "                       \"초코\" : 1500} # 붕어빵 가격 설정\n",
    "        \n",
    "        self.sales = {\"팥\" : 0,\n",
    "                      \"슈크림\" : 0,\n",
    "                      \"초코\" : 0} # 판매량 초기화\n",
    "        \n",
    "    def check_stock(self): # 현재 재고 체크 함수\n",
    "        print(f'현재 재고\\n팥 붕어빵 : {self.stock[\"팥\"]}개\\n슈크림 붕어빵 : {self.stock[\"슈크림\"]}개\\n초코 붕어빵 : {self.stock[\"초코\"]}개') # 현재 재고 출력\n",
    "        \n",
    "    def process_order(self, bread_type, bread_count): # 주문을 입력받고 재고를 업데이트\n",
    "        self.bread_type = bread_type\n",
    "        self.bread_count = bread_count\n",
    "        \n",
    "        order = {}\n",
    "        while True:\n",
    "            # 주문 종류 초기화\n",
    "            bread_type = ''\n",
    "            \n",
    "            # 주문 종류 입력\n",
    "            bread_type = input(\"주문하실 붕어빵의 종류를 입력해주세요. (팥, 슈크림, 초코)\\n주문을 마치려면 '종료'를 입력해주세요.\")\n",
    "            \n",
    "            # 종료 조건\n",
    "            if self.bread_type == \"종료\":\n",
    "                print(\"모든 주문이 완료되었습니다. 이용해주셔서 감사합니다.\")\n",
    "                break\n",
    "                \n",
    "            # 이전 주문 초기화\n",
    "            bread_count = 0\n",
    "            \n",
    "            # 주문 수량 입력\n",
    "            bread_count = int(input('주문하실 붕어빵의 수량을 입력해주세요.'))\n",
    "            order[bread_type] = bread_count\n",
    "            \n",
    "            # 붕어빵 종류에 따라 재고 확인\n",
    "            if bread_type == \"팥\":\n",
    "                if self.stock[\"팥\"] >= order[bread_type]:\n",
    "                    print(f'{bread_type} 붕어빵 {order[bread_type]}개가 판매 완료 되었습니다.') # 구매한 종류와 수량 출력\n",
    "                    self.stock[\"팥\"] -= order[bread_type] # 재고 감소\n",
    "                    self.sales[\"팥\"] += order[bread_type] # 판매량 업데이트\n",
    "                else: # 재고량이 주문량보다 적을 때 재고량 만큼만 구매할 의사가 있는지 질문\n",
    "                    answer = input(f'죄송합니다. 현재 {bread_type} 붕어빵의 재고가 {self.stock[\"팥\"]}개 입니다. {self.stock[\"팥\"]}개만 구매하시겠습니까? (예/아니오)')\n",
    "                    if answer == \"예\":\n",
    "                        print(f'{bread_type} 붕어빵 {order[bread_type]}개가 판매 완료 되었습니다.') # 구매한 종류와 수량 출력\n",
    "                        self.stock[\"팥\"] -= order[bread_type] # 재고 감소\n",
    "                        self.sales[\"팥\"] += order[bread_type] # 판매량 업데이트\n",
    "                    else:\n",
    "                        print(f'현재 {bread_type} 붕어빵의 재고가 부족하여 주문이 어렵습니다. 다른 붕어빵을 골라주세요.')\n",
    "                        break\n",
    "                        \n",
    "            elif bread_type == \"슈크림\":\n",
    "                if self.stock[\"슈크림\"] >= order[bread_type]:\n",
    "                    print(f'{bread_type} 붕어빵 {order[bread_type]}개가 판매 완료 되었습니다.') # 구매한 종류와 수량 출력\n",
    "                    self.stock[\"슈크림\"] -= order[bread_type] # 재고 감소\n",
    "                    self.sales[\"슈크림\"] += order[bread_type] # 판매량 업데이트\n",
    "                else: # 재고량이 주문량보다 적을 때 재고량 만큼만 구매할 의사가 있는지 질문\n",
    "                    answer = input(f'죄송합니다. 현재 {bread_type} 붕어빵의 재고가 {self.stock[\"슈크림\"]}개 입니다. {self.stock[\"슈크림\"]}개만 구매하시겠습니까? (예/아니오)')\n",
    "                    if answer == \"예\":\n",
    "                        print(f'{bread_type} 붕어빵 {order[bread_type]}개가 판매 완료 되었습니다.') # 구매한 종류와 수량 출력\n",
    "                        self.stock[\"슈크림\"] -= order[bread_type] # 재고 감소\n",
    "                        self.sales[\"슈크림\"] += order[bread_type] # 판매량 업데이트\n",
    "                    else:\n",
    "                        print(f'현재 {bread_type} 붕어빵의 재고가 부족하여 주문이 어렵습니다. 다른 붕어빵을 골라주세요.')\n",
    "                        break\n",
    "                    \n",
    "            elif bread_type == \"초코\":\n",
    "                if self.stock[\"초코\"] >= order[bread_type]:\n",
    "                    print(f'{bread_type} 붕어빵 {order[bread_type]}개가 판매 완료 되었습니다.') # 구매한 종류와 수량 출력\n",
    "                    self.stock[\"초코\"] -= order[bread_type] # 재고 감소\n",
    "                    self.sales[\"초코\"] += order[bread_type] # 판매량 업데이트\n",
    "                else: # 재고량이 주문량보다 적을 때 재고량 만큼만 구매할 의사가 있는지 질문\n",
    "                    answer = input(f'죄송합니다. 현재 {bread_type} 붕어빵의 재고가 {self.stock[\"초코\"]}개 입니다. {self.stock[\"초코\"]}개만 구매하시겠습니까? (예/아니오)')\n",
    "                    if answer == \"예\":\n",
    "                        print(f'{bread_type} 붕어빵 {order[bread_type]}개가 판매 완료 되었습니다.') # 구매한 종류와 수량 출력\n",
    "                        self.stock[\"초코\"] -= order[bread_type] # 재고 감소\n",
    "                        self.sales[\"초코\"] += order[bread_type] # 판매량 업데이트\n",
    "                    else:\n",
    "                        print(f'현재 {bread_type} 붕어빵의 재고가 부족하여 주문이 어렵습니다. 다른 붕어빵을 골라주세요.')\n",
    "                        break\n",
    "                    \n",
    "            else:\n",
    "                print(\"잘못 입력하셨습니다. 다시 입력해 주세요.\") # 잘못된 입력 처리"
   ],
   "outputs": [],
   "execution_count": 37
  },
  {
   "cell_type": "markdown",
   "metadata": {},
   "source": [
    "[과제 5: 관리자 모드 메서드 admin_mode]\n",
    "\n",
    "목표: admin_mode 메서드를 구현하여 관리자 모드에서 재고를 추가할 수 있도록 합니다.\n",
    "\n",
    "설명: bread_type과 additional_stock을 입력받아 재고를 추가합니다. 잘못된 입력 값이 들어온 경우 적절한 메시지를 출력하세요."
   ]
  },
  {
   "cell_type": "code",
   "metadata": {
    "ExecuteTime": {
     "end_time": "2024-10-19T11:40:38.284075Z",
     "start_time": "2024-10-19T11:40:38.265419Z"
    }
   },
   "source": [
    "class BungeoppangShop:\n",
    "    def __init__(self): # 초기 재고, 가격 설정, 판매량 초기화\n",
    "        self.stock = {\"팥\" : 10,\n",
    "                      \"슈크림\" : 8,\n",
    "                      \"초코\" : 5} # 초기 재고량 설정\n",
    "        \n",
    "        self.prices = {\"팥\" : 1000,\n",
    "                       \"슈크림\" : 1200,\n",
    "                       \"초코\" : 1500} # 붕어빵 가격 설정\n",
    "        \n",
    "        self.sales = {\"팥\" : 0,\n",
    "                      \"슈크림\" : 0,\n",
    "                      \"초코\" : 0} # 판매량 초기화\n",
    "        \n",
    "    def check_stock(self): # 현재 재고 체크 함수\n",
    "        print(f'현재 재고\\n팥 붕어빵 : {self.stock[\"팥\"]}개\\n슈크림 붕어빵 : {self.stock[\"슈크림\"]}개\\n초코 붕어빵 : {self.stock[\"초코\"]}개') # 현재 재고 출력\n",
    "        \n",
    "    def process_order(self, bread_type, bread_count): # 주문을 입력받고 재고를 업데이트\n",
    "        self.bread_type = bread_type\n",
    "        self.bread_count = bread_count\n",
    "        \n",
    "        order = {}\n",
    "        while True:\n",
    "            # 주문 종류 초기화\n",
    "            bread_type = ''\n",
    "            \n",
    "            # 주문 종류 입력\n",
    "            bread_type = input(\"주문하실 붕어빵의 종류를 입력해주세요. (팥, 슈크림, 초코)\\n주문을 마치려면 '종료'를 입력해주세요.\")\n",
    "            \n",
    "            # 종료 조건\n",
    "            if self.bread_type == \"종료\":\n",
    "                print(\"모든 주문이 완료되었습니다. 이용해주셔서 감사합니다.\")\n",
    "                break\n",
    "                \n",
    "            # 이전 주문 초기화\n",
    "            bread_count = 0\n",
    "            \n",
    "            # 주문 수량 입력\n",
    "            bread_count = int(input('주문하실 붕어빵의 수량을 입력해주세요.'))\n",
    "            order[bread_type] = bread_count\n",
    "            \n",
    "            # 붕어빵 종류에 따라 재고 확인\n",
    "            if bread_type == \"팥\":\n",
    "                if self.stock[\"팥\"] >= order[bread_type]:\n",
    "                    print(f'{bread_type} 붕어빵 {order[bread_type]}개가 판매 완료 되었습니다.') # 구매한 종류와 수량 출력\n",
    "                    self.stock[\"팥\"] -= order[bread_type] # 재고 감소\n",
    "                    self.sales[\"팥\"] += order[bread_type] # 판매량 업데이트\n",
    "                else: # 재고량이 주문량보다 적을 때 재고량 만큼만 구매할 의사가 있는지 질문\n",
    "                    answer = input(f'죄송합니다. 현재 {bread_type} 붕어빵의 재고가 {self.stock[\"팥\"]}개 입니다. {self.stock[\"팥\"]}개만 구매하시겠습니까? (예/아니오)')\n",
    "                    if answer == \"예\":\n",
    "                        print(f'{bread_type} 붕어빵 {order[bread_type]}개가 판매 완료 되었습니다.') # 구매한 종류와 수량 출력\n",
    "                        self.stock[\"팥\"] -= order[bread_type] # 재고 감소\n",
    "                        self.sales[\"팥\"] += order[bread_type] # 판매량 업데이트\n",
    "                    else:\n",
    "                        print(f'현재 {bread_type} 붕어빵의 재고가 부족하여 주문이 어렵습니다. 다른 붕어빵을 골라주세요.')\n",
    "                        \n",
    "            elif bread_type == \"슈크림\":\n",
    "                if self.stock[\"슈크림\"] >= order[bread_type]:\n",
    "                    print(f'{bread_type} 붕어빵 {order[bread_type]}개가 판매 완료 되었습니다.') # 구매한 종류와 수량 출력\n",
    "                    self.stock[\"슈크림\"] -= order[bread_type] # 재고 감소\n",
    "                    self.sales[\"슈크림\"] += order[bread_type] # 판매량 업데이트\n",
    "                else: # 재고량이 주문량보다 적을 때 재고량 만큼만 구매할 의사가 있는지 질문\n",
    "                    answer = input(f'죄송합니다. 현재 {bread_type} 붕어빵의 재고가 {self.stock[\"슈크림\"]}개 입니다. {self.stock[\"슈크림\"]}개만 구매하시겠습니까? (예/아니오)')\n",
    "                    if answer == \"예\":\n",
    "                        print(f'{bread_type} 붕어빵 {order[bread_type]}개가 판매 완료 되었습니다.') # 구매한 종류와 수량 출력\n",
    "                        self.stock[\"슈크림\"] -= order[bread_type] # 재고 감소\n",
    "                        self.sales[\"슈크림\"] += order[bread_type] # 판매량 업데이트\n",
    "                    else:\n",
    "                        print(f'현재 {bread_type} 붕어빵의 재고가 부족하여 주문이 어렵습니다. 다른 붕어빵을 골라주세요.')\n",
    "                    \n",
    "            elif bread_type == \"초코\":\n",
    "                if self.stock[\"초코\"] >= order[bread_type]:\n",
    "                    print(f'{bread_type} 붕어빵 {order[bread_type]}개가 판매 완료 되었습니다.') # 구매한 종류와 수량 출력\n",
    "                    self.stock[\"초코\"] -= order[bread_type] # 재고 감소\n",
    "                    self.sales[\"초코\"] += order[bread_type] # 판매량 업데이트\n",
    "                else: # 재고량이 주문량보다 적을 때 재고량 만큼만 구매할 의사가 있는지 질문\n",
    "                    answer = input(f'죄송합니다. 현재 {bread_type} 붕어빵의 재고가 {self.stock[\"초코\"]}개 입니다. {self.stock[\"초코\"]}개만 구매하시겠습니까? (예/아니오)')\n",
    "                    if answer == \"예\":\n",
    "                        print(f'{bread_type} 붕어빵 {order[bread_type]}개가 판매 완료 되었습니다.') # 구매한 종류와 수량 출력\n",
    "                        self.stock[\"초코\"] -= order[bread_type] # 재고 감소\n",
    "                        self.sales[\"초코\"] += order[bread_type] # 판매량 업데이트\n",
    "                    else:\n",
    "                        print(f'현재 {bread_type} 붕어빵의 재고가 부족하여 주문이 어렵습니다. 다른 붕어빵을 골라주세요.')\n",
    "                    \n",
    "            else:\n",
    "                print(\"잘못 입력하셨습니다. 다시 입력해 주세요.\") # 잘못된 입력 처리\n",
    "                \n",
    "    def admin_mode(self, bread_type, bread_count):\n",
    "        self.bread_type = bread_type\n",
    "        self.bread_count = bread_count\n",
    "        \n",
    "        additional_stock = {}\n",
    "        while True:\n",
    "            # 추가할 재고 종류 초기화\n",
    "            bread_type = ''\n",
    "            bread_type = input('추가할 재고의 종류를 입력하세요. (팥, 슈크림, 초코)\\n재고 추가가 모두 완료되면 \"종료\"를 입력해주세요') # 추가할 재고 종류 입력\n",
    "            \n",
    "            # 재고 추가 완료시 종료\n",
    "            if bread_type == \"종료\":\n",
    "                print(\"재고 추가가 완료되었습니다.\")\n",
    "                break\n",
    "            \n",
    "            # 이전 추가 재고량 초기화\n",
    "            bread_count = 0\n",
    "            bread_count = int(input('추가할 재고의 수량을 입력하세요.')) # 추가할 재고 수량 입력\n",
    "            additional_stock[bread_type] = bread_count # 추가할 재고 내용 저장\n",
    "            \n",
    "            # 재고 조건 파악\n",
    "            if bread_type == \"팥\":\n",
    "                print(f'{bread_type} 붕어빵 {additional_stock[bread_type]}개가 추가되었습니다.')\n",
    "                self.stock[\"팥\"] += additional_stock[bread_type] # 재고량 증가\n",
    "                \n",
    "            elif bread_type == \"슈크림\":\n",
    "                print(f'{bread_type} 붕어빵 {additional_stock[bread_type]}개가 추가되었습니다.')\n",
    "                self.stock[\"슈크림\"] += additional_stock[bread_type] # 재고량 증가\n",
    "                \n",
    "            elif bread_type == \"초코\":\n",
    "                print(f'{bread_type} 붕어빵 {additional_stock[bread_type]}개가 추가되었습니다.')\n",
    "                self.stock[\"초코\"] += additional_stock[bread_type] # 재고량 증가\n",
    "                \n",
    "            else:\n",
    "                print(\"잘못 입력하셨습니다.\") # 잘못된 입력 처리"
   ],
   "outputs": [],
   "execution_count": 38
  },
  {
   "cell_type": "markdown",
   "metadata": {},
   "source": [
    "\n",
    "[과제 6: 매출 계산 메서드 calculate_total_sales]\n",
    "\n",
    "목표: calculate_total_sales 메서드를 구현하여 총 매출을 계산하고 출력합니다.\n",
    "\n",
    "설명: self.sales와 self.prices를 사용하여 총 매출을 계산하고 출력하세요."
   ]
  },
  {
   "cell_type": "code",
   "metadata": {
    "ExecuteTime": {
     "end_time": "2024-10-19T12:17:50.219796Z",
     "start_time": "2024-10-19T12:17:50.199496Z"
    }
   },
   "source": [
    "class BungeoppangShop:\n",
    "    def __init__(self): # 초기 재고, 가격 설정, 판매량 초기화\n",
    "        self.stock = {\"팥\" : 10,\n",
    "                      \"슈크림\" : 8,\n",
    "                      \"초코\" : 5} # 초기 재고량 설정\n",
    "        \n",
    "        self.prices = {\"팥\" : 1000,\n",
    "                       \"슈크림\" : 1200,\n",
    "                       \"초코\" : 1500} # 붕어빵 가격 설정\n",
    "        \n",
    "        self.sales = {\"팥\" : 0,\n",
    "                      \"슈크림\" : 0,\n",
    "                      \"초코\" : 0} # 판매량 초기화\n",
    "        \n",
    "    def check_stock(self): # 현재 재고 체크 함수\n",
    "        print(f'현재 재고\\n팥 붕어빵 : {self.stock[\"팥\"]}개\\n슈크림 붕어빵 : {self.stock[\"슈크림\"]}개\\n초코 붕어빵 : {self.stock[\"초코\"]}개') # 현재 재고 출력\n",
    "        \n",
    "    def process_order(self, bread_type, bread_count): # 주문을 입력받고 재고를 업데이트\n",
    "        self.bread_type = bread_type\n",
    "        self.bread_count = bread_count\n",
    "        \n",
    "        order = {}\n",
    "        while True:\n",
    "            # 주문 종류 초기화\n",
    "            bread_type = ''\n",
    "            \n",
    "            # 주문 종류 입력\n",
    "            bread_type = input(\"주문하실 붕어빵의 종류를 입력해주세요. (팥, 슈크림, 초코)\\n주문을 마치려면 '종료'를 입력해주세요.\")\n",
    "            \n",
    "            # 종료 조건\n",
    "            if self.bread_type == \"종료\":\n",
    "                print(\"모든 주문이 완료되었습니다. 이용해주셔서 감사합니다.\")\n",
    "                break\n",
    "                \n",
    "            # 이전 주문 초기화\n",
    "            bread_count = 0\n",
    "            \n",
    "            # 주문 수량 입력\n",
    "            bread_count = int(input('주문하실 붕어빵의 수량을 입력해주세요.'))\n",
    "            order[bread_type] = bread_count\n",
    "            \n",
    "            # 붕어빵 종류에 따라 재고 확인\n",
    "            if bread_type == \"팥\":\n",
    "                if self.stock[\"팥\"] >= order[bread_type]:\n",
    "                    print(f'{bread_type} 붕어빵 {order[bread_type]}개가 판매 완료 되었습니다.') # 구매한 종류와 수량 출력\n",
    "                    self.stock[\"팥\"] -= order[bread_type] # 재고 감소\n",
    "                    self.sales[\"팥\"] += order[bread_type] # 판매량 업데이트\n",
    "                else: # 재고량이 주문량보다 적을 때 재고량 만큼만 구매할 의사가 있는지 질문\n",
    "                    answer = input(f'죄송합니다. 현재 {bread_type} 붕어빵의 재고가 {self.stock[\"팥\"]}개 입니다. {self.stock[\"팥\"]}개만 구매하시겠습니까? (예/아니오)')\n",
    "                    if answer == \"예\":\n",
    "                        print(f'{bread_type} 붕어빵 {order[bread_type]}개가 판매 완료 되었습니다.') # 구매한 종류와 수량 출력\n",
    "                        self.stock[\"팥\"] -= order[bread_type] # 재고 감소\n",
    "                        self.sales[\"팥\"] += order[bread_type] # 판매량 업데이트\n",
    "                    else:\n",
    "                        print(f'현재 {bread_type} 붕어빵의 재고가 부족하여 주문이 어렵습니다. 다른 붕어빵을 골라주세요.')\n",
    "                        \n",
    "            elif bread_type == \"슈크림\":\n",
    "                if self.stock[\"슈크림\"] >= order[bread_type]:\n",
    "                    print(f'{bread_type} 붕어빵 {order[bread_type]}개가 판매 완료 되었습니다.') # 구매한 종류와 수량 출력\n",
    "                    self.stock[\"슈크림\"] -= order[bread_type] # 재고 감소\n",
    "                    self.sales[\"슈크림\"] += order[bread_type] # 판매량 업데이트\n",
    "                else: # 재고량이 주문량보다 적을 때 재고량 만큼만 구매할 의사가 있는지 질문\n",
    "                    answer = input(f'죄송합니다. 현재 {bread_type} 붕어빵의 재고가 {self.stock[\"슈크림\"]}개 입니다. {self.stock[\"슈크림\"]}개만 구매하시겠습니까? (예/아니오)')\n",
    "                    if answer == \"예\":\n",
    "                        print(f'{bread_type} 붕어빵 {order[bread_type]}개가 판매 완료 되었습니다.') # 구매한 종류와 수량 출력\n",
    "                        self.stock[\"슈크림\"] -= order[bread_type] # 재고 감소\n",
    "                        self.sales[\"슈크림\"] += order[bread_type] # 판매량 업데이트\n",
    "                    else:\n",
    "                        print(f'현재 {bread_type} 붕어빵의 재고가 부족하여 주문이 어렵습니다. 다른 붕어빵을 골라주세요.')\n",
    "                    \n",
    "            elif bread_type == \"초코\":\n",
    "                if self.stock[\"초코\"] >= order[bread_type]:\n",
    "                    print(f'{bread_type} 붕어빵 {order[bread_type]}개가 판매 완료 되었습니다.') # 구매한 종류와 수량 출력\n",
    "                    self.stock[\"초코\"] -= order[bread_type] # 재고 감소\n",
    "                    self.sales[\"초코\"] += order[bread_type] # 판매량 업데이트\n",
    "                else: # 재고량이 주문량보다 적을 때 재고량 만큼만 구매할 의사가 있는지 질문\n",
    "                    answer = input(f'죄송합니다. 현재 {bread_type} 붕어빵의 재고가 {self.stock[\"초코\"]}개 입니다. {self.stock[\"초코\"]}개만 구매하시겠습니까? (예/아니오)')\n",
    "                    if answer == \"예\":\n",
    "                        print(f'{bread_type} 붕어빵 {order[bread_type]}개가 판매 완료 되었습니다.') # 구매한 종류와 수량 출력\n",
    "                        self.stock[\"초코\"] -= order[bread_type] # 재고 감소\n",
    "                        self.sales[\"초코\"] += order[bread_type] # 판매량 업데이트\n",
    "                    else:\n",
    "                        print(f'현재 {bread_type} 붕어빵의 재고가 부족하여 주문이 어렵습니다. 다른 붕어빵을 골라주세요.')\n",
    "                    \n",
    "            else:\n",
    "                print(\"잘못 입력하셨습니다. 다시 입력해 주세요.\") # 잘못된 입력 처리\n",
    "                \n",
    "    def admin_mode(self, bread_type, bread_count):\n",
    "        self.bread_type = bread_type\n",
    "        self.bread_count = bread_count\n",
    "        \n",
    "        additional_stock = {}\n",
    "        while True:\n",
    "            # 추가할 재고 종류 초기화\n",
    "            bread_type = ''\n",
    "            bread_type = input('추가할 재고의 종류를 입력하세요. (팥, 슈크림, 초코)\\n재고 추가가 모두 완료되면 \"종료\"를 입력해주세요') # 추가할 재고 종류 입력\n",
    "            \n",
    "            # 재고 추가 완료시 종료\n",
    "            if bread_type == \"종료\":\n",
    "                print(\"재고 추가가 완료되었습니다.\")\n",
    "                break\n",
    "            \n",
    "            # 이전 추가 재고량 초기화\n",
    "            bread_count = 0\n",
    "            bread_count = int(input('추가할 재고의 수량을 입력하세요.')) # 추가할 재고 수량 입력\n",
    "            additional_stock[bread_type] = bread_count # 추가할 재고 내용 저장\n",
    "            \n",
    "            # 재고 조건 파악\n",
    "            if bread_type == \"팥\":\n",
    "                print(f'{bread_type} 붕어빵 {additional_stock[bread_type]}개가 추가되었습니다.')\n",
    "                self.stock[\"팥\"] += additional_stock[bread_type] # 재고량 증가\n",
    "                \n",
    "            elif bread_type == \"슈크림\":\n",
    "                print(f'{bread_type} 붕어빵 {additional_stock[bread_type]}개가 추가되었습니다.')\n",
    "                self.stock[\"슈크림\"] += additional_stock[bread_type] # 재고량 증가\n",
    "                \n",
    "            elif bread_type == \"초코\":\n",
    "                print(f'{bread_type} 붕어빵 {additional_stock[bread_type]}개가 추가되었습니다.')\n",
    "                self.stock[\"초코\"] += additional_stock[bread_type] # 재고량 증가\n",
    "                \n",
    "            else:\n",
    "                print(\"잘못 입력하셨습니다.\") # 잘못된 입력 처리\n",
    "            \n",
    "    def calculate_total_sales(self):\n",
    "        total_팥 = self.sales[\"팥\"] * self.prices[\"팥\"]\n",
    "        total_슈크림 = self.sales[\"슈크림\"] * self.prices[\"슈크림\"]\n",
    "        total_초코 = self.sales[\"초코\"] * self.prices[\"초코\"]\n",
    "        total_sales = total_팥 + total_슈크림 + total_초코\n",
    "        print(f'총 매출액은 {total_sales}원 입니다.')"
   ],
   "outputs": [],
   "execution_count": 39
  },
  {
   "cell_type": "markdown",
   "metadata": {},
   "source": [
    "[과제 8: 메인 함수 main]\n",
    "\n",
    "목표: main 함수를 작성하여 프로그램의 주요 로직을 실행합니다.\n",
    "\n",
    "설명:\n",
    "- BungeoppangShop 객체를 생성합니다.\n",
    "- 사용자에게 모드를 선택하도록 요청합니다.\n",
    "- \"주문\" 모드에서는 손님의 주문을 처리하고, \"관리자\" 모드에서는 재고를 추가할 수 있습니다.\n",
    "- 프로그램이 종료될 때 총 매출을 계산하고 데이터를 저장합니다.\n"
   ]
  },
  {
   "cell_type": "code",
   "metadata": {
    "ExecuteTime": {
     "end_time": "2024-10-19T13:01:48.250010Z",
     "start_time": "2024-10-19T13:01:06.427624Z"
    }
   },
   "source": [
    "class BungeoppangShop:\n",
    "    def __init__(self): # 초기 재고, 가격 설정, 판매량 초기화\n",
    "        self.stock = {\"팥\" : 10,\n",
    "                      \"슈크림\" : 8,\n",
    "                      \"초코\" : 5} # 초기 재고량 설정\n",
    "        \n",
    "        self.prices = {\"팥\" : 1000,\n",
    "                       \"슈크림\" : 1200,\n",
    "                       \"초코\" : 1500} # 붕어빵 가격 설정\n",
    "        \n",
    "        self.sales = {\"팥\" : 0,\n",
    "                      \"슈크림\" : 0,\n",
    "                      \"초코\" : 0} # 판매량 초기화\n",
    "        \n",
    "    def check_stock(self): # 현재 재고 체크 함수\n",
    "        print(f'현재 재고\\n팥 붕어빵 : {self.stock[\"팥\"]}개\\n슈크림 붕어빵 : {self.stock[\"슈크림\"]}개\\n초코 붕어빵 : {self.stock[\"초코\"]}개') # 현재 재고 출력\n",
    "        \n",
    "    def process_order(self, bread_type, bread_count): # 주문을 입력받고 재고를 업데이트\n",
    "        order = {}\n",
    "        order[bread_type] = bread_count\n",
    "        # 붕어빵 종류에 따라 재고 확인\n",
    "        if bread_type == \"팥\":\n",
    "            if self.stock[\"팥\"] >= order[bread_type]:\n",
    "                print(f'{bread_type} 붕어빵 {order[bread_type]}개가 판매 완료 되었습니다.') # 구매한 종류와 수량 출력\n",
    "                self.stock[\"팥\"] -= order[bread_type] # 재고 감소\n",
    "                self.sales[\"팥\"] += order[bread_type] # 판매량 업데이트\n",
    "            else: # 재고량이 주문량보다 적을 때 재고량 만큼만 구매할 의사가 있는지 질문\n",
    "                answer = input(f'죄송합니다. 현재 {bread_type} 붕어빵의 재고가 {self.stock[\"팥\"]}개 입니다. {self.stock[\"팥\"]}개만 구매하시겠습니까? (예/아니오)')\n",
    "                if answer == \"예\":\n",
    "                    print(f'{bread_type} 붕어빵 {order[bread_type]}개가 판매 완료 되었습니다.') # 구매한 종류와 수량 출력\n",
    "                    self.stock[\"팥\"] -= order[bread_type] # 재고 감소\n",
    "                    self.sales[\"팥\"] += order[bread_type] # 판매량 업데이트\n",
    "                else:\n",
    "                    print(f'현재 {bread_type} 붕어빵의 재고가 부족하여 주문이 어렵습니다. 다른 붕어빵을 골라주세요.')\n",
    "                    \n",
    "        elif bread_type == \"슈크림\":\n",
    "            if self.stock[\"슈크림\"] >= order[bread_type]:\n",
    "                print(f'{bread_type} 붕어빵 {order[bread_type]}개가 판매 완료 되었습니다.') # 구매한 종류와 수량 출력\n",
    "                self.stock[\"슈크림\"] -= order[bread_type] # 재고 감소\n",
    "                self.sales[\"슈크림\"] += order[bread_type] # 판매량 업데이트\n",
    "            else: # 재고량이 주문량보다 적을 때 재고량 만큼만 구매할 의사가 있는지 질문\n",
    "                answer = input(f'죄송합니다. 현재 {bread_type} 붕어빵의 재고가 {self.stock[\"슈크림\"]}개 입니다. {self.stock[\"슈크림\"]}개만 구매하시겠습니까? (예/아니오)')\n",
    "                if answer == \"예\":\n",
    "                    print(f'{bread_type} 붕어빵 {order[bread_type]}개가 판매 완료 되었습니다.') # 구매한 종류와 수량 출력\n",
    "                    self.stock[\"슈크림\"] -= order[bread_type] # 재고 감소\n",
    "                    self.sales[\"슈크림\"] += order[bread_type] # 판매량 업데이트\n",
    "                else:\n",
    "                    print(f'현재 {bread_type} 붕어빵의 재고가 부족하여 주문이 어렵습니다. 다른 붕어빵을 골라주세요.')\n",
    "                \n",
    "        elif bread_type == \"초코\":\n",
    "            if self.stock[\"초코\"] >= order[bread_type]:\n",
    "                print(f'{bread_type} 붕어빵 {order[bread_type]}개가 판매 완료 되었습니다.') # 구매한 종류와 수량 출력\n",
    "                self.stock[\"초코\"] -= order[bread_type] # 재고 감소\n",
    "                self.sales[\"초코\"] += order[bread_type] # 판매량 업데이트\n",
    "            else: # 재고량이 주문량보다 적을 때 재고량 만큼만 구매할 의사가 있는지 질문\n",
    "                answer = input(f'죄송합니다. 현재 {bread_type} 붕어빵의 재고가 {self.stock[\"초코\"]}개 입니다. {self.stock[\"초코\"]}개만 구매하시겠습니까? (예/아니오)')\n",
    "                if answer == \"예\":\n",
    "                    print(f'{bread_type} 붕어빵 {order[bread_type]}개가 판매 완료 되었습니다.') # 구매한 종류와 수량 출력\n",
    "                    self.stock[\"초코\"] -= order[bread_type] # 재고 감소\n",
    "                    self.sales[\"초코\"] += order[bread_type] # 판매량 업데이트\n",
    "                else:\n",
    "                    print(f'현재 {bread_type} 붕어빵의 재고가 부족하여 주문이 어렵습니다. 다른 붕어빵을 골라주세요.')\n",
    "                \n",
    "        else:\n",
    "            print(\"잘못 입력하셨습니다. 다시 입력해 주세요.\") # 잘못된 입력 처리\n",
    "            \n",
    "    def admin_mode(self):\n",
    "        additional_stock = {}\n",
    "        while True:\n",
    "            # 추가할 재고 종류 초기화\n",
    "            bread_type = ''\n",
    "            bread_type = input('추가할 재고의 종류를 입력하세요. (팥, 슈크림, 초코)\\n재고 추가가 모두 완료되면 \"종료\"를 입력해주세요') # 추가할 재고 종류 입력\n",
    "            \n",
    "            # 재고 추가 완료시 종료\n",
    "            if bread_type == \"종료\":\n",
    "                print(\"재고 추가가 완료되었습니다.\")\n",
    "                break\n",
    "            \n",
    "            # 이전 추가 재고량 초기화\n",
    "            bread_count = 0\n",
    "            bread_count = int(input('추가할 재고의 수량을 입력하세요.')) # 추가할 재고 수량 입력\n",
    "            additional_stock[bread_type] = bread_count # 추가할 재고 내용 저장\n",
    "            \n",
    "            # 재고 조건 파악\n",
    "            if bread_type == \"팥\":\n",
    "                print(f'{bread_type} 붕어빵 {additional_stock[bread_type]}개가 추가되었습니다.')\n",
    "                self.stock[\"팥\"] += additional_stock[bread_type] # 재고량 증가\n",
    "                \n",
    "            elif bread_type == \"슈크림\":\n",
    "                print(f'{bread_type} 붕어빵 {additional_stock[bread_type]}개가 추가되었습니다.')\n",
    "                self.stock[\"슈크림\"] += additional_stock[bread_type] # 재고량 증가\n",
    "                \n",
    "            elif bread_type == \"초코\":\n",
    "                print(f'{bread_type} 붕어빵 {additional_stock[bread_type]}개가 추가되었습니다.')\n",
    "                self.stock[\"초코\"] += additional_stock[bread_type] # 재고량 증가\n",
    "                \n",
    "            else:\n",
    "                print(\"잘못 입력하셨습니다.\") # 잘못된 입력 처리\n",
    "            \n",
    "    def calculate_total_sales(self):\n",
    "        total_팥 = self.sales[\"팥\"] * self.prices[\"팥\"]\n",
    "        total_슈크림 = self.sales[\"슈크림\"] * self.prices[\"슈크림\"]\n",
    "        total_초코 = self.sales[\"초코\"] * self.prices[\"초코\"]\n",
    "        total_sales = total_팥 + total_슈크림 + total_초코\n",
    "        print(f'총 매출액은 {total_sales}원 입니다.')\n",
    "def main():\n",
    "    Order = BungeoppangShop()\n",
    "    while True:\n",
    "        select = input('원하는 모드를 입력하세요. (주문, 관리자, 종료)')\n",
    "        \n",
    "        if select == \"종료\":\n",
    "            print(\"감사합니다. 다음에 또 이용해주세요.\")\n",
    "            break\n",
    "        \n",
    "        if select == \"관리자\":\n",
    "            Order.admin_mode()\n",
    "            continue\n",
    "            \n",
    "        if select == \"주문\":\n",
    "            while True:\n",
    "                bread_type = input(\"주문하실 붕어빵의 종류를 입력해주세요. (팥, 슈크림, 초코)\\n주문을 마치려면 '종료'를 입력해주세요.\")\n",
    "                \n",
    "                if bread_type == \"종료\":\n",
    "                    print(\"모든 주문이 완료되었습니다.이용해주셔서 감사합니다.\")\n",
    "                    break\n",
    "                \n",
    "                else: \n",
    "                    bread_count = int(input('주문하실 붕어빵의 수량을 입력해주세요.'))\n",
    "                    Order.process_order(bread_type, bread_count)\n",
    "                    \n",
    "                Order.check_stock()\n",
    "            \n",
    "    Order.calculate_total_sales()\n",
    "    \n",
    "if __name__ == \"__main__\":\n",
    "    main()"
   ],
   "outputs": [
    {
     "name": "stdout",
     "output_type": "stream",
     "text": [
      "팥 붕어빵 3개가 판매 완료 되었습니다.\n",
      "현재 재고\n",
      "팥 붕어빵 : 7개\n",
      "슈크림 붕어빵 : 8개\n",
      "초코 붕어빵 : 5개\n",
      "모든 주문이 완료되었습니다.이용해주셔서 감사합니다.\n",
      "슈크림 붕어빵 5개가 추가되었습니다.\n",
      "재고 추가가 완료되었습니다.\n",
      "감사합니다. 다음에 또 이용해주세요.\n",
      "총 매출액은 3000원 입니다.\n"
     ]
    }
   ],
   "execution_count": 47
  },
  {
   "metadata": {},
   "cell_type": "code",
   "outputs": [],
   "execution_count": null,
   "source": ""
  }
 ],
 "metadata": {
  "colab": {
   "authorship_tag": "ABX9TyMfxSNOybrh/E7+DQqfYMY3",
   "provenance": []
  },
  "kernelspec": {
   "display_name": "Python 3 (ipykernel)",
   "name": "python3",
   "language": "python"
  },
  "language_info": {
   "codemirror_mode": {
    "name": "ipython",
    "version": 3
   },
   "file_extension": ".py",
   "mimetype": "text/x-python",
   "name": "python",
   "nbconvert_exporter": "python",
   "pygments_lexer": "ipython3",
   "version": "3.11.7"
  }
 },
 "nbformat": 4,
 "nbformat_minor": 0
}
