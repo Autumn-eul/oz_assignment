{
 "cells": [
  {
   "cell_type": "markdown",
   "metadata": {},
   "source": [
    "## [문제] 1\n",
    "\n",
    "'Person'이라는 클래스를 선언하세요. 이 클래스는 name (이름)과 age (나이) 두 개의 속성을 갖습니다.<br>\n",
    "\n",
    "그리고 'greet'라는 메소드를 갖고 있으며, 이 메소드는 \"안녕하세요, 제 이름은 [name]입니다. \n",
    "\n",
    "나이는 [age]살입니다.\"라는 메시지를 반환합니다.<br>\n",
    "이 클래스를 사용하여 '홍길동'이라는 이름과 20살의 나이를 가진 'Person' 객체를 생성하고, 'greet' 메소드를 호출하여 메시지를 출력하세요."
   ]
  },
  {
   "metadata": {
    "ExecuteTime": {
     "end_time": "2024-10-23T05:31:41.094390Z",
     "start_time": "2024-10-23T05:31:41.089377Z"
    }
   },
   "cell_type": "code",
   "source": [
    "from prompt_toolkit.cursor_shapes import AnyCursorShapeConfig\n",
    "\n",
    "\n",
    "# Person 클래스 정의\n",
    "class Person:\n",
    "    def __init__(self, name, age):\n",
    "        self.name = name # 이름 속성\n",
    "        self.age = age # 나이 속성\n",
    "        \n",
    "    def greet(self): # greet 메소드\n",
    "        return f'안녕하세요. 제 이름은 {self.name} 입니다.\\n나이는 {self.age}살 입니다.'\n",
    " \n",
    "# '홍길동'과 20을 가진 객체 생성        \n",
    "person = Person('홍길동', 20)\n",
    "\n",
    "# 'greet' 메소드를 호출하여 메세지 출력\n",
    "print(person.greet())"
   ],
   "outputs": [
    {
     "name": "stdout",
     "output_type": "stream",
     "text": [
      "안녕하세요, 제 이름은 홍길동 입니다.\n",
      "나이는 20살 입니다.\n"
     ]
    }
   ],
   "execution_count": 3
  },
  {
   "cell_type": "markdown",
   "metadata": {},
   "source": []
  },
  {
   "metadata": {},
   "cell_type": "markdown",
   "source": [
    "## [문제] 2\n",
    "\n",
    "'Rectangle' 클래스를 작성하세요. \n",
    "\n",
    "이 클래스는 높이(height)와 너비(width)를 속성으로 가지며, 생성자(__init__)를 통해 이 두 속성을 초기화합니다. \n",
    "\n",
    "'area' 메소드를 추가하여 사각형의 면적을 계산하고 반환하도록 하세요. 높이가 10, 너비가 5인 사각형 객체를 생성하고,<br> \n",
    "이 객체를 사용하여 면적을 계산해 출력하세요."
   ]
  },
  {
   "metadata": {
    "ExecuteTime": {
     "end_time": "2024-10-23T05:38:03.472917Z",
     "start_time": "2024-10-23T05:38:03.467522Z"
    }
   },
   "cell_type": "code",
   "source": [
    "# Rectangle 클래스 선언\n",
    "class Rectangle:\n",
    "    def __init__(self, width, height):\n",
    "        self.width = width # 너비 초기화\n",
    "        self.height = height # 높이 초기화\n",
    "        \n",
    "    def area(self): # area 메소드\n",
    "        return f'너비가 {self.width} 이고, 높이가 {self.height} 인 사각형의 면적은 {self.width * self.height} 입니다.' # 사각형의 면적 : 너비 * 높이)\n",
    "    \n",
    "rectangle = Rectangle(5, 10) # 너비 5, 높이 10인 객체 생성\n",
    "print(rectangle.area()) # area 메소드를 호출하여 결과 출력"
   ],
   "outputs": [
    {
     "name": "stdout",
     "output_type": "stream",
     "text": [
      "너비가 5 이고, 높이가 10 인 사각형의 면적은 50 입니다.\n"
     ]
    }
   ],
   "execution_count": 6
  },
  {
   "metadata": {},
   "cell_type": "markdown",
   "source": [
    "## [문제] 3\n",
    "\n",
    "'Book' 클래스를 선언하세요. \n",
    "\n",
    "이 클래스는 title (제목)과 author (저자) 두 개의 속성을 갖습니다. \n",
    "\n",
    "__str__ 특수 메소드를 오버라이드하여, 객체를 문자열로 변환할 때 \"제목: [title], 저자: [author]\" 형식의 문자열을 반환하도록 하세요. \n",
    "\n",
    "'Book' 객체를 하나 생성하고, print 함수를 사용하여 해당 객체의 문자열 표현을 출력하세요."
   ]
  },
  {
   "metadata": {
    "ExecuteTime": {
     "end_time": "2024-10-23T05:45:31.843903Z",
     "start_time": "2024-10-23T05:45:31.838120Z"
    }
   },
   "cell_type": "code",
   "source": [
    "class Book:\n",
    "    def __init__(self, title, author):\n",
    "        self.title = title\n",
    "        self.author = author\n",
    "        \n",
    "    def __str__(self):\n",
    "        return f'제목 : {self.title}\\n저자 : {self.author}'\n",
    "    \n",
    "book = Book(\"컴퓨터 사이언스 부트캠프 with 파이썬\", \"양태환\")\n",
    "print(str(book))"
   ],
   "outputs": [
    {
     "name": "stdout",
     "output_type": "stream",
     "text": [
      "제목 : 컴퓨터 사이언스 부트캠프 with 파이썬\n",
      "저자 : 양태환\n"
     ]
    }
   ],
   "execution_count": 9
  },
  {
   "metadata": {},
   "cell_type": "markdown",
   "source": [
    "## [문제] 4\n",
    "\n",
    "'Employee' 클래스를 선언하세요. \n",
    "\n",
    "이 클래스는 월급인상률을 의미하는 클래스 변수로 'raise_amount'를 갖고 있으며, 기본값은 1.04입니다. 다음 급여는 기본 급여에 월급인상률을 곱한 값으로 결정합니다.\n",
    "\n",
    "또한, 각 직원의 이름(name)과 급여(salary)를 속성으로 가지며, 'apply_raise' 메소드를 통해 급여에 'raise_amount'를 적용할 수 있어야 합니다.\n",
    "\n",
    "'Employee' 클래스의 객체 두 개를 생성하고, 한 객체에만 'raise_amount'를 변경한 후, 두 객체의 급여를 증가시켜보세요.<br>\n",
    "그리고 각 객체의 새로운 급여를 출력하세요."
   ]
  },
  {
   "metadata": {
    "ExecuteTime": {
     "end_time": "2024-10-23T06:00:31.806094Z",
     "start_time": "2024-10-23T06:00:31.799493Z"
    }
   },
   "cell_type": "code",
   "source": [
    "class Employee:\n",
    "    raise_amount = 1.04\n",
    "    \n",
    "    def __init__(self, name, salary):\n",
    "        self.name = name\n",
    "        self.salary = salary\n",
    "        \n",
    "    def apply_raise(self):\n",
    "        self.salary = int(self.salary * self.raise_amount)\n",
    "        \n",
    "노예1 = Employee('김코딩', 1000000)\n",
    "노예2 = Employee('박코딩', 1000000)\n",
    "\n",
    "노예2.raise_amount = 1.20\n",
    "\n",
    "노예1.apply_raise()\n",
    "노예2.apply_raise()\n",
    "\n",
    "print(f\"{노예1.name}의 새로운 급여 : {노예1.salary}\")\n",
    "print(f\"{노예2.name}의 새로운 급여 : {노예2.salary}\")\n",
    "        "
   ],
   "outputs": [
    {
     "name": "stdout",
     "output_type": "stream",
     "text": [
      "김코딩의 새로운 급여 : 1040000\n",
      "박코딩의 새로운 급여 : 1200000\n"
     ]
    }
   ],
   "execution_count": 11
  },
  {
   "metadata": {},
   "cell_type": "markdown",
   "source": [
    "## [문제] 5\n",
    "\n",
    "'Account' 클래스를 작성하세요. \n",
    "\n",
    "이 클래스는 소유자(owner)와 잔액(balance)을 속성으로 가지며, 잔액은 프라이빗 변수로 선언합니다. \n",
    "\n",
    "'deposit'와 'withdraw' 두 개의 메소드를 통해 잔액을 조작할 수 있도록 하세요. \n",
    "\n",
    "이 때, 잔액은 음수가 될 수 없도록 체크해야 합니다. 'Account' 객체를 생성하고,<br>\n",
    "입금 및 출금 작업을 시뮬레이션한 후, 최종 잔액을 출력하세요."
   ]
  },
  {
   "metadata": {
    "ExecuteTime": {
     "end_time": "2024-10-23T07:39:45.755679Z",
     "start_time": "2024-10-23T07:39:45.748648Z"
    }
   },
   "cell_type": "code",
   "source": [
    "class Account:\n",
    "    def __init__(self, owner, balance):\n",
    "        self.owner = owner\n",
    "        self.__balance = balance # 잔액\n",
    "        \n",
    "    def deposit(self, amount):\n",
    "        if amount > 0:\n",
    "            self.__balance += amount\n",
    "            print(f\"{amount}원이 입금되었습니다.\")\n",
    "        else:\n",
    "            print(\"입금액은 0원보다 커야 합니다.\")\n",
    "        \n",
    "    def withdraw(self, amount):\n",
    "        if 0 < amount <= self.__balance:\n",
    "            self.__balance -= amount\n",
    "            print(f\"{amount}원이 출금되었습니다.\")\n",
    "        elif amount > self.__balance:\n",
    "            print(f\"출금액이 잔액보다 커서 출금할 수 없습니다.\")\n",
    "        else:\n",
    "            print('출금액은 0원보다 커야 합니다.')\n",
    "            \n",
    "    def get_balance(self):\n",
    "        return self.__balance\n",
    "\n",
    "# Account 객체 생성        \n",
    "account = Account(\"김코딩\", 10000)\n",
    "\n",
    "# 입금 및 출금\n",
    "account.deposit(10000)\n",
    "account.withdraw(50000)\n",
    "account.deposit(5000)\n",
    "\n",
    "print(f\"최종 잔액 : {account.get_balance()}원\")\n"
   ],
   "outputs": [
    {
     "name": "stdout",
     "output_type": "stream",
     "text": [
      "10000원이 입금되었습니다.\n",
      "출금액이 잔액보다 커서 출금할 수 없습니다.\n",
      "5000원이 입금되었습니다.\n",
      "최종 잔액 : 25000원\n"
     ]
    }
   ],
   "execution_count": 23
  },
  {
   "metadata": {},
   "cell_type": "markdown",
   "source": [
    "## [문제] 6\n",
    "\n",
    "'Vehicle'이라는 기본 클래스를 선언하세요. \n",
    "\n",
    "이 클래스는 make (제조사)와 model (모델명) 두 개의 속성을 갖고, 생성자(__init__)를 통해 이 두 속성을 초기화합니다. 'display_info'라는 메소드를 추가하여, \"이 차량은 [make]에서 제조한 [model]입니다.\"라는 메시지를 반환하도록 하세요.\n",
    "\n",
    "'Truck'과 'Car' 두 개의 하위 클래스를 생성하고, 각 클래스는 'Vehicle' 클래스로부터 상속받습니다. \n",
    "\n",
    "'Truck' 클래스에는 추가로 'payload' (적재량) 속성을, 'Car' 클래스에는 'seats' (좌석 수) 속성을 추가합니다. 각각의 하위 클래스에서 'display_info' 메소드는 기본 클래스의 메소드를 그대로 사용합니다.\n",
    "\n",
    "'Truck'과 'Car' 객체 각각을 생성하고, 'display_info' 메소드를 호출하여 정보를 출력하세요. \n",
    "\n",
    "또한, 각 객체의 추가 속성(적재량, 좌석 수)에 대한 정보도 출력하세요.\n",
    "\n",
    "이 문제는 클래스의 상속 개념을 이해하고, 기본 클래스의 속성과 메소드를 하위 클래스가 어떻게 활용할 수 있는지 보여줍니다. \n",
    "\n",
    "오버라이드는 필요하지 않으며, 각 하위 클래스의 고유한 속성을 추가하는 방법에 초점을 맞춥니다."
   ]
  },
  {
   "metadata": {
    "ExecuteTime": {
     "end_time": "2024-10-23T06:48:01.907244Z",
     "start_time": "2024-10-23T06:48:01.898784Z"
    }
   },
   "cell_type": "code",
   "source": [
    "# 기본 클래스 선언\n",
    "class Vehicle:\n",
    "    def __init__(self, make, model):\n",
    "        self.make = make # 속성 초기화\n",
    "        self.model = model # 속성 초기화\n",
    "        \n",
    "    def disply_info(self):\n",
    "        return f\"이 차량은 {self.make}에서 제조한 {self.model}입니다.\"\n",
    " \n",
    "# 하위 클래스 Truck   \n",
    "class Truck(Vehicle): # 상속\n",
    "    def __init__(self, make, model, payload):\n",
    "        super().__init__(make, model)\n",
    "        self.payload = payload\n",
    "        \n",
    "    def info(self):\n",
    "        return f\"이 차량의 적재량은 {self.payload}kg입니다.\"\n",
    "        \n",
    "# 하위 클래스 Car # 상속\n",
    "class Car(Vehicle):\n",
    "    def __init__(self, make, model, seats):\n",
    "        super().__init__(make, model)\n",
    "        self.seats = seats\n",
    "        \n",
    "    def info(self):\n",
    "        return f\"이 차량은 {self.seats}인승입니다.\"\n",
    "\n",
    "# 객체 생성\n",
    "truck = Truck('현대', '포터2', 1000)\n",
    "car = Car('현대', '아반떼AD', 5)\n",
    "\n",
    "print(truck.disply_info())\n",
    "print(truck.info())\n",
    "\n",
    "print(car.disply_info())\n",
    "print(car.info())"
   ],
   "outputs": [
    {
     "name": "stdout",
     "output_type": "stream",
     "text": [
      "이 차량은 현대에서 제조한 포터2입니다.\n",
      "이 차량의 적재량은 1000kg입니다.\n",
      "이 차량은 현대에서 제조한 아반떼AD입니다.\n",
      "이 차량은 5인승입니다.\n"
     ]
    }
   ],
   "execution_count": 18
  }
 ],
 "metadata": {
  "language_info": {
   "name": "python"
  },
  "kernelspec": {
   "name": "python3",
   "language": "python",
   "display_name": "Python 3 (ipykernel)"
  }
 },
 "nbformat": 4,
 "nbformat_minor": 2
}
