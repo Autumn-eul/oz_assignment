{
 "cells": [
  {
   "cell_type": "markdown",
   "metadata": {
    "id": "BX7SgOeWu86I"
   },
   "source": [
    "안녕하세요. 수강생 여러분~! Chapter14 ~ 16 수업은 잘 들으셨나요?\n",
    "\n",
    "Chapter14 ~ 16의 수업 내용을 바탕으로 아래 문제를 풀어주시면 됩니다.\n",
    "\n",
    "[**답변 입력 방법**]\n",
    "\n",
    "문제 아래에 있는 코드 입력창에 정답코드를 작성하신 후 ▷ 버튼을 클릭해 코드를 실행해보세요<br>"
   ]
  },
  {
   "cell_type": "markdown",
   "metadata": {},
   "source": [
    "---"
   ]
  },
  {
   "cell_type": "markdown",
   "metadata": {
    "id": "7kQJMRuFu-6s"
   },
   "source": [
    "[문제1]\n",
    "\n",
    "주어진 정수 x와 자연수 n을 이용해, x부터 시작해 x씩 증가하는 숫자를 n개 지니는 리스트를 출력해주세요   \n",
    "\n",
    "x = 2, n =5"
   ]
  },
  {
   "cell_type": "code",
   "metadata": {
    "id": "juUF2KYbu0DX",
    "ExecuteTime": {
     "end_time": "2024-10-18T05:11:49.204150Z",
     "start_time": "2024-10-18T05:11:49.198497Z"
    }
   },
   "source": [
    "from mimetypes import add_type\n",
    "\n",
    "x, n = 2, 5\n",
    "리스트 = [x]\n",
    "while len(리스트) < n:\n",
    "    x += x\n",
    "    리스트.append(x)\n",
    "    if len(리스트) == n:\n",
    "        break\n",
    "print(리스트)"
   ],
   "outputs": [
    {
     "name": "stdout",
     "output_type": "stream",
     "text": [
      "[2, 4, 8, 16, 32]\n"
     ]
    }
   ],
   "execution_count": 69
  },
  {
   "cell_type": "markdown",
   "metadata": {},
   "source": [
    "---"
   ]
  },
  {
   "cell_type": "markdown",
   "metadata": {
    "id": "4BPXMLXUvBVL"
   },
   "source": [
    "[문제2]\n",
    "\n",
    "전화번호가 문자열 phone_number로 주어졌을 때, 전화번호의 뒷 4자리를 *으로 가린 문자열이 출력되도록 코드를 작성해주세요\n",
    "\n",
    "phone_number = \"01012347890\"  \n",
    "\n",
    "출력 예시 : \"0101234****\""
   ]
  },
  {
   "cell_type": "code",
   "metadata": {
    "id": "P0fY7CYUvC_j",
    "ExecuteTime": {
     "end_time": "2024-10-18T05:11:49.307027Z",
     "start_time": "2024-10-18T05:11:49.302026Z"
    }
   },
   "source": [
    "phone_number = '01012347890'\n",
    "phone_number = phone_number[:7] + '****'\n",
    "print(f'\"{phone_number}\"')"
   ],
   "outputs": [
    {
     "name": "stdout",
     "output_type": "stream",
     "text": [
      "\"0101234****\"\n"
     ]
    }
   ],
   "execution_count": 70
  },
  {
   "cell_type": "markdown",
   "metadata": {},
   "source": [
    "---"
   ]
  },
  {
   "cell_type": "markdown",
   "metadata": {
    "id": "uUdOU9cFvDsq"
   },
   "source": [
    "[문제3]\n",
    "\n",
    "숫자를 건넬 때 일부 자릿수를 영단어로 바꾼 카드를 건네주면 프로도는 원래 숫자를 찾는 게임입니다.\n",
    "\n",
    "다음은 숫자의 일부 자릿수를 영단어로 바꾸는 예시입니다.\n",
    "\n",
    "1478 → \"one4seveneight\"  \n",
    "234567 → \"23four5six7\"  \n",
    "10203 → \"1zerotwozero3\"    \n",
    "\n",
    "이렇게 숫자의 일부 자릿수가 영단어로 바뀌어졌거나,   \n",
    "혹은 바뀌지 않고 그대로인 문자열 s가 주어졌을때\n",
    "s가 의미하는 원래 숫자를 출력하도록 코드를 작성해주세요\n",
    "\n",
    "s = \"77three4one\n",
    "\n",
    "---\n",
    "참고로 각 숫자에 대응되는 영단어는 다음 표와 같습니다.\n",
    "\n",
    "숫자\t영단어  \n",
    "0\tzero  \n",
    "1\tone  \n",
    "2\ttwo  \n",
    "3\tthree  \n",
    "4\tfour  \n",
    "5\tfive  \n",
    "6\tsix  \n",
    "7\tseven  \n",
    "8\teight  \n",
    "9\tnine  "
   ]
  },
  {
   "cell_type": "code",
   "metadata": {
    "id": "2NmqRFgDvFtz",
    "ExecuteTime": {
     "end_time": "2024-10-18T05:11:49.405254Z",
     "start_time": "2024-10-18T05:11:49.400428Z"
    }
   },
   "source": [
    "s = \"77three4one\"\n",
    "s = s[:2] + \"3\" + s[7] + \"1\"\n",
    "print(f'\"{s}\"')"
   ],
   "outputs": [
    {
     "name": "stdout",
     "output_type": "stream",
     "text": [
      "\"77341\"\n"
     ]
    }
   ],
   "execution_count": 71
  },
  {
   "cell_type": "markdown",
   "metadata": {},
   "source": [
    "---"
   ]
  },
  {
   "cell_type": "markdown",
   "metadata": {
    "id": "J0Tha6AdvGL3"
   },
   "source": [
    "[문제4]\n",
    "\n",
    "행렬의 덧셈은 행과 열의 크기가 같은 두 행렬의 같은 행, 같은 열의 값을 서로 더한 결과가 됩니다. 2개의 행렬 arr1과 arr2가 주어졌을 때, 행렬 덧셈의 결과를 출력하는 코드를 작성해주세요(result와 같은 결과가 출력되도록 작성)\n",
    "\n",
    "arr1 = [[1,2],[2,3]]\n",
    "\n",
    "arr2 = [[3,4],[5,6]]\n",
    "\n",
    "result = [[4,6],[7,9]]"
   ]
  },
  {
   "cell_type": "code",
   "metadata": {
    "id": "ujiXrEhJvIV0",
    "ExecuteTime": {
     "end_time": "2024-10-18T05:11:49.490490Z",
     "start_time": "2024-10-18T05:11:49.485077Z"
    }
   },
   "source": [
    "arr1 = [[1, 2], [2, 3]]\n",
    "arr2 = [[3, 4], [5, 6]]\n",
    "arr11 = arr1[0][0] + arr2[0][0]\n",
    "arr12 = arr1[0][1] + arr2[0][1]\n",
    "arr21 = arr1[1][0] + arr2[1][0]\n",
    "arr22 = arr1[1][1] + arr2[1][1]\n",
    "result = [[arr11, arr12], [arr21, arr22]]\n",
    "print(result)"
   ],
   "outputs": [
    {
     "name": "stdout",
     "output_type": "stream",
     "text": [
      "[[4, 6], [7, 9]]\n"
     ]
    }
   ],
   "execution_count": 72
  },
  {
   "cell_type": "markdown",
   "metadata": {},
   "source": [
    "---"
   ]
  },
  {
   "cell_type": "markdown",
   "metadata": {
    "id": "eLdrWVkavJEN"
   },
   "source": [
    "[문제5]\n",
    "\n",
    "양의 정수 x가 하샤드 수이려면 x의 자릿수의 합으로 x가 나누어져야 합니다.   \n",
    "예를 들어 18의 자릿수 합은 1+8=9이고, 18은 9로 나누어 떨어지므로 18은 하샤드 수입니다.   \n",
    "주어진 x를 이용해 x가 하샤드 수인지 아닌지 검사하는 코드를 작성해주세요\n",
    "\n",
    "x = 17\n",
    "\n",
    "----\n",
    "\n",
    "입출력 예시\n",
    "x\t결과값  \n",
    "10\ttrue  \n",
    "12\ttrue  \n",
    "11\tfalse  \n",
    "13\tfalse  "
   ]
  },
  {
   "cell_type": "code",
   "metadata": {
    "id": "EULD-IOrvKmG",
    "ExecuteTime": {
     "end_time": "2024-10-19T07:03:08.295593Z",
     "start_time": "2024-10-19T07:03:08.291135Z"
    }
   },
   "source": [
    "x = 17\n",
    "a = x // 10\n",
    "b = x % 10\n",
    "자릿수합 = a + b\n",
    "if x % 자릿수합 == 0:\n",
    "    print(x, True)\n",
    "else:\n",
    "    False\n",
    "    print(x, False)"
   ],
   "outputs": [
    {
     "name": "stdout",
     "output_type": "stream",
     "text": [
      "17 False\n"
     ]
    }
   ],
   "execution_count": 161
  },
  {
   "cell_type": "markdown",
   "metadata": {},
   "source": [
    "---"
   ]
  },
  {
   "cell_type": "markdown",
   "metadata": {
    "id": "GeS6hZhivLMZ"
   },
   "source": [
    "[문제6]\n",
    "\n",
    "String형 배열 seoul의 element중 \"Kim\"의 인덱스 x를 찾아, \"김서방은 x에 있다\"는 String을 출력하는 코드를 작성해주세요.   \n",
    "\n",
    "seoul에 \"Kim\"은 오직 한 번만 나타나며 잘못된 값이 입력되는 경우는 없습니다.\n",
    "\n",
    "seoul = [\"Jane\", \"Kim\"]\n",
    "\n",
    "결과\n",
    "\"김서방은 1에 있다\""
   ]
  },
  {
   "cell_type": "code",
   "metadata": {
    "id": "e4LXat3BvRRg",
    "ExecuteTime": {
     "end_time": "2024-10-19T07:03:09.974351Z",
     "start_time": "2024-10-19T07:03:09.970331Z"
    }
   },
   "source": [
    "seoul = ['Jane', 'Kim']\n",
    "x = seoul.index('Kim')\n",
    "print(f'\"김서방은 {x}에 있다.\"')"
   ],
   "outputs": [
    {
     "name": "stdout",
     "output_type": "stream",
     "text": [
      "\"김서방은 1에 있다.\"\n"
     ]
    }
   ],
   "execution_count": 162
  },
  {
   "cell_type": "markdown",
   "metadata": {},
   "source": [
    "---"
   ]
  },
  {
   "cell_type": "markdown",
   "metadata": {
    "id": "iZjKl-ZqvOkm"
   },
   "source": [
    "[문제7]\n",
    "\n",
    "0부터 9까지의 숫자 중 일부가 들어있는 정수 배열 numbers가 주어집니다.   \n",
    "numbers에서 찾을 수 없는 0부터 9까지의 숫자를 모두 찾아 더한 수를 출력해주세요\n",
    "\n",
    "numbers = [5,8,1,0,6,9]"
   ]
  },
  {
   "cell_type": "code",
   "metadata": {
    "id": "598DAkIHvQav",
    "ExecuteTime": {
     "end_time": "2024-10-19T07:03:11.672342Z",
     "start_time": "2024-10-19T07:03:11.667445Z"
    }
   },
   "source": [
    "numbers = [5, 8, 1, 0, 6, 9]\n",
    "\n",
    "no_numbers = []\n",
    "i = 0\n",
    "while i < 10:\n",
    "    if i in numbers:\n",
    "        i += 1\n",
    "    else:\n",
    "        no_numbers.append(i)\n",
    "        i += 1\n",
    "number_sum = sum(no_numbers)\n",
    "print(no_numbers, number_sum)"
   ],
   "outputs": [
    {
     "name": "stdout",
     "output_type": "stream",
     "text": [
      "[2, 3, 4, 7] 16\n"
     ]
    }
   ],
   "execution_count": 163
  },
  {
   "cell_type": "markdown",
   "metadata": {},
   "source": [
    "#### 프로젝트: 붕어빵 자동 판매 시스템\n",
    "\n",
    "\n",
    "당신은 붕어빵 가게의 주인입니다. \n",
    "\n",
    "손님들이 붕어빵을 주문하면 이를 자동으로 처리하고, 재고를 관리하는 시스템을 만들고자 합니다. 또한, 관리자 모드를 통해 재고를 추가할 수 있는 기능을 구현해야 합니다.\n"
   ]
  },
  {
   "cell_type": "markdown",
   "metadata": {},
   "source": [
    "[문제 1: 붕어빵 재고 확인]\n",
    "\n",
    "붕어빵 가게의 현재 재고를 확인하는 기능을 구현하세요.\n",
    "\n",
    "요구사항:\n",
    "- 현재 붕어빵의 재고를 딕셔너리로 관리합니다.\n",
    "- 딕셔너리에는 붕어빵의 종류와 각각의 재고 개수가 저장됩니다.\n",
    "- 현재 재고를 화면에 출력하세요.\n",
    "\n",
    "붕어빵 재고\n",
    "- 팥붕어빵 : 10개\n",
    "- 슈크림붕어빵 : 8개\n",
    "- 초코붕어빵 : 5개"
   ]
  },
  {
   "cell_type": "code",
   "metadata": {
    "ExecuteTime": {
     "end_time": "2024-10-19T08:16:41.980729Z",
     "start_time": "2024-10-19T08:16:41.976776Z"
    }
   },
   "source": [
    "# 붕어빵 초기 재고 입력\n",
    "재고 = {\"팥\" : 10,\n",
    "      \"슈크림\" : 8,\n",
    "      \"초코\" : 5}\n",
    "\n",
    "# 현재 재고 출력\n",
    "print(f'현재 재고\\n팥 붕어빵 : {재고[\"팥\"]}개\\n슈크림 붕어빵 : {재고[\"슈크림\"]}개\\n초코 붕어빵 : {재고[\"초코\"]}개')"
   ],
   "outputs": [
    {
     "name": "stdout",
     "output_type": "stream",
     "text": [
      "현재 재고\n",
      "팥 붕어빵 : 10개\n",
      "슈크림 붕어빵 : 8개\n",
      "초코 붕어빵 : 5개\n"
     ]
    }
   ],
   "execution_count": 203
  },
  {
   "cell_type": "markdown",
   "metadata": {},
   "source": [
    "[문제 2: 붕어빵 주문 받기]\n",
    "\n",
    "손님이 주문한 붕어빵의 종류와 개수를 입력받는 기능을 구현하세요.\n",
    "\n",
    "요구사항:\n",
    "- 손님이 주문할 붕어빵의 종류와 개수를 입력받습니다.\n",
    "- 주문 내용을 딕셔너리에 저장하세요.\n",
    "- 주문 내역을 출력해주세요."
   ]
  },
  {
   "metadata": {
    "ExecuteTime": {
     "end_time": "2024-10-19T07:33:41.030630Z",
     "start_time": "2024-10-19T07:33:34.660345Z"
    }
   },
   "cell_type": "code",
   "source": [
    "주문내용 = {}\n",
    "\n",
    "# 주문 종류 입력\n",
    "order_type = input(\"주문하실 붕어빵의 종류를 입력해주세요.(팥, 슈크림, 초코)\")\n",
    "\n",
    "# 주문 수량 입력\n",
    "order_count = int(input('주문하실 붕어빵의 수량을 입력해주세요.'))\n",
    "주문내용[order_type] = order_count # 주문 내용 저장\n",
    "\n",
    "# 주문 내역 출력\n",
    "print(f'주문하신 내역은 {order_type} 붕어빵 {order_count}개 입니다.')"
   ],
   "outputs": [
    {
     "name": "stdout",
     "output_type": "stream",
     "text": [
      "주문하신 내역은 팥 붕어빵 1개 입니다.\n"
     ]
    }
   ],
   "execution_count": 185
  },
  {
   "cell_type": "markdown",
   "metadata": {},
   "source": [
    "[문제 3: 붕어빵 주문 처리]\n",
    "\n",
    "손님의 주문을 처리하여 붕어빵 재고를 업데이트하는 기능을 구현하세요.\n",
    "\n",
    "요구사항:\n",
    "- 손님의 주문 내용을 기반으로 재고를 업데이트합니다.\n",
    "- 재고가 부족할 경우, 손님에게 재고 부족을 알리고 재고를 감소시키지 않습니다.\n",
    "- 재고가 충분할 경우, 주문한 만큼 재고를 감소시키고 판매를 완료합니다.\n",
    "- 판매가 완료된 경우 판매된 붕어빵 맛과 개수를 출력하세요."
   ]
  },
  {
   "cell_type": "code",
   "metadata": {
    "ExecuteTime": {
     "end_time": "2024-10-19T07:33:49.080327Z",
     "start_time": "2024-10-19T07:33:49.073871Z"
    }
   },
   "source": [
    "if order_type == \"팥\":\n",
    "    if 재고[\"팥\"] >= 주문내용[order_type]:\n",
    "        print(f'{order_type} 붕어빵 {주문내용[order_type]}개가 판매 완료 되었습니다.')\n",
    "        재고[\"팥\"] -= 주문내용[order_type] # 재고 감소\n",
    "    else:\n",
    "        print(f'죄송합니다. 현재 {order_type} 붕어빵의 재고가 부족하여 주문이 어렵습니다.')\n",
    "        \n",
    "elif order_type == \"슈크림\":\n",
    "    if 재고[\"슈크림\"] >= 주문내용[order_type]:\n",
    "        print(f'{order_type} 붕어빵 {주문내용[order_type]}개가 판매 완료 되었습니다.')\n",
    "        재고[\"슈크림\"] -= 주문내용[order_type] # 재고 감소\n",
    "    else:\n",
    "        print(f'죄송합니다. 현재 {order_type} 붕어빵의 재고가 부족하여 주문이 어렵습니다.')\n",
    "        \n",
    "else:\n",
    "    if 재고[\"초코\"] >= 주문내용[order_type]:\n",
    "        print(f'{order_type} 붕어빵 {주문내용[order_type]}개가 판매 완료 되었습니다.')\n",
    "        재고[\"초코\"] -= 주문내용[order_type] # 재고 감소\n",
    "    else:\n",
    "        print(f'죄송합니다. 현재 {order_type} 붕어빵의 재고가 부족하여 주문이 어렵습니다.')\n",
    "        \n",
    "print(f'현재 재고\\n팥 붕어빵 : {재고[\"팥\"]}개\\n슈크림 붕어빵 : {재고[\"슈크림\"]}개\\n초코 붕어빵 : {재고[\"초코\"]}개')\n",
    "# 재고가 8개인데 10개 주문했을 때 8개만 사갈지 다시 물어보려면?"
   ],
   "outputs": [
    {
     "name": "stdout",
     "output_type": "stream",
     "text": [
      "팥 붕어빵 1개가 판매 완료 되었습니다.\n",
      "현재 재고\n",
      "팥 붕어빵 : 9개\n",
      "슈크림 붕어빵 : 8개\n",
      "초코 붕어빵 : 5개\n"
     ]
    }
   ],
   "execution_count": 186
  },
  {
   "cell_type": "markdown",
   "metadata": {},
   "source": [
    "[문제 4: 여러 손님 주문 처리]\n",
    "\n",
    "여러 손님들의 주문을 처리할 수 있도록 시스템을 확장하세요.\n",
    "\n",
    "요구사항:\n",
    "- 손님이 \"종료\"를 입력할 때까지 주문을 계속 받습니다.\n",
    "- 각 주문마다 재고를 업데이트합니다.\n",
    "- 현재 재고를 화면에 출력합니다."
   ]
  },
  {
   "cell_type": "code",
   "metadata": {
    "ExecuteTime": {
     "end_time": "2024-10-19T08:02:35.234370Z",
     "start_time": "2024-10-19T08:02:25.481034Z"
    }
   },
   "source": [
    "while True:\n",
    "    # 주문 종류 초기화\n",
    "    order_type = ''\n",
    "    \n",
    "    # 주문 종류 입력\n",
    "    order_type = input(\"주문하실 붕어빵의 종류를 입력해주세요. (팥, 슈크림, 초코)\\n주문을 마치시려면 종료를 입력해주세요. \")\n",
    "     \n",
    "    # 종료 조건\n",
    "    if order_type == \"종료\":\n",
    "        print(\"모든 주문이 완료되었습니다.\")\n",
    "        break\n",
    "    \n",
    "    # 이전 주문 초기화\n",
    "    order_count = 0\n",
    "    \n",
    "    # 주문 수량 입력\n",
    "    order_count = int(input('주문하실 붕어빵의 수량을 입력해주세요.'))\n",
    "    주문내용[order_type] = order_count # 주문 내용 저장\n",
    "    \n",
    "    # 붕어빵 종류에 따라 재고 확인\n",
    "    if order_type == \"팥\":\n",
    "        if 재고[\"팥\"] >= 주문내용[order_type]:\n",
    "            print(f'{order_type} 붕어빵 {주문내용[order_type]}개가 판매 완료 되었습니다.')\n",
    "            재고[\"팥\"] -= 주문내용[order_type] # 재고 감소\n",
    "        else:\n",
    "            print(f'죄송합니다. 현재 {order_type} 붕어빵의 재고가 부족하여 주문이 어렵습니다.')\n",
    "    \n",
    "    elif order_type == \"슈크림\":\n",
    "        if 재고[\"슈크림\"] >= 주문내용[order_type]:\n",
    "            print(f'{order_type} 붕어빵 {주문내용[order_type]}개가 판매 완료 되었습니다.')\n",
    "            재고[\"슈크림\"] -= 주문내용[order_type] # 재고 감소\n",
    "        else:\n",
    "            print(f'죄송합니다. 현재 {order_type} 붕어빵의 재고가 부족하여 주문이 어렵습니다.')\n",
    "            \n",
    "    elif order_type == \"초코\":\n",
    "        if 재고[\"초코\"] >= 주문내용[order_type]:\n",
    "            print(f'{order_type} 붕어빵 {주문내용[order_type]}개가 판매 완료 되었습니다.')\n",
    "            재고[\"초코\"] -= 주문내용[order_type] # 재고 감소\n",
    "        else:\n",
    "            print(f'죄송합니다. 현재 {order_type} 붕어빵의 재고가 부족하여 주문이 어렵습니다.')\n",
    "            \n",
    "    else:\n",
    "        print(\"잘못 입력하셨습니다.\") # 잘못된 입력 처리\n",
    "\n",
    "# 주문이 완료되면 최종 재고 출력\n",
    "print(f'현재 재고\\n팥 붕어빵 : {재고[\"팥\"]}개\\n슈크림 붕어빵 : {재고[\"슈크림\"]}개\\n초코 붕어빵 : {재고[\"초코\"]}개')"
   ],
   "outputs": [
    {
     "name": "stdout",
     "output_type": "stream",
     "text": [
      "팥 붕어빵 3개가 판매 완료 되었습니다.\n",
      "모든 주문이 완료되었습니다.\n",
      "현재 재고\n",
      "팥 붕어빵 : 0개\n",
      "슈크림 붕어빵 : 18개\n",
      "초코 붕어빵 : 6개\n"
     ]
    }
   ],
   "execution_count": 198
  },
  {
   "cell_type": "markdown",
   "metadata": {},
   "source": [
    "[문제 5: 관리자 모드]\n",
    "\n",
    "관리자 모드를 통해 붕어빵 재고를 추가할 수 있는 기능을 구현하세요.\n",
    "\n",
    "요구사항:\n",
    "- 관리자는 특정 붕어빵의 재고를 추가할 수 있습니다.\n",
    "- \"종료\"를 입력하면 관리자 모드를 종료합니다.\n",
    "- 추가된 재고를 업데이트하고 현재 재고를 화면에 출력합니다."
   ]
  },
  {
   "cell_type": "code",
   "metadata": {
    "ExecuteTime": {
     "end_time": "2024-10-19T08:04:26.553803Z",
     "start_time": "2024-10-19T08:03:57.973353Z"
    }
   },
   "source": [
    "재고추가 = {}\n",
    "\n",
    "while True:\n",
    "    # 주문 종류 초기화\n",
    "    order_type = ''\n",
    "    \n",
    "    # 주문 종류 입력\n",
    "    order_type = input(\"주문하실 붕어빵의 종류를 입력해주세요. (팥, 슈크림, 초코)\\n주문을 마치시려면 '종료'를 입력해주세요.\\n재고를 추가하시려면 '관리자'를 입력해주세요.\")\n",
    "        \n",
    "    # 종료 조건\n",
    "    if order_type == \"종료\":\n",
    "        print(\"모든 주문이 완료되었습니다.\")\n",
    "        break\n",
    "        \n",
    "    # 관리자 모드\n",
    "    if order_type == \"관리자\":\n",
    "        while True:\n",
    "            # 추가할 재고 종류 초기화\n",
    "            add_type = ''\n",
    "            add_type = input('추가할 재고의 종류를 입력하세요. (팥, 슈크림, 초코)\\n재고 추가가 모두 완료되면 \"종료\"를 입력해주세요') # 추가할 재고 종류 입력\n",
    "            \n",
    "            # 재고 추가 완료시 종료\n",
    "            if add_type == \"종료\":\n",
    "                print(\"재고 추가가 완료되었습니다.\")\n",
    "                break\n",
    "            \n",
    "            # 이전 추가 재고량 초기화\n",
    "            add_count = 0\n",
    "            add_count = int(input('추가할 재고의 수량을 입력하세요.')) # 추가할 재고 수량 입력\n",
    "            재고추가[add_type] = add_count # 추가할 재고 내용 저장\n",
    "            \n",
    "            # 재고 조건 파악\n",
    "            if add_type == \"팥\":\n",
    "                print(f'{add_type} 붕어빵 {재고추가[add_type]}개가 추가되었습니다.')\n",
    "                재고[\"팥\"] += 재고추가[add_type] # 재고량 증가\n",
    "                \n",
    "            elif add_type == \"슈크림\":\n",
    "                print(f'{add_type} 붕어빵 {재고추가[add_type]}개가 추가되었습니다.')\n",
    "                재고[\"슈크림\"] += 재고추가[add_type] # 재고량 증가\n",
    "                \n",
    "            elif add_type == \"초코\":\n",
    "                print(f'{add_type} 붕어빵 {재고추가[add_type]}개가 추가되었습니다.')\n",
    "                재고[\"초코\"] += 재고추가[add_type] # 재고량 증가\n",
    "                \n",
    "            else:\n",
    "                print(\"잘못 입력하셨습니다.\") # 잘못된 입력 처리\n",
    "        break\n",
    "    \n",
    "    # 이전 주문 초기화\n",
    "    order_count = 0\n",
    "    \n",
    "    # 주문 수량 입력\n",
    "    order_count = int(input('주문하실 붕어빵의 수량을 입력해주세요.'))\n",
    "    주문내용[order_type] = order_count\n",
    "    \n",
    "    # 붕어빵 종류에 따라 재고 확인\n",
    "    if order_type == \"팥\":\n",
    "        if 재고[\"팥\"] >= 주문내용[order_type]:\n",
    "            print(f'{order_type} 붕어빵 {주문내용[order_type]}개가 판매 완료 되었습니다.')\n",
    "            재고[\"팥\"] -= 주문내용[order_type] # 재고 감소\n",
    "        else:\n",
    "            print(f'죄송합니다. 현재 {order_type} 붕어빵의 재고가 부족하여 주문이 어렵습니다.')\n",
    "    \n",
    "    elif order_type == \"슈크림\":\n",
    "        if 재고[\"슈크림\"] >= 주문내용[order_type]:\n",
    "            print(f'{order_type} 붕어빵 {주문내용[order_type]}개가 판매 완료 되었습니다.')\n",
    "            재고[\"슈크림\"] -= 주문내용[order_type] # 재고 감소\n",
    "        else:\n",
    "            print(f'죄송합니다. 현재 {order_type} 붕어빵의 재고가 부족하여 주문이 어렵습니다.')\n",
    "            \n",
    "    elif order_type == \"초코\":\n",
    "        if 재고[\"초코\"] >= 주문내용[order_type]:\n",
    "            print(f'{order_type} 붕어빵 {주문내용[order_type]}개가 판매 완료 되었습니다.')\n",
    "            재고[\"초코\"] -= 주문내용[order_type] # 재고 감소\n",
    "        else:\n",
    "            print(f'죄송합니다. 현재 {order_type} 붕어빵의 재고가 부족하여 주문이 어렵습니다.')\n",
    "            \n",
    "    else:\n",
    "        print(\"잘못 입력하셨습니다.\") # 잘못된 입력 처리\n",
    "\n",
    "# 주문이 완료되면 최종 재고 출력\n",
    "print(f'현재 재고\\n팥 붕어빵 : {재고[\"팥\"]}개\\n슈크림 붕어빵 : {재고[\"슈크림\"]}개\\n초코 붕어빵 : {재고[\"초코\"]}개')"
   ],
   "outputs": [
    {
     "name": "stdout",
     "output_type": "stream",
     "text": [
      "슈크림 붕어빵 3개가 판매 완료 되었습니다.\n",
      "초코 붕어빵 3개가 판매 완료 되었습니다.\n",
      "팥 붕어빵 10개가 추가되었습니다.\n",
      "재고 추가가 완료되었습니다.\n",
      "현재 재고\n",
      "팥 붕어빵 : 10개\n",
      "슈크림 붕어빵 : 15개\n",
      "초코 붕어빵 : 3개\n"
     ]
    }
   ],
   "execution_count": 199
  },
  {
   "cell_type": "markdown",
   "metadata": {},
   "source": [
    "[문제 6: 매출 확인]\n",
    "\n",
    "붕어빵 판매 가격을 설정하고, 판매한 붕어빵의 매출을 계산하세요.\n",
    "\n",
    "요구사항:\n",
    "- 각 붕어빵의 가격을 딕셔너리로 관리합니다.\n",
    "- 판매된 붕어빵의 종류와 개수를 딕셔너리로 관리합니다.\n",
    "- 총 매출을 계산하여 출력합니다.\n",
    "\n",
    "초기 설정:\n",
    "- 가격\n",
    "    - \"팥붕어빵\": 1000\n",
    "    - \"슈크림붕어빵\": 1200\n",
    "    - \"초코붕어빵\": 1500\n",
    "\n",
    "- 판매 개수\n",
    "    - \"팥붕어빵\": 0\n",
    "    - \"슈크림붕어빵\": 0\n",
    "    - \"초코붕어빵\": 0"
   ]
  },
  {
   "cell_type": "code",
   "metadata": {
    "ExecuteTime": {
     "end_time": "2024-10-19T08:26:51.383994Z",
     "start_time": "2024-10-19T08:26:49.532774Z"
    }
   },
   "source": [
    "price = {\"팥\" : 1000, \n",
    "       \"슈크림\" : 1200,\n",
    "       \"초코\" : 1500}\n",
    "\n",
    "sell_count = {\"팥\" : 0,\n",
    "              \"슈크림\" : 0,\n",
    "              \"초코\": 0}\n",
    "\n",
    "재고추가 = {}\n",
    "\n",
    "while True:\n",
    "    # 주문 종류 초기화\n",
    "    order_type = ''\n",
    "    \n",
    "    # 주문 종류 입력\n",
    "    order_type = input(\"주문하실 붕어빵의 종류를 입력해주세요. (팥, 슈크림, 초코)\\n주문을 마치시려면 '종료'를 입력해주세요.\\n재고를 추가하시려면 '관리자'를 입력해주세요.\")\n",
    "        \n",
    "    # 종료 조건\n",
    "    if order_type == \"종료\":\n",
    "        print(\"모든 주문이 완료되었습니다. 이용해주셔서 감사합니다.\")\n",
    "        break\n",
    "        \n",
    "    # 관리자 모드\n",
    "    if order_type == \"관리자\":\n",
    "        while True:\n",
    "            # 추가할 재고 종류 초기화\n",
    "            add_type = ''\n",
    "            add_type = input('추가할 재고의 종류를 입력하세요. (팥, 슈크림, 초코)\\n재고 추가가 모두 완료되면 \"종료\"를 입력해주세요') # 추가할 재고 종류 입력\n",
    "            \n",
    "            # 재고 추가 완료시 종료\n",
    "            if add_type == \"종료\":\n",
    "                print(\"재고 추가가 완료되었습니다.\")\n",
    "                break\n",
    "            \n",
    "            # 이전 추가 재고량 초기화\n",
    "            add_count = 0\n",
    "            add_count = int(input('추가할 재고의 수량을 입력하세요.')) # 추가할 재고 수량 입력\n",
    "            재고추가[add_type] = add_count # 추가할 재고 내용 저장\n",
    "            \n",
    "            # 재고 조건 파악\n",
    "            if add_type == \"팥\":\n",
    "                print(f'{add_type} 붕어빵 {재고추가[add_type]}개가 추가되었습니다.')\n",
    "                재고[\"팥\"] += 재고추가[add_type] # 재고량 증가\n",
    "                \n",
    "            elif add_type == \"슈크림\":\n",
    "                print(f'{add_type} 붕어빵 {재고추가[add_type]}개가 추가되었습니다.')\n",
    "                재고[\"슈크림\"] += 재고추가[add_type] # 재고량 증가\n",
    "                \n",
    "            elif add_type == \"초코\":\n",
    "                print(f'{add_type} 붕어빵 {재고추가[add_type]}개가 추가되었습니다.')\n",
    "                재고[\"초코\"] += 재고추가[add_type] # 재고량 증가\n",
    "                \n",
    "            else:\n",
    "                print(\"잘못 입력하셨습니다.\") # 잘못된 입력 처리\n",
    "        break\n",
    "    \n",
    "    # 이전 주문 초기화\n",
    "    order_count = 0\n",
    "    \n",
    "    # 주문 수량 입력\n",
    "    order_count = int(input('주문하실 붕어빵의 수량을 입력해주세요.'))\n",
    "    주문내용[order_type] = order_count\n",
    "    \n",
    "    # 붕어빵 종류에 따라 재고 확인\n",
    "    if order_type == \"팥\":\n",
    "        if 재고[\"팥\"] >= 주문내용[order_type]:\n",
    "            print(f'{order_type} 붕어빵 {주문내용[order_type]}개가 판매 완료 되었습니다.')\n",
    "            재고[\"팥\"] -= 주문내용[order_type] # 재고 감소\n",
    "            sell_count[\"팥\"] += 주문내용[order_type] # 판매량 저장\n",
    "        else:\n",
    "            print(f'죄송합니다. 현재 {order_type} 붕어빵의 재고가 부족하여 주문이 어렵습니다.')\n",
    "    \n",
    "    elif order_type == \"슈크림\":\n",
    "        if 재고[\"슈크림\"] >= 주문내용[order_type]:\n",
    "            print(f'{order_type} 붕어빵 {주문내용[order_type]}개가 판매 완료 되었습니다.')\n",
    "            재고[\"슈크림\"] -= 주문내용[order_type] # 재고 감소\n",
    "            sell_count[\"슈크림\"] += 주문내용[order_type] # 판매량 저장\n",
    "        else:\n",
    "            print(f'죄송합니다. 현재 {order_type} 붕어빵의 재고가 부족하여 주문이 어렵습니다.')\n",
    "            \n",
    "    elif order_type == \"초코\":\n",
    "        if 재고[\"초코\"] >= 주문내용[order_type]:\n",
    "            print(f'{order_type} 붕어빵 {주문내용[order_type]}개가 판매 완료 되었습니다.')\n",
    "            재고[\"초코\"] -= 주문내용[order_type] # 재고 감소\n",
    "            sell_count[\"초코\"] += 주문내용[order_type] # 판매량 저장\n",
    "        else:\n",
    "            print(f'죄송합니다. 현재 {order_type} 붕어빵의 재고가 부족하여 주문이 어렵습니다.')\n",
    "            \n",
    "    else:\n",
    "        print(\"잘못 입력하셨습니다.\") # 잘못된 입력 처리\n",
    "        \n",
    "# 현재 매출 계산\n",
    "매출 = price[\"팥\"] * sell_count[\"팥\"] + price[\"슈크림\"] * sell_count[\"슈크림\"] + price[\"초코\"] * sell_count[\"초코\"]\n",
    "\n",
    "# 매출 출력\n",
    "print(f'현재 매출은 {매출}원 입니다.')"
   ],
   "outputs": [
    {
     "ename": "KeyboardInterrupt",
     "evalue": "Interrupted by user",
     "output_type": "error",
     "traceback": [
      "\u001B[0;31m---------------------------------------------------------------------------\u001B[0m",
      "\u001B[0;31mKeyboardInterrupt\u001B[0m                         Traceback (most recent call last)",
      "Cell \u001B[0;32mIn[207], line 16\u001B[0m\n\u001B[1;32m     13\u001B[0m order_type \u001B[38;5;241m=\u001B[39m \u001B[38;5;124m'\u001B[39m\u001B[38;5;124m'\u001B[39m\n\u001B[1;32m     15\u001B[0m \u001B[38;5;66;03m# 주문 종류 입력\u001B[39;00m\n\u001B[0;32m---> 16\u001B[0m order_type \u001B[38;5;241m=\u001B[39m \u001B[38;5;28;43minput\u001B[39;49m\u001B[43m(\u001B[49m\u001B[38;5;124;43m\"\u001B[39;49m\u001B[38;5;124;43m주문하실 붕어빵의 종류를 입력해주세요. (팥, 슈크림, 초코)\u001B[39;49m\u001B[38;5;130;43;01m\\n\u001B[39;49;00m\u001B[38;5;124;43m주문을 마치시려면 \u001B[39;49m\u001B[38;5;124;43m'\u001B[39;49m\u001B[38;5;124;43m종료\u001B[39;49m\u001B[38;5;124;43m'\u001B[39;49m\u001B[38;5;124;43m를 입력해주세요.\u001B[39;49m\u001B[38;5;130;43;01m\\n\u001B[39;49;00m\u001B[38;5;124;43m재고를 추가하시려면 \u001B[39;49m\u001B[38;5;124;43m'\u001B[39;49m\u001B[38;5;124;43m관리자\u001B[39;49m\u001B[38;5;124;43m'\u001B[39;49m\u001B[38;5;124;43m를 입력해주세요.\u001B[39;49m\u001B[38;5;124;43m\"\u001B[39;49m\u001B[43m)\u001B[49m\n\u001B[1;32m     18\u001B[0m \u001B[38;5;66;03m# 종료 조건\u001B[39;00m\n\u001B[1;32m     19\u001B[0m \u001B[38;5;28;01mif\u001B[39;00m order_type \u001B[38;5;241m==\u001B[39m \u001B[38;5;124m\"\u001B[39m\u001B[38;5;124m종료\u001B[39m\u001B[38;5;124m\"\u001B[39m:\n",
      "File \u001B[0;32m~/Library/Python/3.9/lib/python/site-packages/ipykernel/kernelbase.py:1282\u001B[0m, in \u001B[0;36mKernel.raw_input\u001B[0;34m(self, prompt)\u001B[0m\n\u001B[1;32m   1280\u001B[0m     msg \u001B[38;5;241m=\u001B[39m \u001B[38;5;124m\"\u001B[39m\u001B[38;5;124mraw_input was called, but this frontend does not support input requests.\u001B[39m\u001B[38;5;124m\"\u001B[39m\n\u001B[1;32m   1281\u001B[0m     \u001B[38;5;28;01mraise\u001B[39;00m StdinNotImplementedError(msg)\n\u001B[0;32m-> 1282\u001B[0m \u001B[38;5;28;01mreturn\u001B[39;00m \u001B[38;5;28;43mself\u001B[39;49m\u001B[38;5;241;43m.\u001B[39;49m\u001B[43m_input_request\u001B[49m\u001B[43m(\u001B[49m\n\u001B[1;32m   1283\u001B[0m \u001B[43m    \u001B[49m\u001B[38;5;28;43mstr\u001B[39;49m\u001B[43m(\u001B[49m\u001B[43mprompt\u001B[49m\u001B[43m)\u001B[49m\u001B[43m,\u001B[49m\n\u001B[1;32m   1284\u001B[0m \u001B[43m    \u001B[49m\u001B[38;5;28;43mself\u001B[39;49m\u001B[38;5;241;43m.\u001B[39;49m\u001B[43m_parent_ident\u001B[49m\u001B[43m[\u001B[49m\u001B[38;5;124;43m\"\u001B[39;49m\u001B[38;5;124;43mshell\u001B[39;49m\u001B[38;5;124;43m\"\u001B[39;49m\u001B[43m]\u001B[49m\u001B[43m,\u001B[49m\n\u001B[1;32m   1285\u001B[0m \u001B[43m    \u001B[49m\u001B[38;5;28;43mself\u001B[39;49m\u001B[38;5;241;43m.\u001B[39;49m\u001B[43mget_parent\u001B[49m\u001B[43m(\u001B[49m\u001B[38;5;124;43m\"\u001B[39;49m\u001B[38;5;124;43mshell\u001B[39;49m\u001B[38;5;124;43m\"\u001B[39;49m\u001B[43m)\u001B[49m\u001B[43m,\u001B[49m\n\u001B[1;32m   1286\u001B[0m \u001B[43m    \u001B[49m\u001B[43mpassword\u001B[49m\u001B[38;5;241;43m=\u001B[39;49m\u001B[38;5;28;43;01mFalse\u001B[39;49;00m\u001B[43m,\u001B[49m\n\u001B[1;32m   1287\u001B[0m \u001B[43m\u001B[49m\u001B[43m)\u001B[49m\n",
      "File \u001B[0;32m~/Library/Python/3.9/lib/python/site-packages/ipykernel/kernelbase.py:1325\u001B[0m, in \u001B[0;36mKernel._input_request\u001B[0;34m(self, prompt, ident, parent, password)\u001B[0m\n\u001B[1;32m   1322\u001B[0m \u001B[38;5;28;01mexcept\u001B[39;00m \u001B[38;5;167;01mKeyboardInterrupt\u001B[39;00m:\n\u001B[1;32m   1323\u001B[0m     \u001B[38;5;66;03m# re-raise KeyboardInterrupt, to truncate traceback\u001B[39;00m\n\u001B[1;32m   1324\u001B[0m     msg \u001B[38;5;241m=\u001B[39m \u001B[38;5;124m\"\u001B[39m\u001B[38;5;124mInterrupted by user\u001B[39m\u001B[38;5;124m\"\u001B[39m\n\u001B[0;32m-> 1325\u001B[0m     \u001B[38;5;28;01mraise\u001B[39;00m \u001B[38;5;167;01mKeyboardInterrupt\u001B[39;00m(msg) \u001B[38;5;28;01mfrom\u001B[39;00m \u001B[38;5;28;01mNone\u001B[39;00m\n\u001B[1;32m   1326\u001B[0m \u001B[38;5;28;01mexcept\u001B[39;00m \u001B[38;5;167;01mException\u001B[39;00m:\n\u001B[1;32m   1327\u001B[0m     \u001B[38;5;28mself\u001B[39m\u001B[38;5;241m.\u001B[39mlog\u001B[38;5;241m.\u001B[39mwarning(\u001B[38;5;124m\"\u001B[39m\u001B[38;5;124mInvalid Message:\u001B[39m\u001B[38;5;124m\"\u001B[39m, exc_info\u001B[38;5;241m=\u001B[39m\u001B[38;5;28;01mTrue\u001B[39;00m)\n",
      "\u001B[0;31mKeyboardInterrupt\u001B[0m: Interrupted by user"
     ]
    }
   ],
   "execution_count": 207
  },
  {
   "metadata": {},
   "cell_type": "code",
   "outputs": [],
   "execution_count": null,
   "source": [
    "# 추가해보고 싶은 기능\n",
    "# 재고량보다 많이 주문했을 때 재고량만큼 판매하는 기능\n",
    "# 추가한 재고만큼 매출에서 제외\n",
    "# 진짜 겁나 어렵다"
   ]
  }
 ],
 "metadata": {
  "colab": {
   "authorship_tag": "ABX9TyMLQjyUmELFyKkx1AyovOFZ",
   "provenance": []
  },
  "kernelspec": {
   "display_name": "Python 3 (ipykernel)",
   "name": "python3",
   "language": "python"
  },
  "language_info": {
   "codemirror_mode": {
    "name": "ipython",
    "version": 3
   },
   "file_extension": ".py",
   "mimetype": "text/x-python",
   "name": "python",
   "nbconvert_exporter": "python",
   "pygments_lexer": "ipython3",
   "version": "3.11.7"
  }
 },
 "nbformat": 4,
 "nbformat_minor": 0
}
