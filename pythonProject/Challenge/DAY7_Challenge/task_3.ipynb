{
 "cells": [
  {
   "cell_type": "markdown",
   "metadata": {},
   "source": [
    "사용자로부터 여러 개의 숫자를 입력받아 리스트에 저장한 후, 사용자가 'done'이라고 입력할 때까지 계속 입력받으세요. \n",
    "\n",
    "- 입력 중 숫자가 아닌 값이 입력되면 ValueError를 처리\n",
    "- 숫자 외 값이 입력된 경우 어떤 값이 잘못 입력되었는지 사용자에게 알려주는 문구 출력<br>\n",
    "  (예: f\"잘못된 값: {변수}. 숫자를 입력해주세요.\")"
   ]
  },
  {
   "metadata": {
    "ExecuteTime": {
     "end_time": "2024-10-22T17:37:06.723881Z",
     "start_time": "2024-10-22T17:36:55.463197Z"
    }
   },
   "cell_type": "code",
   "source": [
    "list = []\n",
    "\n",
    "while True:\n",
    "    a = input(\"숫자를 입력하세요. 마치시려면 done을 입력하세요.\")\n",
    "    \n",
    "    if a.lower() == \"done\":\n",
    "        break\n",
    "    \n",
    "    try:\n",
    "        number = int(a)\n",
    "        list.append(number)\n",
    "    except ValueError:\n",
    "        print(f'잘못된 값 : {a}\\n숫자를 입력해주세요.')\n",
    "        \n",
    "print('입력된 숫자 리스트 :', list)"
   ],
   "outputs": [
    {
     "name": "stdout",
     "output_type": "stream",
     "text": [
      "입력된 숫자 리스트 : [1, 2, 3, 4, 5]\n"
     ]
    }
   ],
   "execution_count": 4
  }
 ],
 "metadata": {
  "language_info": {
   "name": "python"
  },
  "kernelspec": {
   "name": "python3",
   "language": "python",
   "display_name": "Python 3 (ipykernel)"
  }
 },
 "nbformat": 4,
 "nbformat_minor": 2
}
