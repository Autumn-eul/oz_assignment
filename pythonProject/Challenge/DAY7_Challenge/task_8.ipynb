{
 "cells": [
  {
   "cell_type": "markdown",
   "metadata": {},
   "source": [
    "여러분이 자주 사용하는 수학적 연산<br>\n",
    "(예: 삼각형 넓이, 원의 넓이, 직육면체의 넓이)을 수행하는 함수들을 포함하는 mymath.py라는 이름의 모듈을 만드세요. \n",
    "\n",
    "이 모듈을 사용하여 작성된 함수들을 실제로 임포트하고 사용하는 간단한 프로그램을 작성하세요."
   ]
  },
  {
   "metadata": {
    "ExecuteTime": {
     "end_time": "2024-10-22T17:16:11.998182Z",
     "start_time": "2024-10-22T17:16:11.991330Z"
    }
   },
   "cell_type": "code",
   "source": [
    "import mymath\n",
    "\n",
    "# 삼각형 넓이 계산\n",
    "a = 3\n",
    "b = 4\n",
    "삼각형 = mymath.삼각형_넓이(a, b)\n",
    "print(f'밑변이 {a}, 높이가 {b}인 삼각형의 넓이는 {삼각형} 입니다.')\n",
    "\n",
    "# 원의 넓이\n",
    "r = 5\n",
    "원 = mymath.원_넓이(r)\n",
    "print(f'반지름이 {r}인 원의 넓이는 {원} 입니다.')\n",
    "\n",
    "# 직육면체의 겉넓이\n",
    "c = 10\n",
    "d = 10\n",
    "h = 10\n",
    "직육면체 = mymath.직육면체_겉넓이(c, d, h)\n",
    "print(f'가로가 {c}, 세로가 {d}, 높이가 {h}인 직육면체의 겉넓이는 {직육면체} 입니다.')"
   ],
   "outputs": [
    {
     "name": "stdout",
     "output_type": "stream",
     "text": [
      "밑변이 3, 높이가 4인 삼각형의 넓이는 6.0 입니다.\n",
      "반지름이 5인 원의 넓이는 78.53981633974483 입니다.\n",
      "가로가 10, 세로가 10, 높이가 10인 직육면체의 겉넓이는 600 입니다.\n"
     ]
    }
   ],
   "execution_count": 2
  }
 ],
 "metadata": {
  "language_info": {
   "name": "python"
  },
  "kernelspec": {
   "name": "python3",
   "language": "python",
   "display_name": "Python 3 (ipykernel)"
  }
 },
 "nbformat": 4,
 "nbformat_minor": 2
}
