{
 "cells": [
  {
   "cell_type": "markdown",
   "metadata": {},
   "source": [
    "파일을 읽어서 내용을 출력하는 프로그램을 작성하세요. \n",
    "\n",
    "- 파일이 존재하지 않을 때 발생하는 FileNotFoundError를 처리\n",
    "- 파일이 존재하지 않을 경우 \"파일을 찾을 수 없습니다.\"라는 메시지를 출력"
   ]
  },
  {
   "metadata": {
    "ExecuteTime": {
     "end_time": "2024-10-22T09:19:19.018347Z",
     "start_time": "2024-10-22T09:19:19.001667Z"
    }
   },
   "cell_type": "code",
   "source": [
    "from myfile import a\n",
    "\n",
    "\n",
    "print(myfile.a)\n",
    "\n",
    "# except FileNotFoundError:\n",
    "#     print(\"파일을 찾을 수 없습니다.\")"
   ],
   "outputs": [
    {
     "ename": "ImportError",
     "evalue": "cannot import name 'a' from 'myfile' (/Users/lolll/Desktop/oz_assignment/pythonProject/Challenge/DAY7_Challenge/myfile.py)",
     "output_type": "error",
     "traceback": [
      "\u001B[0;31m---------------------------------------------------------------------------\u001B[0m",
      "\u001B[0;31mImportError\u001B[0m                               Traceback (most recent call last)",
      "Cell \u001B[0;32mIn[17], line 1\u001B[0m\n\u001B[0;32m----> 1\u001B[0m \u001B[38;5;28;01mfrom\u001B[39;00m \u001B[38;5;21;01mmyfile\u001B[39;00m \u001B[38;5;28;01mimport\u001B[39;00m a\n\u001B[1;32m      4\u001B[0m \u001B[38;5;28mprint\u001B[39m(myfile\u001B[38;5;241m.\u001B[39ma)\n\u001B[1;32m      6\u001B[0m \u001B[38;5;66;03m# except FileNotFoundError:\u001B[39;00m\n\u001B[1;32m      7\u001B[0m \u001B[38;5;66;03m#     print(\"파일을 찾을 수 없습니다.\")\u001B[39;00m\n",
      "\u001B[0;31mImportError\u001B[0m: cannot import name 'a' from 'myfile' (/Users/lolll/Desktop/oz_assignment/pythonProject/Challenge/DAY7_Challenge/myfile.py)"
     ]
    }
   ],
   "execution_count": 17
  }
 ],
 "metadata": {
  "language_info": {
   "name": "python"
  },
  "kernelspec": {
   "name": "python3",
   "language": "python",
   "display_name": "Python 3 (ipykernel)"
  }
 },
 "nbformat": 4,
 "nbformat_minor": 2
}
