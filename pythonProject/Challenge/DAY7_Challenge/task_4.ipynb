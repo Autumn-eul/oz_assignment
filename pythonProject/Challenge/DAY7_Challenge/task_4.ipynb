{
 "cells": [
  {
   "cell_type": "markdown",
   "metadata": {},
   "source": [
    "사용자 정의 예외 NegativeNumberError를 생성하고, 사용자로부터 숫자를 입력받아 음수일 경우 NegativeNumberError를 발생시키는 프로그램을 작성하세요. \n",
    "\n",
    "- 예외 처리 구문을 사용하여 음수 입력 시 \"양수를 입력해주세요.\"라는 메시지를 출력"
   ]
  },
  {
   "metadata": {
    "ExecuteTime": {
     "end_time": "2024-10-22T08:09:50.651947Z",
     "start_time": "2024-10-22T08:09:50.645761Z"
    }
   },
   "cell_type": "code",
   "source": [
    "a = 3\n",
    "b = 'abc'\n",
    "print('a =', a)\n",
    "print('b =', b)\n",
    "\n",
    "a, b = b, a\n",
    "print('a =', a)\n",
    "print('b =', b)"
   ],
   "outputs": [
    {
     "name": "stdout",
     "output_type": "stream",
     "text": [
      "a = 3\n",
      "b = abc\n",
      "a = abc\n",
      "b = 3\n"
     ]
    }
   ],
   "execution_count": 2
  },
  {
   "metadata": {},
   "cell_type": "markdown",
   "source": [
    "1. 컴프리헨션 작동원리\n",
    "2. 파이썬에서 자주 사용되는 내장함수 하루에 하나씩 공부하기"
   ]
  }
 ],
 "metadata": {
  "language_info": {
   "name": "python"
  },
  "kernelspec": {
   "name": "python3",
   "language": "python",
   "display_name": "Python 3 (ipykernel)"
  }
 },
 "nbformat": 4,
 "nbformat_minor": 2
}
