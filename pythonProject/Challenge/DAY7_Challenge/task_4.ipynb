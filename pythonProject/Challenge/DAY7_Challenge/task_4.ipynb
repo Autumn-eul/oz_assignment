{
 "cells": [
  {
   "cell_type": "markdown",
   "metadata": {},
   "source": [
    "사용자 정의 예외 NegativeNumberError를 생성하고, 사용자로부터 숫자를 입력받아 음수일 경우 NegativeNumberError를 발생시키는 프로그램을 작성하세요. \n",
    "\n",
    "- 예외 처리 구문을 사용하여 음수 입력 시 \"양수를 입력해주세요.\"라는 메시지를 출력"
   ]
  },
  {
   "metadata": {
    "ExecuteTime": {
     "end_time": "2024-10-22T17:47:54.736477Z",
     "start_time": "2024-10-22T17:47:51.269329Z"
    }
   },
   "cell_type": "code",
   "source": [
    "class NegativeNumberError(Exception):\n",
    "    pass\n",
    "\n",
    "def input_num():\n",
    "    try:\n",
    "        number = int(input(\"숫자를 입력하세요.\"))\n",
    "        if number < 0:\n",
    "            raise NegativeNumberError\n",
    "        print(f'입력된 숫자는 {number} 입니다.')\n",
    "        \n",
    "    except NegativeNumberError:\n",
    "        print('양수를 입력해 주세요.')\n",
    "    \n",
    "    except ValueError:\n",
    "        print('잘못 입력하셨습니다. 숫자를 입력해주세요.')\n",
    "        \n",
    "input_num()"
   ],
   "outputs": [
    {
     "name": "stdout",
     "output_type": "stream",
     "text": [
      "양수를 입력해 주세요.\n"
     ]
    }
   ],
   "execution_count": 4
  }
 ],
 "metadata": {
  "language_info": {
   "name": "python"
  },
  "kernelspec": {
   "name": "python3",
   "language": "python",
   "display_name": "Python 3 (ipykernel)"
  }
 },
 "nbformat": 4,
 "nbformat_minor": 2
}
