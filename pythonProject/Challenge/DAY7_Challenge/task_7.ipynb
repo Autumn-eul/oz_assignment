{
 "cells": [
  {
   "cell_type": "markdown",
   "metadata": {},
   "source": [
    "함수 실행 시간을 측정하는 데코레이터 timer_decorator를 작성하세요. \n",
    "\n",
    "임의의 함수가 실행되는 시간을 측정하여 \"함수 실행 시간: x.xx초\" 형태로 출력하세요."
   ]
  },
  {
   "metadata": {
    "ExecuteTime": {
     "end_time": "2024-10-22T17:23:03.615149Z",
     "start_time": "2024-10-22T17:23:01.104868Z"
    }
   },
   "cell_type": "code",
   "source": [
    "import time\n",
    "\n",
    "def timer_decorator(func):\n",
    "    def wrapper(*args, **kwargs):\n",
    "        start = time.time() # 시작 시간 기록\n",
    "        result = func(*args, **kwargs) # 함수 실행\n",
    "        end = time.time() # 종료 시간 기록\n",
    "        execution_time = end - start # 실행 시간 계산\n",
    "        print(f'함수 실행 시간 : {execution_time:.2f}초')\n",
    "        return result\n",
    "    return wrapper\n",
    "\n",
    "@timer_decorator\n",
    "def slow_function():\n",
    "    print('함수가 실행 중 입니다.')\n",
    "    time.sleep(2)\n",
    "    print('함수가 끝났습니다.')\n",
    "    \n",
    "@timer_decorator\n",
    "def fast_function():\n",
    "    print('빠른 함수 실행 중 입니다.')\n",
    "    time.sleep(0.5)\n",
    "    print('빠른 함수가 끝났습니다.')\n",
    "    \n",
    "slow_function()\n",
    "fast_function()"
   ],
   "outputs": [
    {
     "name": "stdout",
     "output_type": "stream",
     "text": [
      "함수가 실행 중 입니다.\n",
      "함수가 끝났습니다.\n",
      "함수 실행 시간 : 2.00초\n",
      "빠른 함수 실행 중 입니다.\n",
      "빠른 함수가 끝났습니다.\n",
      "함수 실행 시간 : 0.50초\n"
     ]
    }
   ],
   "execution_count": 2
  }
 ],
 "metadata": {
  "language_info": {
   "name": "python"
  },
  "kernelspec": {
   "name": "python3",
   "language": "python",
   "display_name": "Python 3 (ipykernel)"
  }
 },
 "nbformat": 4,
 "nbformat_minor": 2
}
