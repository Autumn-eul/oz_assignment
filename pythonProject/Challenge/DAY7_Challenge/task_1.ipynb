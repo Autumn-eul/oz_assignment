{
 "cells": [
  {
   "cell_type": "markdown",
   "metadata": {},
   "source": [
    "사용자로부터 두 개의 숫자를 입력받아 나눗셈을 수행하는 프로그램을 작성하세요. \n",
    "\n",
    "[예외처리]\n",
    "- 입력 값이 숫자가 아닐 때 발생할 수 있는 ValueError\n",
    "- 나누는 수가 0일 때 발생할 수 있는 ZeroDivisionError\n",
    "- 위 2가지 예외처리 후 사용자에게 이해하기 쉬운 메시지 작성 후 출력되도록 코드를 작성"
   ]
  },
  {
   "metadata": {
    "ExecuteTime": {
     "end_time": "2024-10-22T06:30:00.582289Z",
     "start_time": "2024-10-22T06:29:57.669281Z"
    }
   },
   "cell_type": "code",
   "source": [
    "try:\n",
    "    a, b = map(int, input('나눌 두개의 수를 입력하세요.').split())\n",
    "    result = a / b\n",
    "    print(result)\n",
    "    \n",
    "except ValueError:\n",
    "    print('입력된 값이 정수가 아니므로 계산이 불가합니다.')\n",
    "\n",
    "except ZeroDivisionError:\n",
    "    print('나누는 수에 0을 입력할 수 없습니다.')"
   ],
   "outputs": [
    {
     "name": "stdout",
     "output_type": "stream",
     "text": [
      "나누는 수에 0을 입력할 수 없습니다.\n"
     ]
    }
   ],
   "execution_count": 6
  }
 ],
 "metadata": {
  "language_info": {
   "name": "python"
  },
  "kernelspec": {
   "name": "python3",
   "language": "python",
   "display_name": "Python 3 (ipykernel)"
  }
 },
 "nbformat": 4,
 "nbformat_minor": 2
}
