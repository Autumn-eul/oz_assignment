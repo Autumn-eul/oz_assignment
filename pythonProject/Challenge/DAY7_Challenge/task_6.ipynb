{
 "cells": [
  {
   "cell_type": "markdown",
   "metadata": {},
   "source": [
    "requests 모듈을 사용하여, 웹 페이지의 HTML을 가져오는 간단한 웹 스크레이퍼를 작성하세요.\n",
    "\n",
    "'https://kream.co.kr/'에서<br> \n",
    "데이터를 가져와서 상태 코드와 HTML의 첫 100자를 출력하세요.<br>\n",
    "(실습 전 requests 모듈을 설치해야 함)"
   ]
  },
  {
   "metadata": {
    "ExecuteTime": {
     "end_time": "2024-10-22T17:32:52.510586Z",
     "start_time": "2024-10-22T17:32:22.293089Z"
    }
   },
   "cell_type": "code",
   "source": [
    "import requests\n",
    "\n",
    "response = requests.get('https://kream.co.kr/')\n",
    "print(\"상태 코드:\", response.status_code)\n",
    "print(\"HTML 내용 (첫 100자):\\n\", response.text[:100])"
   ],
   "outputs": [
    {
     "name": "stdout",
     "output_type": "stream",
     "text": [
      "상태 코드: 500\n",
      "HTML 내용 (첫 100자):\n",
      " <!DOCTYPE html>\n",
      "<html lang=\"ko\">\n",
      "<head>\n",
      "<meta name=\"robots\" content=\"noindex, nofollow\" />\n",
      "<meta htt\n"
     ]
    }
   ],
   "execution_count": 2
  }
 ],
 "metadata": {
  "language_info": {
   "name": "python"
  },
  "kernelspec": {
   "name": "python3",
   "language": "python",
   "display_name": "Python 3 (ipykernel)"
  }
 },
 "nbformat": 4,
 "nbformat_minor": 2
}
