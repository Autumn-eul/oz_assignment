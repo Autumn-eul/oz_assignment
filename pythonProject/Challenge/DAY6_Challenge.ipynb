{
 "cells": [
  {
   "cell_type": "code",
   "id": "initial_id",
   "metadata": {
    "collapsed": true,
    "ExecuteTime": {
     "end_time": "2024-10-21T10:00:42.539301Z",
     "start_time": "2024-10-21T10:00:02.027124Z"
    }
   },
   "source": [
    "\"\"\"\n",
    "[문제 6: 매출 확인]\n",
    "\n",
    "붕어빵 판매 가격을 설정하고, 판매한 붕어빵의 매출을 계산하세요.\n",
    "\n",
    "요구사항:\n",
    "- 각 붕어빵의 가격을 딕셔너리로 관리합니다.\n",
    "- 판매된 붕어빵의 종류와 개수를 딕셔너리로 관리합니다.\n",
    "- 총 매출을 계산하여 출력합니다.\n",
    "\n",
    "초기 설정:\n",
    "- 가격\n",
    "    - \"팥붕어빵\": 1000\n",
    "    - \"슈크림붕어빵\": 1200\n",
    "    - \"초코붕어빵\": 1500\n",
    "\n",
    "- 판매 개수\n",
    "    - \"팥붕어빵\": 0\n",
    "    - \"슈크림붕어빵\": 0\n",
    "    - \"초코붕어빵\": 0\n",
    "\"\"\"\n",
    "\n",
    "stock = {\"팥붕어빵\" : 10,\n",
    "        \"슈크림붕어빵\" : 8,\n",
    "        \"초코붕어빵\" : 5}\n",
    "\n",
    "price = {\n",
    "    \"팥붕어빵\" : 1000,\n",
    "    \"슈크림붕어빵\" : 1200,\n",
    "    \"초코붕어빵\" : 1500,\n",
    "}\n",
    "\n",
    "sales = {\n",
    "    \"팥붕어빵\" : 0,\n",
    "    \"슈크림붕어빵\" : 0,\n",
    "    \"초코붕어빵\" : 0,\n",
    "}\n",
    "\n",
    "while True:\n",
    "    mode = input(\"원하는 모드를 선택해주세요.(주문, 관리자, 종료 : \")\n",
    "    if mode == \"종료\":\n",
    "        break\n",
    "    if mode == \"주문\":\n",
    "        while True:\n",
    "            bread_type = input(\"붕어빵 종류를 입력해주세요(팥붕어빵, 슈크림붕어빵, 초코붕어빵 중 하나를 선택해주세요) 뒤로 돌아가길 원하시면 돌아가기를 입력해주세요 :\")\n",
    "            \n",
    "            if stock[bread_type] <= 0:\n",
    "                print(f'현재 {bread_type}의 재고가 부족하여 주문이 어렵습니다. 다른 붕어빵을 골라주세요.')\n",
    "                continue\n",
    "                \n",
    "            if bread_type == \"돌아가기\": # bread_type에는 초코붕어빵 \n",
    "                break\n",
    "                \n",
    "            bread_count = int(input(\"주문할 붕어빵 개수를 입력해주세요 : \")) #str \"3\", '3' int() 함수 => 특정 기능이 작동되도록 모아놓은 코드다 => 자료형을 숫자로 형태의 자료로 만드는 기능의 함수\n",
    "                \n",
    "            if stock[bread_type] >= bread_count:\n",
    "               stock[bread_type] -= bread_count # stock[\"초코붕어빵\"] = 5-3\n",
    "               sales[bread_type] += bread_count\n",
    "               print(f\"{bread_type} {bread_count}개를 판매했습니다.\")\n",
    "                \n",
    "            else:\n",
    "                answer = input(f'죄송합니다. 현재 {bread_type}의 재고가 {stock[bread_type]}개 입니다. {stock[bread_type]}개만 구매하시겠습니까? (예/아니오)')\n",
    "                if answer == \"예\":\n",
    "                    print(f'{bread_type} {stock[bread_type]}개가 판매 완료 되었습니다.') # 구매한 종류와 수량 출력\n",
    "                    stock[bread_type] -= bread_count # 재고 감소\n",
    "                    sales[bread_type] += bread_count # 판매량 업데이트\n",
    "                else:\n",
    "                    print(f'현재 {bread_type}의 재고가 부족하여 주문이 어렵습니다. 다른 붕어빵을 골라주세요.')\n",
    "\n",
    "    if mode == \"관리자\":\n",
    "        while True:\n",
    "            bread_type = input(\"추가할 붕어빵 종류를 입력해주세요(팥붕어빵, 슈크림붕어빵, 초코붕어빵 중 하나를 선택해주세요) 뒤로 돌아가길 원하시면 돌아가기를 입력해주세요 :\")\n",
    "            if bread_type == \"돌아가기\": # bread_type에는 초코붕어빵 \n",
    "                break\n",
    "            bread_count = int(input(\"추가할 붕어빵 개수를 입력하세요: \"))\n",
    "            stock[bread_type] += bread_count #stock[\"초코붕어빵\"] 5 + bread_count 10 => 15 => stock[\"초코붕어빵\"] = 15 덮어씌우기\n",
    "            print(f\"{bread_type}의 재고가 {bread_count}개 추가되었습니다.\")\n",
    "            \n",
    "total = sales[\"팥붕어빵\"] * price[\"팥붕어빵\"] + sales[\"슈크림붕어빵\"] * price[\"슈크림붕어빵\"] + sales[\"초코붕어빵\"] * price[\"초코붕어빵\"]\n",
    "print(\"프로그램이 종료 되었습니다.\")\n",
    "print(f'총 매출액은 {total}원 입니다.\\n현재 재고\\n팥붕어빵 : {stock[\"팥붕어빵\"]}개\\n슈크림붕어빵 : {stock[\"슈크림붕어빵\"]}개\\n초코붕어빵 : {stock[\"초코붕어빵\"]}개')"
   ],
   "outputs": [
    {
     "name": "stdout",
     "output_type": "stream",
     "text": [
      "팥붕어빵 10개를 판매했습니다.\n",
      "현재 팥붕어빵의 재고가 부족하여 주문이 어렵습니다. 다른 붕어빵을 골라주세요.\n",
      "슈크림붕어빵 8개가 판매 완료 되었습니다.\n",
      "현재 슈크림붕어빵의 재고가 부족하여 주문이 어렵습니다. 다른 붕어빵을 골라주세요.\n"
     ]
    },
    {
     "ename": "KeyboardInterrupt",
     "evalue": "Interrupted by user",
     "output_type": "error",
     "traceback": [
      "\u001B[0;31m---------------------------------------------------------------------------\u001B[0m",
      "\u001B[0;31mKeyboardInterrupt\u001B[0m                         Traceback (most recent call last)",
      "Cell \u001B[0;32mIn[30], line 45\u001B[0m\n\u001B[1;32m     43\u001B[0m \u001B[38;5;28;01mif\u001B[39;00m mode \u001B[38;5;241m==\u001B[39m \u001B[38;5;124m\"\u001B[39m\u001B[38;5;124m주문\u001B[39m\u001B[38;5;124m\"\u001B[39m:\n\u001B[1;32m     44\u001B[0m     \u001B[38;5;28;01mwhile\u001B[39;00m \u001B[38;5;28;01mTrue\u001B[39;00m:\n\u001B[0;32m---> 45\u001B[0m         bread_type \u001B[38;5;241m=\u001B[39m \u001B[38;5;28;43minput\u001B[39;49m\u001B[43m(\u001B[49m\u001B[38;5;124;43m\"\u001B[39;49m\u001B[38;5;124;43m붕어빵 종류를 입력해주세요(팥붕어빵, 슈크림붕어빵, 초코붕어빵 중 하나를 선택해주세요) 뒤로 돌아가길 원하시면 돌아가기를 입력해주세요 :\u001B[39;49m\u001B[38;5;124;43m\"\u001B[39;49m\u001B[43m)\u001B[49m\n\u001B[1;32m     47\u001B[0m         \u001B[38;5;28;01mif\u001B[39;00m stock[bread_type] \u001B[38;5;241m<\u001B[39m\u001B[38;5;241m=\u001B[39m \u001B[38;5;241m0\u001B[39m:\n\u001B[1;32m     48\u001B[0m             \u001B[38;5;28mprint\u001B[39m(\u001B[38;5;124mf\u001B[39m\u001B[38;5;124m'\u001B[39m\u001B[38;5;124m현재 \u001B[39m\u001B[38;5;132;01m{\u001B[39;00mbread_type\u001B[38;5;132;01m}\u001B[39;00m\u001B[38;5;124m의 재고가 부족하여 주문이 어렵습니다. 다른 붕어빵을 골라주세요.\u001B[39m\u001B[38;5;124m'\u001B[39m)\n",
      "File \u001B[0;32m~/Library/Python/3.9/lib/python/site-packages/ipykernel/kernelbase.py:1282\u001B[0m, in \u001B[0;36mKernel.raw_input\u001B[0;34m(self, prompt)\u001B[0m\n\u001B[1;32m   1280\u001B[0m     msg \u001B[38;5;241m=\u001B[39m \u001B[38;5;124m\"\u001B[39m\u001B[38;5;124mraw_input was called, but this frontend does not support input requests.\u001B[39m\u001B[38;5;124m\"\u001B[39m\n\u001B[1;32m   1281\u001B[0m     \u001B[38;5;28;01mraise\u001B[39;00m StdinNotImplementedError(msg)\n\u001B[0;32m-> 1282\u001B[0m \u001B[38;5;28;01mreturn\u001B[39;00m \u001B[38;5;28;43mself\u001B[39;49m\u001B[38;5;241;43m.\u001B[39;49m\u001B[43m_input_request\u001B[49m\u001B[43m(\u001B[49m\n\u001B[1;32m   1283\u001B[0m \u001B[43m    \u001B[49m\u001B[38;5;28;43mstr\u001B[39;49m\u001B[43m(\u001B[49m\u001B[43mprompt\u001B[49m\u001B[43m)\u001B[49m\u001B[43m,\u001B[49m\n\u001B[1;32m   1284\u001B[0m \u001B[43m    \u001B[49m\u001B[38;5;28;43mself\u001B[39;49m\u001B[38;5;241;43m.\u001B[39;49m\u001B[43m_parent_ident\u001B[49m\u001B[43m[\u001B[49m\u001B[38;5;124;43m\"\u001B[39;49m\u001B[38;5;124;43mshell\u001B[39;49m\u001B[38;5;124;43m\"\u001B[39;49m\u001B[43m]\u001B[49m\u001B[43m,\u001B[49m\n\u001B[1;32m   1285\u001B[0m \u001B[43m    \u001B[49m\u001B[38;5;28;43mself\u001B[39;49m\u001B[38;5;241;43m.\u001B[39;49m\u001B[43mget_parent\u001B[49m\u001B[43m(\u001B[49m\u001B[38;5;124;43m\"\u001B[39;49m\u001B[38;5;124;43mshell\u001B[39;49m\u001B[38;5;124;43m\"\u001B[39;49m\u001B[43m)\u001B[49m\u001B[43m,\u001B[49m\n\u001B[1;32m   1286\u001B[0m \u001B[43m    \u001B[49m\u001B[43mpassword\u001B[49m\u001B[38;5;241;43m=\u001B[39;49m\u001B[38;5;28;43;01mFalse\u001B[39;49;00m\u001B[43m,\u001B[49m\n\u001B[1;32m   1287\u001B[0m \u001B[43m\u001B[49m\u001B[43m)\u001B[49m\n",
      "File \u001B[0;32m~/Library/Python/3.9/lib/python/site-packages/ipykernel/kernelbase.py:1325\u001B[0m, in \u001B[0;36mKernel._input_request\u001B[0;34m(self, prompt, ident, parent, password)\u001B[0m\n\u001B[1;32m   1322\u001B[0m \u001B[38;5;28;01mexcept\u001B[39;00m \u001B[38;5;167;01mKeyboardInterrupt\u001B[39;00m:\n\u001B[1;32m   1323\u001B[0m     \u001B[38;5;66;03m# re-raise KeyboardInterrupt, to truncate traceback\u001B[39;00m\n\u001B[1;32m   1324\u001B[0m     msg \u001B[38;5;241m=\u001B[39m \u001B[38;5;124m\"\u001B[39m\u001B[38;5;124mInterrupted by user\u001B[39m\u001B[38;5;124m\"\u001B[39m\n\u001B[0;32m-> 1325\u001B[0m     \u001B[38;5;28;01mraise\u001B[39;00m \u001B[38;5;167;01mKeyboardInterrupt\u001B[39;00m(msg) \u001B[38;5;28;01mfrom\u001B[39;00m \u001B[38;5;28;01mNone\u001B[39;00m\n\u001B[1;32m   1326\u001B[0m \u001B[38;5;28;01mexcept\u001B[39;00m \u001B[38;5;167;01mException\u001B[39;00m:\n\u001B[1;32m   1327\u001B[0m     \u001B[38;5;28mself\u001B[39m\u001B[38;5;241m.\u001B[39mlog\u001B[38;5;241m.\u001B[39mwarning(\u001B[38;5;124m\"\u001B[39m\u001B[38;5;124mInvalid Message:\u001B[39m\u001B[38;5;124m\"\u001B[39m, exc_info\u001B[38;5;241m=\u001B[39m\u001B[38;5;28;01mTrue\u001B[39;00m)\n",
      "\u001B[0;31mKeyboardInterrupt\u001B[0m: Interrupted by user"
     ]
    }
   ],
   "execution_count": 30
  },
  {
   "metadata": {},
   "cell_type": "code",
   "outputs": [],
   "execution_count": null,
   "source": "9",
   "id": "5803602f5bfe835d"
  }
 ],
 "metadata": {
  "kernelspec": {
   "display_name": "Python 3",
   "language": "python",
   "name": "python3"
  },
  "language_info": {
   "codemirror_mode": {
    "name": "ipython",
    "version": 2
   },
   "file_extension": ".py",
   "mimetype": "text/x-python",
   "name": "python",
   "nbconvert_exporter": "python",
   "pygments_lexer": "ipython2",
   "version": "2.7.6"
  }
 },
 "nbformat": 4,
 "nbformat_minor": 5
}
