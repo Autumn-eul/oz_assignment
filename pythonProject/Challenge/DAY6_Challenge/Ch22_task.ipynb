{
 "cells": [
  {
   "cell_type": "markdown",
   "metadata": {},
   "source": [
    "여러 숫자를 입력받아 그 합계를 반환하는 함수 sum_numbers를 작성하세요. 이 때, 가변 매개변수를 사용하세요."
   ]
  },
  {
   "metadata": {
    "ExecuteTime": {
     "end_time": "2024-10-21T06:19:44.738286Z",
     "start_time": "2024-10-21T06:19:44.733751Z"
    }
   },
   "cell_type": "code",
   "source": [
    "def sum_numbers(*value):\n",
    "    return sum(value)\n",
    "\n",
    "print(sum_numbers(1, 2, 3, 4, 5, 6, 7))"
   ],
   "outputs": [
    {
     "name": "stdout",
     "output_type": "stream",
     "text": [
      "28\n"
     ]
    }
   ],
   "execution_count": 2
  }
 ],
 "metadata": {
  "language_info": {
   "name": "python"
  },
  "kernelspec": {
   "name": "python3",
   "language": "python",
   "display_name": "Python 3 (ipykernel)"
  }
 },
 "nbformat": 4,
 "nbformat_minor": 2
}
