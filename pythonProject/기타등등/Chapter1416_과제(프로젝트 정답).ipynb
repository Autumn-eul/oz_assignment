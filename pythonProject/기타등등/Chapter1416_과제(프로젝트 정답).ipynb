{
 "cells": [
  {
   "cell_type": "markdown",
   "metadata": {},
   "source": [
    "#### 프로젝트: 붕어빵 자동 판매 시스템\n",
    "\n",
    "\n",
    "당신은 붕어빵 가게의 주인입니다. \n",
    "\n",
    "손님들이 붕어빵을 주문하면 이를 자동으로 처리하고, 재고를 관리하는 시스템을 만들고자 합니다. 또한, 관리자 모드를 통해 재고를 추가할 수 있는 기능을 구현해야 합니다.\n"
   ]
  },
  {
   "cell_type": "markdown",
   "metadata": {},
   "source": [
    "[문제 1: 붕어빵 재고 확인]\n",
    "\n",
    "붕어빵 가게의 현재 재고를 확인하는 기능을 구현하세요.\n",
    "\n",
    "요구사항:\n",
    "- 현재 붕어빵의 재고를 딕셔너리로 관리합니다.\n",
    "- 딕셔너리에는 붕어빵의 종류와 각각의 재고 개수가 저장됩니다.\n",
    "- 현재 재고를 화면에 출력하세요.\n",
    "\n",
    "붕어빵 재고\n",
    "- 팥붕어빵 : 10개\n",
    "- 슈크림붕어빵 : 8개\n",
    "- 초코붕어빵 : 5개"
   ]
  },
  {
   "cell_type": "code",
   "execution_count": null,
   "metadata": {},
   "outputs": [],
   "source": [
    "stock = {\n",
    "    \"팥붕어빵\": 10,\n",
    "    \"슈크림붕어빵\": 8,\n",
    "    \"초코붕어빵\": 5\n",
    "}"
   ]
  },
  {
   "cell_type": "markdown",
   "metadata": {},
   "source": [
    "[문제 2: 붕어빵 주문 받기]\n",
    "\n",
    "손님이 주문한 붕어빵의 종류와 개수를 입력받는 기능을 구현하세요.\n",
    "\n",
    "요구사항:\n",
    "- 손님이 주문할 붕어빵의 종류와 개수를 입력받습니다.\n",
    "- 주문 내용을 딕셔너리에 저장하세요.\n",
    "- 주문 내역을 출력해주세요."
   ]
  },
  {
   "cell_type": "markdown",
   "metadata": {},
   "source": []
  },
  {
   "cell_type": "code",
   "metadata": {
    "ExecuteTime": {
     "end_time": "2024-10-18T02:04:17.359847Z",
     "start_time": "2024-10-18T02:04:15.647009Z"
    }
   },
   "source": [
    "order = {}\n",
    "bread_type = input(\"주문할 붕어빵 종류를 입력하세요 (팥붕어빵, 슈크림붕어빵, 초코붕어빵): \")\n",
    "bread_count = int(input(\"주문할 붕어빵 개수를 입력하세요: \"))\n",
    "order[bread_type] = bread_count\n",
    "print(f\"주문 내역: {order}\")"
   ],
   "outputs": [
    {
     "ename": "KeyboardInterrupt",
     "evalue": "Interrupted by user",
     "output_type": "error",
     "traceback": [
      "\u001B[0;31m---------------------------------------------------------------------------\u001B[0m",
      "\u001B[0;31mKeyboardInterrupt\u001B[0m                         Traceback (most recent call last)",
      "Cell \u001B[0;32mIn[1], line 2\u001B[0m\n\u001B[1;32m      1\u001B[0m order \u001B[38;5;241m=\u001B[39m {}\n\u001B[0;32m----> 2\u001B[0m bread_type \u001B[38;5;241m=\u001B[39m \u001B[38;5;28;43minput\u001B[39;49m\u001B[43m(\u001B[49m\u001B[38;5;124;43m\"\u001B[39;49m\u001B[38;5;124;43m주문할 붕어빵 종류를 입력하세요 (팥붕어빵, 슈크림붕어빵, 초코붕어빵): \u001B[39;49m\u001B[38;5;124;43m\"\u001B[39;49m\u001B[43m)\u001B[49m\n\u001B[1;32m      3\u001B[0m bread_count \u001B[38;5;241m=\u001B[39m \u001B[38;5;28mint\u001B[39m(\u001B[38;5;28minput\u001B[39m(\u001B[38;5;124m\"\u001B[39m\u001B[38;5;124m주문할 붕어빵 개수를 입력하세요: \u001B[39m\u001B[38;5;124m\"\u001B[39m))\n\u001B[1;32m      4\u001B[0m order[bread_type] \u001B[38;5;241m=\u001B[39m bread_count\n",
      "File \u001B[0;32m~/Library/Python/3.9/lib/python/site-packages/ipykernel/kernelbase.py:1282\u001B[0m, in \u001B[0;36mKernel.raw_input\u001B[0;34m(self, prompt)\u001B[0m\n\u001B[1;32m   1280\u001B[0m     msg \u001B[38;5;241m=\u001B[39m \u001B[38;5;124m\"\u001B[39m\u001B[38;5;124mraw_input was called, but this frontend does not support input requests.\u001B[39m\u001B[38;5;124m\"\u001B[39m\n\u001B[1;32m   1281\u001B[0m     \u001B[38;5;28;01mraise\u001B[39;00m StdinNotImplementedError(msg)\n\u001B[0;32m-> 1282\u001B[0m \u001B[38;5;28;01mreturn\u001B[39;00m \u001B[38;5;28;43mself\u001B[39;49m\u001B[38;5;241;43m.\u001B[39;49m\u001B[43m_input_request\u001B[49m\u001B[43m(\u001B[49m\n\u001B[1;32m   1283\u001B[0m \u001B[43m    \u001B[49m\u001B[38;5;28;43mstr\u001B[39;49m\u001B[43m(\u001B[49m\u001B[43mprompt\u001B[49m\u001B[43m)\u001B[49m\u001B[43m,\u001B[49m\n\u001B[1;32m   1284\u001B[0m \u001B[43m    \u001B[49m\u001B[38;5;28;43mself\u001B[39;49m\u001B[38;5;241;43m.\u001B[39;49m\u001B[43m_parent_ident\u001B[49m\u001B[43m[\u001B[49m\u001B[38;5;124;43m\"\u001B[39;49m\u001B[38;5;124;43mshell\u001B[39;49m\u001B[38;5;124;43m\"\u001B[39;49m\u001B[43m]\u001B[49m\u001B[43m,\u001B[49m\n\u001B[1;32m   1285\u001B[0m \u001B[43m    \u001B[49m\u001B[38;5;28;43mself\u001B[39;49m\u001B[38;5;241;43m.\u001B[39;49m\u001B[43mget_parent\u001B[49m\u001B[43m(\u001B[49m\u001B[38;5;124;43m\"\u001B[39;49m\u001B[38;5;124;43mshell\u001B[39;49m\u001B[38;5;124;43m\"\u001B[39;49m\u001B[43m)\u001B[49m\u001B[43m,\u001B[49m\n\u001B[1;32m   1286\u001B[0m \u001B[43m    \u001B[49m\u001B[43mpassword\u001B[49m\u001B[38;5;241;43m=\u001B[39;49m\u001B[38;5;28;43;01mFalse\u001B[39;49;00m\u001B[43m,\u001B[49m\n\u001B[1;32m   1287\u001B[0m \u001B[43m\u001B[49m\u001B[43m)\u001B[49m\n",
      "File \u001B[0;32m~/Library/Python/3.9/lib/python/site-packages/ipykernel/kernelbase.py:1325\u001B[0m, in \u001B[0;36mKernel._input_request\u001B[0;34m(self, prompt, ident, parent, password)\u001B[0m\n\u001B[1;32m   1322\u001B[0m \u001B[38;5;28;01mexcept\u001B[39;00m \u001B[38;5;167;01mKeyboardInterrupt\u001B[39;00m:\n\u001B[1;32m   1323\u001B[0m     \u001B[38;5;66;03m# re-raise KeyboardInterrupt, to truncate traceback\u001B[39;00m\n\u001B[1;32m   1324\u001B[0m     msg \u001B[38;5;241m=\u001B[39m \u001B[38;5;124m\"\u001B[39m\u001B[38;5;124mInterrupted by user\u001B[39m\u001B[38;5;124m\"\u001B[39m\n\u001B[0;32m-> 1325\u001B[0m     \u001B[38;5;28;01mraise\u001B[39;00m \u001B[38;5;167;01mKeyboardInterrupt\u001B[39;00m(msg) \u001B[38;5;28;01mfrom\u001B[39;00m \u001B[38;5;28;01mNone\u001B[39;00m\n\u001B[1;32m   1326\u001B[0m \u001B[38;5;28;01mexcept\u001B[39;00m \u001B[38;5;167;01mException\u001B[39;00m:\n\u001B[1;32m   1327\u001B[0m     \u001B[38;5;28mself\u001B[39m\u001B[38;5;241m.\u001B[39mlog\u001B[38;5;241m.\u001B[39mwarning(\u001B[38;5;124m\"\u001B[39m\u001B[38;5;124mInvalid Message:\u001B[39m\u001B[38;5;124m\"\u001B[39m, exc_info\u001B[38;5;241m=\u001B[39m\u001B[38;5;28;01mTrue\u001B[39;00m)\n",
      "\u001B[0;31mKeyboardInterrupt\u001B[0m: Interrupted by user"
     ]
    }
   ],
   "execution_count": 1
  },
  {
   "cell_type": "markdown",
   "metadata": {},
   "source": [
    "[문제 3: 붕어빵 주문 처리]\n",
    "\n",
    "손님의 주문을 처리하여 붕어빵 재고를 업데이트하는 기능을 구현하세요.\n",
    "\n",
    "요구사항:\n",
    "- 손님의 주문 내용을 기반으로 재고를 업데이트합니다.\n",
    "- 재고가 부족할 경우, 손님에게 재고 부족을 알리고 재고를 감소시키지 않습니다.\n",
    "- 재고가 충분할 경우, 주문한 만큼 재고를 감소시키고 판매를 완료합니다.\n",
    "- 판매가 완료된 경우 판매된 붕어빵 맛과 개수를 출력하세요."
   ]
  },
  {
   "cell_type": "markdown",
   "metadata": {},
   "source": []
  },
  {
   "cell_type": "code",
   "execution_count": null,
   "metadata": {},
   "outputs": [],
   "source": [
    "if stock[bread_type] >= bread_count:\n",
    "    stock[bread_type] -= bread_count\n",
    "    print(f\"{bread_type} {bread_count}개를 판매했습니다.\")\n",
    "else:\n",
    "    print(f\"죄송합니다. {bread_type} 재고가 부족합니다.\")"
   ]
  },
  {
   "cell_type": "markdown",
   "metadata": {},
   "source": [
    "[문제 4: 여러 손님 주문 처리]\n",
    "\n",
    "여러 손님들의 주문을 처리할 수 있도록 시스템을 확장하세요.\n",
    "\n",
    "요구사항:\n",
    "- 손님이 \"종료\"를 입력할 때까지 주문을 계속 받습니다.\n",
    "- 각 주문마다 재고를 업데이트합니다.\n",
    "- 현재 재고를 화면에 출력합니다."
   ]
  },
  {
   "cell_type": "code",
   "execution_count": null,
   "metadata": {},
   "outputs": [],
   "source": [
    "while True:\n",
    "    bread_type = input(\"주문할 붕어빵 종류를 입력하세요 (팥붕어빵, 슈크림붕어빵, 초코붕어빵). 종료를 원하시면 '종료'를 입력하세요: \")\n",
    "    if bread_type == \"종료\":\n",
    "        break\n",
    "    bread_count = int(input(\"주문할 붕어빵 개수를 입력하세요: \"))\n",
    "    \n",
    "    if stock[bread_type] >= bread_count:\n",
    "        stock[bread_type] -= bread_count\n",
    "        print(f\"{bread_type} {bread_count}개를 판매했습니다.\")\n",
    "    else:\n",
    "        print(f\"죄송합니다. {bread_type} 재고가 부족합니다.\")\n",
    "    \n",
    "    print(\"현재 붕어빵 재고:\")\n",
    "    for bread, quantity in stock.items():\n",
    "        print(f\"{bread}: {quantity}개\")"
   ]
  },
  {
   "cell_type": "markdown",
   "metadata": {},
   "source": [
    "[문제 5: 관리자 모드]\n",
    "\n",
    "관리자 모드를 통해 붕어빵 재고를 추가할 수 있는 기능을 구현하세요.\n",
    "\n",
    "요구사항:\n",
    "- 관리자는 특정 붕어빵의 재고를 추가할 수 있습니다.\n",
    "- \"종료\"를 입력하면 관리자 모드를 종료합니다.\n",
    "- 추가된 재고를 업데이트하고 현재 재고를 화면에 출력합니다."
   ]
  },
  {
   "cell_type": "code",
   "execution_count": null,
   "metadata": {},
   "outputs": [],
   "source": [
    "while True:\n",
    "    bread_type = input(\"추가할 붕어빵 종류를 입력하세요 (팥붕어빵, 슈크림붕어빵, 초코붕어빵). 종료를 원하시면 '종료'를 입력하세요: \")\n",
    "    if bread_type == \"종료\":\n",
    "        break\n",
    "    additional_stock = int(input(f\"{bread_type}의 추가할 개수를 입력하세요: \"))\n",
    "    stock[bread_type] += additional_stock\n",
    "    print(f\"{bread_type}의 재고가 {additional_stock}개 추가되었습니다.\")\n",
    "    print(\"현재 붕어빵 재고:\")\n",
    "    for bread, quantity in stock.items():\n",
    "        print(f\"{bread}: {quantity}개\")"
   ]
  },
  {
   "cell_type": "markdown",
   "metadata": {},
   "source": [
    "[문제 6: 매출 확인]\n",
    "\n",
    "붕어빵 판매 가격을 설정하고, 판매한 붕어빵의 매출을 계산하세요.\n",
    "\n",
    "요구사항:\n",
    "- 각 붕어빵의 가격을 딕셔너리로 관리합니다.\n",
    "- 판매된 붕어빵의 종류와 개수를 딕셔너리로 관리합니다.\n",
    "- 총 매출을 계산하여 출력합니다.\n",
    "\n",
    "초기 설정:\n",
    "- 가격\n",
    "    - \"팥붕어빵\": 1000\n",
    "    - \"슈크림붕어빵\": 1200\n",
    "    - \"초코붕어빵\": 1500\n",
    "\n",
    "- 판매 개수\n",
    "    - \"팥붕어빵\": 0\n",
    "    - \"슈크림붕어빵\": 0\n",
    "    - \"초코붕어빵\": 0"
   ]
  },
  {
   "cell_type": "code",
   "execution_count": null,
   "metadata": {},
   "outputs": [],
   "source": [
    "prices = {\n",
    "    \"팥붕어빵\": 1000,\n",
    "    \"슈크림붕어빵\": 1200,\n",
    "    \"초코붕어빵\": 1500\n",
    "}\n",
    "sales = {\n",
    "    \"팥붕어빵\": 0,\n",
    "    \"슈크림붕어빵\": 0,\n",
    "    \"초코붕어빵\": 0\n",
    "}\n",
    "\n",
    "total_sales = sum(sales[bread] * prices[bread] for bread in sales)\n",
    "print(f\"총 매출: {total_sales}원\")\n"
   ]
  },
  {
   "cell_type": "code",
   "execution_count": null,
   "metadata": {},
   "outputs": [],
   "source": [
    "#최종 코드\n",
    "# 초기 재고와 가격 설정\n",
    "stock = {\n",
    "    \"팥붕어빵\": 10,\n",
    "    \"슈크림붕어빵\": 8,\n",
    "    \"초코붕어빵\": 5\n",
    "}\n",
    "prices = {\n",
    "    \"팥붕어빵\": 1000,\n",
    "    \"슈크림붕어빵\": 1200,\n",
    "    \"초코붕어빵\": 1500\n",
    "}\n",
    "sales = {\n",
    "    \"팥붕어빵\": 0,\n",
    "    \"슈크림붕어빵\": 0,\n",
    "    \"초코붕어빵\": 0\n",
    "}\n",
    "\n",
    "while True:\n",
    "    mode = input(\"원하는 모드를 선택하세요 (주문, 관리자, 종료): \")\n",
    "    \n",
    "    if mode == \"종료\":\n",
    "        break\n",
    "    \n",
    "    if mode == \"관리자\":\n",
    "        while True:\n",
    "            bread_type = input(\"추가할 붕어빵 종류를 입력하세요 (팥붕어빵, 슈크림붕어빵, 초코붕어빵). 종료를 원하시면 '종료'를 입력하세요: \")\n",
    "            if bread_type == \"종료\":\n",
    "                break\n",
    "            additional_stock = int(input(f\"{bread_type}의 추가할 개수를 입력하세요: \"))\n",
    "            stock[bread_type] += additional_stock\n",
    "            print(f\"{bread_type}의 재고가 {additional_stock}개 추가되었습니다.\")\n",
    "            print(\"현재 붕어빵 재고:\")\n",
    "            for bread, quantity in stock.items():\n",
    "                print(f\"{bread}: {quantity}개\")\n",
    "        continue\n",
    "    \n",
    "    if mode == \"주문\":\n",
    "        while True:\n",
    "            bread_type = input(\"주문할 붕어빵 종류를 입력하세요 (팥붕어빵, 슈크림붕어빵, 초코붕어빵). 종료를 원하시면 '종료'를 입력하세요: \")\n",
    "            if bread_type == \"종료\":\n",
    "                break\n",
    "            bread_count = int(input(\"주문할 붕어빵 개수를 입력하세요: \"))\n",
    "            \n",
    "            if stock[bread_type] >= bread_count:\n",
    "                stock[bread_type] -= bread_count\n",
    "                sales[bread_type] += bread_count\n",
    "                print(f\"{bread_type} {bread_count}개를 판매했습니다.\")\n",
    "            else:\n",
    "                print(f\"죄송합니다. {bread_type} 재고가 부족합니다.\")\n",
    "            \n",
    "            print(\"현재 붕어빵 재고:\")\n",
    "            for bread, quantity in stock.items():\n",
    "                print(f\"{bread}: {quantity}개\")\n",
    "\n",
    "print(\"영업을 종료합니다.\")\n",
    "total_sales = sum(sales[bread] * prices[bread] for bread in sales)\n",
    "print(f\"총 매출: {total_sales}원\")\n",
    "print(\"모든 거래 내역:\")\n",
    "print('\\n'.join([f\"{bread} 판매: {sales[bread]}개, 매출: {sales[bread] * prices[bread]}원\" for bread in sales]))"
   ]
  }
 ],
 "metadata": {
  "colab": {
   "authorship_tag": "ABX9TyMLQjyUmELFyKkx1AyovOFZ",
   "provenance": []
  },
  "kernelspec": {
   "display_name": "Python 3 (ipykernel)",
   "name": "python3",
   "language": "python"
  },
  "language_info": {
   "codemirror_mode": {
    "name": "ipython",
    "version": 3
   },
   "file_extension": ".py",
   "mimetype": "text/x-python",
   "name": "python",
   "nbconvert_exporter": "python",
   "pygments_lexer": "ipython3",
   "version": "3.11.7"
  }
 },
 "nbformat": 4,
 "nbformat_minor": 0
}
