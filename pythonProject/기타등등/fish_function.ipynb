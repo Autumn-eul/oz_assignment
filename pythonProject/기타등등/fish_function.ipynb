{
 "cells": [
  {
   "cell_type": "code",
   "id": "initial_id",
   "metadata": {
    "collapsed": true,
    "ExecuteTime": {
     "end_time": "2024-10-22T08:38:18.392971Z",
     "start_time": "2024-10-22T08:38:00.730779Z"
    }
   },
   "source": [
    "stock = {\"팥붕어빵\" : 10,\n",
    "        \"슈크림붕어빵\" : 8,\n",
    "        \"초코붕어빵\" : 5}\n",
    "\n",
    "price = {\n",
    "    \"팥붕어빵\" : 1000,\n",
    "    \"슈크림붕어빵\" : 1200,\n",
    "    \"초코붕어빵\" : 1500,\n",
    "}\n",
    "\n",
    "sales = {\n",
    "    \"팥붕어빵\" : 0,\n",
    "    \"슈크림붕어빵\" : 0,\n",
    "    \"초코붕어빵\" : 0,\n",
    "}\n",
    "\n",
    "                     \n",
    "def order_bread(): # 주문을 받는 함수\n",
    "    while True:\n",
    "            bread_type = input(\"붕어빵 종류를 입력해주세요(팥붕어빵, 슈크림붕어빵, 초코붕어빵 중 하나를 선택해주세요) 뒤로 돌아가길 원하시면 돌아가기를 입력해주세요 :\")\n",
    "            \n",
    "            if bread_type == \"돌아가기\": \n",
    "                break\n",
    "            \n",
    "            if stock[bread_type] <= 0:\n",
    "                print(f'현재 {bread_type}의 재고가 부족하여 주문이 어렵습니다. 다른 붕어빵을 골라주세요.')\n",
    "                continue\n",
    "                \n",
    "            bread_count = int(input(\"주문할 붕어빵 개수를 입력해주세요 : \")) #str \"3\", '3' int() 함수 => 특정 기능이 작동되도록 모아놓은 코드다 => 자료형을 숫자로 형태의 자료로 만드는 기능의 함수\n",
    "                \n",
    "            if stock[bread_type] >= bread_count:\n",
    "               stock[bread_type] -= bread_count # stock[\"초코붕어빵\"] = 5-3\n",
    "               sales[bread_type] += bread_count\n",
    "               print(f\"{bread_type} {bread_count}개를 판매했습니다.\")\n",
    "                \n",
    "            else:\n",
    "                answer = input(f'죄송합니다. 현재 {bread_type}의 재고가 {stock[bread_type]}개 입니다. {stock[bread_type]}개만 구매하시겠습니까? (네/아니오)')\n",
    "                if answer == \"네\":\n",
    "                    print(f'{bread_type} {stock[bread_type]}개가 판매 완료 되었습니다.') # 구매한 종류와 수량 출력\n",
    "                    stock[bread_type] -= bread_count # 재고 감소\n",
    "                    sales[bread_type] += bread_count # 판매량 업데이트\n",
    "                else:\n",
    "                    print(f'현재 {bread_type}의 재고가 부족하여 주문이 어렵습니다. 다른 붕어빵을 골라주세요.')\n",
    "                    \n",
    "def manage_stock(): # 재고를 추가하는 함수\n",
    "    while True:\n",
    "            bread_type = input(\"추가할 붕어빵 종류를 입력해주세요(팥붕어빵, 슈크림붕어빵, 초코붕어빵 중 하나를 선택해주세요) 뒤로 돌아가길 원하시면 돌아가기를 입력해주세요 :\")\n",
    "            if bread_type == \"돌아가기\": # bread_type에는 초코붕어빵 \n",
    "                break\n",
    "            bread_count = int(input(\"추가할 붕어빵 개수를 입력하세요: \"))\n",
    "            stock[bread_type] += bread_count #stock[\"초코붕어빵\"] 5 + bread_count 10 => 15 => stock[\"초코붕어빵\"] = 15 덮어씌우기\n",
    "            print(f'{bread_type}의 재고가 {bread_count}개 추가되었습니다.\\n현재 재고\\n팥붕어빵 : {stock[\"팥붕어빵\"]}개\\n슈크림붕어빵 : {stock[\"슈크림붕어빵\"]}개\\n초코붕어빵 : {stock[\"초코붕어빵\"]}개')\n",
    "            \n",
    "def total_sale():\n",
    "    total_sale = sum(sales[bread] * price[bread] for bread in sales)\n",
    "    print(f'총 매출액은 {total_sale()}원 입니다.\\n현재 재고\\n팥붕어빵 : {stock[\"팥붕어빵\"]}개\\n슈크림붕어빵 : {stock[\"슈크림붕어빵\"]}개\\n초코붕어빵 : {stock[\"초코붕어빵\"]}개')\n",
    "\n",
    "def main():\n",
    "    while True:\n",
    "        mode = input('원하는 모드를 선택해주세요(주문, 관리자, 종료):')\n",
    "        \n",
    "        if mode == \"종료\":\n",
    "            print(\"프로그램이 종료 되었습니다.\")\n",
    "            if sales[bread_type] > 0:\n",
    "                total_sale()\n",
    "            else:\n",
    "                break\n",
    "        \n",
    "        if mode == \"주문\":\n",
    "            order_bread()\n",
    "            \n",
    "        if mode == \"관리자\":\n",
    "            manage_stock()         \n",
    "\n",
    "main()"
   ],
   "outputs": [
    {
     "name": "stdout",
     "output_type": "stream",
     "text": [
      "팥붕어빵 10개를 판매했습니다.\n"
     ]
    }
   ],
   "execution_count": 6
  },
  {
   "metadata": {},
   "cell_type": "code",
   "outputs": [],
   "execution_count": null,
   "source": "",
   "id": "43ae503a7228ad72"
  }
 ],
 "metadata": {
  "kernelspec": {
   "display_name": "Python 3",
   "language": "python",
   "name": "python3"
  },
  "language_info": {
   "codemirror_mode": {
    "name": "ipython",
    "version": 2
   },
   "file_extension": ".py",
   "mimetype": "text/x-python",
   "name": "python",
   "nbconvert_exporter": "python",
   "pygments_lexer": "ipython2",
   "version": "2.7.6"
  }
 },
 "nbformat": 4,
 "nbformat_minor": 5
}
