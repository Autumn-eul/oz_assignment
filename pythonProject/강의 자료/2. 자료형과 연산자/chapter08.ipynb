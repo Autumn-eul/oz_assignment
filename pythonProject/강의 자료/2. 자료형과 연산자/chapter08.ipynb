{
 "cells": [
  {
   "cell_type": "code",
   "execution_count": null,
   "id": "initial_id",
   "metadata": {
    "collapsed": true
   },
   "outputs": [],
   "source": [
    "# bool 의 쇼타임 시작합니다.\n",
    "# 주의할 점 True x true False x false\n",
    "# 부등호\n",
    "3 > 1\n",
    "3 == 1\n",
    "3 == 3\n",
    "\n",
    "20 != 5\n",
    "20 != 20"
   ]
  },
  {
   "metadata": {},
   "cell_type": "code",
   "outputs": [],
   "execution_count": null,
   "source": [
    "# 문자열 비교\n",
    "'python' == 'Python'\n",
    "'Python' == 'Python'\n",
    "'python' == 'Python'"
   ],
   "id": "daa7b52b3815718d"
  },
  {
   "metadata": {},
   "cell_type": "code",
   "outputs": [],
   "execution_count": null,
   "source": [
    "# 중요\n",
    "# ==, is\n",
    "\n",
    "3 is 3\n",
    "3 == 3\n",
    "\n",
    "3.0 is 3\n",
    "3.0 == 3\n",
    "\n",
    "print(id(3.0))\n",
    "print(id(3))"
   ],
   "id": "f50b16b0728d106d"
  },
  {
   "metadata": {},
   "cell_type": "markdown",
   "source": "#### 미션 : 값 비교에는 is를 쓰면 안되는데 그 이유를 찾아서 기술 블로그에 작성해보세요.",
   "id": "cac0c376c7498bf7"
  },
  {
   "metadata": {},
   "cell_type": "code",
   "outputs": [],
   "execution_count": null,
   "source": [
    "# 본격적인 논리연산자\n",
    "# True : 1 / False : 0\n",
    "\n",
    "a = True and True\n",
    "b = True and False\n",
    "c = False and True\n",
    "d = False and False\n",
    "\n",
    "print(a, b, c, d)"
   ],
   "id": "6636e648c28d90bd"
  },
  {
   "metadata": {},
   "cell_type": "code",
   "outputs": [],
   "execution_count": null,
   "source": [
    "# or\n",
    "a1 = True or True\n",
    "b1 = True or False\n",
    "c1 = False or True\n",
    "d1 = False or False\n",
    "\n",
    "print(a1, b1, c1, d1)"
   ],
   "id": "7d6954c5b74d9a40"
  },
  {
   "metadata": {},
   "cell_type": "code",
   "outputs": [],
   "execution_count": null,
   "source": [
    "# not\n",
    "\n",
    "a2 = not True\n",
    "b2 = not False\n",
    "\n",
    "print(a2, b2)"
   ],
   "id": "bb63143ae61b7ce"
  },
  {
   "metadata": {},
   "cell_type": "code",
   "outputs": [],
   "execution_count": null,
   "source": [
    "# 점점 복잡해지는 조건들!\n",
    "\n",
    "a3 = 10 == 12 or 6 != 2 # True\n",
    "b3 = 2 > 5 and 7 == 7 # False\n",
    "c3 = not 14 <= 15 # False\n",
    "d3 = not 7 is 7.0 # True\n",
    "\n",
    "print(a3, b3, c3, d3)"
   ],
   "id": "fdbe5e5abdb40eb4"
  },
  {
   "metadata": {},
   "cell_type": "code",
   "outputs": [],
   "execution_count": null,
   "source": [
    "# 문자열 너 뭐야 True?\n",
    "\n",
    "bool('힘들어요 여러분')"
   ],
   "id": "b89a0d3675ab9399"
  },
  {
   "metadata": {},
   "cell_type": "code",
   "outputs": [],
   "execution_count": null,
   "source": [
    "# 굉장히 중요한 내용\n",
    "# 단락 평가\n",
    "\n",
    "print(False and True)\n",
    "print(False and '힘들어요')\n",
    "\n",
    "print(True and False)\n",
    "print(True and '힘들어요')"
   ],
   "id": "90d66b31aced3937"
  }
 ],
 "metadata": {
  "kernelspec": {
   "display_name": "Python 3",
   "language": "python",
   "name": "python3"
  },
  "language_info": {
   "codemirror_mode": {
    "name": "ipython",
    "version": 2
   },
   "file_extension": ".py",
   "mimetype": "text/x-python",
   "name": "python",
   "nbconvert_exporter": "python",
   "pygments_lexer": "ipython2",
   "version": "2.7.6"
  }
 },
 "nbformat": 4,
 "nbformat_minor": 5
}
