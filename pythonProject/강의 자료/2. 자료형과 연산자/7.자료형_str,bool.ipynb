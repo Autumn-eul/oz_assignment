{
 "cells": [
  {
   "cell_type": "code",
   "execution_count": null,
   "id": "initial_id",
   "metadata": {
    "collapsed": true
   },
   "outputs": [],
   "source": [
    "이름 = '김오즈'\n",
    "나이 = 30\n",
    "키 = 180.3\n",
    "소속 = 's매직 서울북부'"
   ]
  },
  {
   "metadata": {},
   "cell_type": "code",
   "outputs": [],
   "execution_count": null,
   "source": [
    "print(type(이름))\n",
    "print(type(나이))\n",
    "print(type(키))\n",
    "print(type(소속))"
   ],
   "id": "843b81ef89be742d"
  },
  {
   "metadata": {},
   "cell_type": "code",
   "outputs": [],
   "execution_count": null,
   "source": [
    "print(float(5))\n",
    "print(int(5.0))\n",
    "print('5', '5.0')\n",
    "print(type('5'), type(5.0))"
   ],
   "id": "c3698087ce1fa6be"
  },
  {
   "metadata": {},
   "cell_type": "markdown",
   "source": [
    "str : 문자열\n",
    "\n",
    "특징 : 시퀀스 자료형\n",
    "\n",
    "시퀀스란? 요소들이 연속적으로 이어진 자료형\n",
    "\n",
    "값 하나하나를 요소라고 합니다."
   ],
   "id": "7890cbc3a7d4b0b8"
  },
  {
   "metadata": {},
   "cell_type": "code",
   "outputs": [],
   "execution_count": null,
   "source": [
    "print(소속)\n",
    "print(소속[0])\n",
    "print(소속[1])\n",
    "print(소속[2])\n",
    "print(소속[3])\n",
    "print(소속[4])\n",
    "print(소속[5])\n",
    "print(소속[6])\n",
    "print(소속[7])"
   ],
   "id": "86509a39b39070f2"
  },
  {
   "metadata": {},
   "cell_type": "code",
   "outputs": [],
   "execution_count": null,
   "source": [
    "# 문자열 즉 시퀀스끼리 합치기\n",
    "\n",
    "'13' + '금요일'"
   ],
   "id": "9f4ea82f3ee07978"
  },
  {
   "metadata": {},
   "cell_type": "code",
   "outputs": [],
   "execution_count": null,
   "source": [
    "# 복사가 가능합니다.\n",
    "\n",
    "옛날게임 = '바니바니 당근당근' * 20\n",
    "print(옛날게임)\n",
    "\n",
    "len(옛날게임)"
   ],
   "id": "d5aee31222cef1de"
  },
  {
   "metadata": {},
   "cell_type": "code",
   "outputs": [],
   "execution_count": null,
   "source": [
    "생년월일 = '2000.12.25'\n",
    "년 = 생년월일[0:4]\n",
    "월 = 생년월일[5:7]\n",
    "일 = 생년월일[8:11]\n",
    "\n",
    "print(f'{년}. {월}. {일}')\n",
    "# 2000 12 25"
   ],
   "id": "e145b82a36723172"
  },
  {
   "metadata": {},
   "cell_type": "code",
   "outputs": [],
   "execution_count": null,
   "source": [
    "숫자 = '12345678901234567'\n",
    "# 전체 출력\n",
    "print(숫자[::])\n",
    "\n",
    "# 뒤에서부터 전체 출력\n",
    "print(숫자[::-1])\n",
    "\n",
    "# 첫번째 인덱스 기준으로 2칸씩 띄어쓰기 출력\n",
    "print(숫자[::2])\n",
    "\n",
    "# 첫번째 인덱스 기준으로 2칸씩 띄어쓰기 출력??\n",
    "print(숫자[4:1:-1])\n",
    "print(숫자[4:])"
   ],
   "id": "2185c5c81cf217a4"
  },
  {
   "metadata": {},
   "cell_type": "code",
   "outputs": [],
   "execution_count": null,
   "source": [
    "퀴즈 = '스님이 공중에 뜬다를 6글자로 말하면? 어중이떠중이'\n",
    "print(퀴즈[22:28])"
   ],
   "id": "afbf4cd2c1a7b927"
  },
  {
   "metadata": {},
   "cell_type": "code",
   "outputs": [],
   "execution_count": null,
   "source": [
    "과일 = 'apple'\n",
    "과일.count('p')"
   ],
   "id": "e1458488f48b2e5e"
  },
  {
   "metadata": {},
   "cell_type": "code",
   "outputs": [],
   "execution_count": null,
   "source": [
    "과일[2]\n",
    "과일.index('p')"
   ],
   "id": "73e166f386d3bea0"
  },
  {
   "metadata": {},
   "cell_type": "code",
   "outputs": [],
   "execution_count": null,
   "source": "라라랜드 = '사람들은 다른 사람들의 열정에 끌리게 되어있어 자신이 잊은 걸 상기시켜 주니까'",
   "id": "70f0dd266b6aff05"
  }
 ],
 "metadata": {
  "kernelspec": {
   "display_name": "Python 3",
   "language": "python",
   "name": "python3"
  },
  "language_info": {
   "codemirror_mode": {
    "name": "ipython",
    "version": 2
   },
   "file_extension": ".py",
   "mimetype": "text/x-python",
   "name": "python",
   "nbconvert_exporter": "python",
   "pygments_lexer": "ipython2",
   "version": "2.7.6"
  }
 },
 "nbformat": 4,
 "nbformat_minor": 5
}
