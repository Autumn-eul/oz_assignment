{
 "cells": [
  {
   "metadata": {},
   "cell_type": "markdown",
   "source": [
    "괄호 () 수학에서 사용되는 괄호와 동일한 기능\n",
    "\n",
    "() : 괄호 안에 있는 것을 먼저 계산\n",
    "\n",
    "사칙연산 순서 : 괄호 -> 곱셈, 나눗셈 -> 덧셈, 뺄셈"
   ],
   "id": "6c53ffd88783b0ca"
  },
  {
   "metadata": {
    "ExecuteTime": {
     "end_time": "2024-10-17T16:00:04.111479Z",
     "start_time": "2024-10-17T16:00:04.101297Z"
    }
   },
   "cell_type": "code",
   "source": [
    "# 아아 : 5000원 / 아샷추 : 6500원\n",
    "# 아아 2잔 / 아샷추 3잔\n",
    "\n",
    "(5000 * 2) + (6500 * 3)"
   ],
   "id": "d185ce32b2c00ae5",
   "outputs": [
    {
     "data": {
      "text/plain": [
       "29500"
      ]
     },
     "execution_count": 1,
     "metadata": {},
     "output_type": "execute_result"
    }
   ],
   "execution_count": 1
  },
  {
   "metadata": {},
   "cell_type": "markdown",
   "source": "계산된 결과값이 다 날아가는 문제 발생 어떻게 해결해야할까?",
   "id": "2aa1233783931317"
  },
  {
   "metadata": {},
   "cell_type": "markdown",
   "source": "변수란? 하나의 값을 저장하는 공간",
   "id": "f09823b7a7b554d6"
  },
  {
   "metadata": {},
   "cell_type": "code",
   "outputs": [],
   "execution_count": null,
   "source": [
    "# 하나의 값을 변수에 넣을 때\n",
    "num = 1\n",
    "print(num)\n",
    "\n",
    "# 두개의 값을 변수에 넣을 때\n",
    "num_1, num_2 = 1, 2\n",
    "print(num_1)\n",
    "print(num_2)\n",
    "\n",
    "print(num_1, num_2)"
   ],
   "id": "73ce339d39bc0988"
  },
  {
   "metadata": {},
   "cell_type": "markdown",
   "source": [
    "1부터 5까지의 숫자를 더하는 문제를 풀어보겠습니다.\n",
    "\n",
    "단, 다음 숫자를 더하기 위해서 매번 새로운 줄에서 시작해야하는 조건이 있습니다."
   ],
   "id": "cefce46674a7276e"
  },
  {
   "metadata": {},
   "cell_type": "code",
   "outputs": [],
   "execution_count": null,
   "source": [
    "# 변수를 사용하지 않을 때\n",
    "# 이전에 계산된 결과를 저장할 수 있는 방법이 없음\n",
    "1 + 2\n",
    "1 + 2 + 3\n",
    "1 + 2 + 3 + 4\n",
    "1 + 2 + 3 + 4 + 5"
   ],
   "id": "50770b56819bb3a3"
  },
  {
   "metadata": {},
   "cell_type": "code",
   "outputs": [],
   "execution_count": null,
   "source": [
    "# 변수를 사용할 때\n",
    "# 이전에 계산된 결과를 저장해서 사용할 수 있음\n",
    "\n",
    "sum = 1 + 2\n",
    "sum = sum + 3\n",
    "sum = sum + 4\n",
    "sum = sum + 5\n",
    "\n",
    "print(sum)"
   ],
   "id": "dca32a9c7892af9b"
  },
  {
   "metadata": {},
   "cell_type": "markdown",
   "source": [
    "## 변수에 값을 넣는 것 = 할당\n",
    "\n",
    "sum = 1 + 2 => 1 + 2 의 계산된 결과를 sum 이라는 변수에 할당한다.\n",
    "\n",
    "sum 은 변수명이고 '=' 은 같다는 의미가 아니라 할당(assignment)이라고 한다.\n",
    "\n",
    "= : 할당 연산자\n",
    "\n",
    "+ : 산술 연산자\n",
    "\n",
    "+= : 산술 후 바로 할당하는 문법\n",
    "\n",
    "/=, -=, *= 모두 가능\n"
   ],
   "id": "195d86f580ed8223"
  },
  {
   "metadata": {},
   "cell_type": "code",
   "outputs": [],
   "execution_count": null,
   "source": [
    "# 변수를 사용하면서 사용 가능한 문법\n",
    "\n",
    "sum = 1 + 2\n",
    "sum = sum + 3\n",
    "sum = sum + 4\n",
    "sum = sum + 5\n",
    "print(sum)\n",
    "\n",
    "sum2 = 1 + 2\n",
    "sum2 += 3\n",
    "sum2 += 4\n",
    "sum2 += 5\n",
    "print(sum2)"
   ],
   "id": "53a2de6d3b9aa0a4"
  },
  {
   "metadata": {},
   "cell_type": "code",
   "outputs": [],
   "execution_count": null,
   "source": "# 주의! 선언되지 않은 변수를 사용할 경우 에러 발생",
   "id": "d44230838d002fa5"
  },
  {
   "metadata": {},
   "cell_type": "code",
   "outputs": [],
   "execution_count": null,
   "source": [
    "# 변수에 어떤 값도 넣고 싶지 않고 선언하는 방법\n",
    "\n",
    "nothing = None\n",
    "\n",
    "print(None)"
   ],
   "id": "cb7191813ceda9bf"
  },
  {
   "metadata": {},
   "cell_type": "markdown",
   "source": [
    "영문 문자와 숫자를 사용할 수 있습니다.\n",
    "\n",
    "대소문자를 구분합니다.\n",
    "\n",
    "첫 글자는 대문자로 쓰는걸 지향합니다.\n",
    "\n",
    "문자부터 시작해야 하며 숫자부터 시작하면 안됩니다\n",
    "\n",
    "_(밑줄 문자)로 시작할 수 있습니다\n",
    "\n",
    "특수문자 (+, -, *, /, $, @, &, % 등)는 사용할 수 없습니다.\n",
    "\n",
    "파이썬의 키워드 (if, for, while, and, or 등)는 사용할 수 없습니다."
   ],
   "id": "d5ccee148d41fd41"
  },
  {
   "metadata": {},
   "cell_type": "code",
   "outputs": [],
   "execution_count": null,
   "source": [
    "# 대소문자를 구분하는 변수\n",
    "Big = '크다'\n",
    "big = '작다'\n",
    "\n",
    "print(Big, big)"
   ],
   "id": "4f2809557c7d9dda"
  },
  {
   "metadata": {},
   "cell_type": "markdown",
   "source": [
    "스네이크 케이스(snake case)\n",
    "변수명 : snake_case_<= 뱀인가요?\n",
    "\n",
    "카멜케이스(camel case)\n",
    "변수명 : camelCase <= 낙타가 보이시나요?\n"
   ],
   "id": "7fee009d227d9ee"
  },
  {
   "metadata": {},
   "cell_type": "code",
   "outputs": [],
   "execution_count": null,
   "source": [
    "# 우리는 변수를 만들 때 스네이크 케이스로 진행합니다. 그리고 언더바는 2개를 적용시켜 주세요.\n",
    "# 개발에 관련된 여러 조건을 명시하는 것들을 코드 컨벤션이라고 합니다.\n",
    "\n",
    "box__shose = '스니커즈'\n",
    "box__hat = '슈프림 모자'\n",
    "\n",
    "print(box__shose)\n",
    "print(box__hat)"
   ],
   "id": "9452b6cbb2c11f45"
  },
  {
   "metadata": {},
   "cell_type": "code",
   "outputs": [],
   "execution_count": null,
   "source": [
    "# print() 포메팅 3가지 f-string : print(f' {변수명} ')\n",
    "\n",
    "me = '파머'\n",
    "print(f' {me}만 빼고 고양이 다 있어')"
   ],
   "id": "231ae0f6dce03303"
  },
  {
   "metadata": {},
   "cell_type": "code",
   "outputs": [],
   "execution_count": null,
   "source": [
    "# 붕어빵 철이 돌아왔죠\n",
    "# 붕어빵(팥) : 2000원, 붕어빵(슈크림) : 2500원, 붕어빵(잡채) : 3000원\n",
    "# 무인 주문기계를 만들어주세요.\n",
    "# 붕어빵(잡채) 3개, 붕어빵(슈크림) 2개를 주문하면\n",
    "# \"주문이 완료되었습니다. 붕어빵(잡채) 3개, 붕어빵(슈크림) 2개 총 5개 결제 금액은 14000원 입니다.\"\n",
    "# 이 출력되도록 코드를 작성해 주세요.\n",
    "# 변수를 만들때 스네이크 케이스에 언더바는 2개 / print()문의 포메팅 f-string"
   ],
   "id": "a0ae47cc0557a410"
  },
  {
   "metadata": {},
   "cell_type": "code",
   "outputs": [],
   "execution_count": null,
   "source": [
    "fish__p, fish__s, fish__j = '붕어빵(팥)', '붕어빵(슈크림)', '붕어빵(잡채)'\n",
    "fish__p__price, fish__s__price, fish__j__price = 2000, 2500, 3000\n",
    "order__s, order__j = 2, 3\n",
    "total = (fish__s__price * order__s) + (fish__j__price * order__j)\n",
    "machine = '주문이 완료되었습니다. %s %d개, %s %d개 총 %d개 결제 금액은 %d원 입니다.' % (fish__s, order__s, fish__j, order__j, (order__s + order__j), total)\n",
    "print(machine)\n",
    "\n",
    "print(f'주문이 완료되었습니다. {fish__s} {order__s}개, {fish__j} {order__j}개 총 {order__s + order__j}개 결제 금액은 {total}원 입니다.')"
   ],
   "id": "6e2f6b153ada3b7e"
  }
 ],
 "metadata": {
  "kernelspec": {
   "display_name": "Python 3",
   "language": "python",
   "name": "python3"
  },
  "language_info": {
   "codemirror_mode": {
    "name": "ipython",
    "version": 2
   },
   "file_extension": ".py",
   "mimetype": "text/x-python",
   "name": "python",
   "nbconvert_exporter": "python",
   "pygments_lexer": "ipython2",
   "version": "2.7.6"
  }
 },
 "nbformat": 4,
 "nbformat_minor": 5
}
