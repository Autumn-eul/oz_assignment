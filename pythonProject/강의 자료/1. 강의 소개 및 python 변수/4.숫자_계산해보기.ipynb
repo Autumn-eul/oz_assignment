{
 "cells": [
  {
   "metadata": {},
   "cell_type": "markdown",
   "source": [
    "## 사칙연산\n",
    "더하기 : +\n",
    "\n",
    "빼기 : -\n",
    "\n",
    "곱하기 : *\n",
    "\n",
    "나누기\n",
    "*       / : 우리가 알고 있는 나누기와 동일한 기능(ex. 5/2 = 2.5)\n",
    "*       // : 몫을 반환 (ex 5/2 = 2)\n",
    "*       % : 나머지를 반환 (ex 5/2 = 1)\n",
    "\n",
    "거듭제곱 : **"
   ],
   "id": "b567c98f9c053b7b"
  },
  {
   "metadata": {},
   "cell_type": "code",
   "outputs": [],
   "execution_count": null,
   "source": [
    "# 더하기\n",
    "print(3 + 2)"
   ],
   "id": "a913a7aa57f42164"
  },
  {
   "metadata": {},
   "cell_type": "code",
   "outputs": [],
   "execution_count": null,
   "source": [
    "# 빼기\n",
    "print(3 - 1)"
   ],
   "id": "d3b88c7fc5304f8a"
  },
  {
   "metadata": {},
   "cell_type": "code",
   "outputs": [],
   "execution_count": null,
   "source": [
    "# 곱하기\n",
    "print(3 * 2)"
   ],
   "id": "bf5d5eeec5fe1163"
  },
  {
   "metadata": {},
   "cell_type": "code",
   "outputs": [],
   "execution_count": null,
   "source": [
    "# 나누기 /\n",
    "print(7 / 2)\n",
    "\n",
    "# //\n",
    "print(7 // 2)\n",
    "\n",
    "# %\n",
    "print(7 % 2)"
   ],
   "id": "4a6601f0d4b6cd0a"
  },
  {
   "metadata": {},
   "cell_type": "markdown",
   "source": [
    "### 내장함수 : divmod\n",
    "\n",
    "> 내장함수 : 자주 사용하는 기능을 미리 만들어 놓은것을 내장함수라고 함\n",
    "\n",
    "divmod : 몫과 나머지를 동시에 구해줌"
   ],
   "id": "1e356dc480345ee1"
  },
  {
   "metadata": {},
   "cell_type": "code",
   "outputs": [],
   "execution_count": null,
   "source": [
    "print(divmod(3, 2))\n",
    "print(divmod(7, 4))\n",
    "print(divmod(13, 2))\n",
    "print(divmod(19, 4))\n",
    "print(divmod(15, 5))\n",
    "\n",
    "print(\"(\", 7//4, \",\", 7%4, \")\")"
   ],
   "id": "4c58bb51b3a4cf8c"
  },
  {
   "metadata": {},
   "cell_type": "markdown",
   "source": [
    "### 괄호\n",
    "수학에서 사용되는 괄호와 동일한 기능\n",
    "\n",
    "() : 괄호 안에 있는 것을 먼저 계산\n",
    "\n",
    "사칙연산 순서 : 괄호 -> 곱셉, 나눗셈 -> 덧셈, 뺄셈"
   ],
   "id": "737f817d664dfb02"
  },
  {
   "metadata": {},
   "cell_type": "code",
   "outputs": [],
   "execution_count": null,
   "source": "3 + 2 * 4",
   "id": "9825a625ca15467"
  },
  {
   "metadata": {},
   "cell_type": "code",
   "outputs": [],
   "execution_count": null,
   "source": "(3 + 2) * 4",
   "id": "b996f9efc969c496"
  }
 ],
 "metadata": {
  "kernelspec": {
   "display_name": "Python 3",
   "language": "python",
   "name": "python3"
  },
  "language_info": {
   "codemirror_mode": {
    "name": "ipython",
    "version": 2
   },
   "file_extension": ".py",
   "mimetype": "text/x-python",
   "name": "python",
   "nbconvert_exporter": "python",
   "pygments_lexer": "ipython2",
   "version": "2.7.6"
  }
 },
 "nbformat": 4,
 "nbformat_minor": 5
}
