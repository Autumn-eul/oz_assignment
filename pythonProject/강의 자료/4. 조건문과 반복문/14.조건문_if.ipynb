{
 "cells": [
  {
   "metadata": {},
   "cell_type": "markdown",
   "source": [
    "### 1. if 문이란?\n",
    "* 특정 조건일 때 코드를 실행하는 문법\n",
    "\n",
    "if 파이썬을 정복한다면 :\n",
    "    개발자로 취직할 수 있다."
   ],
   "id": "d15c3e15dd16bd86"
  },
  {
   "cell_type": "code",
   "execution_count": null,
   "id": "initial_id",
   "metadata": {
    "collapsed": true
   },
   "outputs": [],
   "source": [
    "# 2. if문 문법과 주의사항 (콜론, 들여쓰기)\n",
    "개수 = int(input(\"붕어빵 몇 개 사실건가요?\"))\n",
    "\n",
    "if 개수 > 3:\n",
    "    print('마리당 1800원 입니다.')"
   ]
  },
  {
   "metadata": {},
   "cell_type": "code",
   "outputs": [],
   "execution_count": null,
   "source": [
    "# 3.if문의 흐름 (작동원리)\n",
    "# 코드는 위에서 아래로 순서대로 작동합니다.\n",
    "\n",
    "개수 = int(input(\"붕어빵 몇 개 사실건가요?\"))\n",
    "\n",
    "if 개수 > 3:\n",
    "    print(\"마리 당 1800원 입니다.\")\n",
    "\n",
    "if 개수 <= 3:\n",
    "    print(\"마리 당 2000원 입니다.\")"
   ],
   "id": "9162de4de42220d5"
  },
  {
   "metadata": {},
   "cell_type": "code",
   "outputs": [],
   "execution_count": null,
   "source": [
    "# 4. if 중첩문\n",
    "\n",
    "의문의_숫자 = 10\n",
    "\n",
    "if 의문의_숫자 > 5:\n",
    "    if 의문의_숫자 < 15:\n",
    "        print(\"의문의 숫자는 5보다 크고 10보다 작습니다.\")"
   ],
   "id": "55d6ad262ec65c0a"
  },
  {
   "metadata": {},
   "cell_type": "code",
   "outputs": [],
   "execution_count": null,
   "source": [
    "# 5. if ~ else 문법과 주의사항 (콜론, 들여쓰기)\n",
    "# True 일 때는 if 문 안에 작성된 코드가 실행\n",
    "# False 일 때는 else 문 안에 작성된 코드가 실행\n",
    "\n",
    "개수 = int(input(\"붕어빵 몇 개 사실건가요?\"))\n",
    "\n",
    "if 개수 > 3:\n",
    "    print(\"마리 당 1800원 입니다.\")\n",
    "else:\n",
    "    print(\"마리 당 2000원 입니다.\")"
   ],
   "id": "3d37447635f5bb0c"
  },
  {
   "metadata": {},
   "cell_type": "code",
   "outputs": [],
   "execution_count": null,
   "source": [
    "# 6. if ~ else 문 흐름 (작동 원리)\n",
    "\n",
    "개수 = int(input(\"붕어빵 몇 개 사실건가요?\"))\n",
    "\n",
    "if 개수 > 3:\n",
    "    print(\"마리 당 1800원 입니다.\")\n",
    "else:\n",
    "    print(\"마리 당 2000원 입니다.\")"
   ],
   "id": "8befb6977c9fe711"
  },
  {
   "metadata": {},
   "cell_type": "code",
   "outputs": [],
   "execution_count": null,
   "source": [
    "from re import T\n",
    "# 7. 조건문 조건 (True, False)\n",
    "# True\n",
    "\n",
    "if True:\n",
    "    print(True)\n",
    "else:\n",
    "    print(False)\n",
    "\n",
    "# False\n",
    "if False:\n",
    "    print(True)\n",
    "else:\n",
    "    print(False)\n",
    "\n",
    "# None\n",
    "if None:\n",
    "    print(True)\n",
    "else:\n",
    "    print(False)\n",
    "\n",
    "# 0\n",
    "if 0:\n",
    "    print(True)\n",
    "else:\n",
    "    print(False)\n",
    "\n",
    "# 1\n",
    "if 1:\n",
    "    print(True)\n",
    "else:\n",
    "    print(False)"
   ],
   "id": "8fd9e23c54c207b3"
  },
  {
   "metadata": {},
   "cell_type": "code",
   "outputs": [],
   "execution_count": null,
   "source": [
    "# 3.1\n",
    "if 3.1:\n",
    "    print(True)\n",
    "else:\n",
    "    print(False)\n",
    "\n",
    "# 'hello'\n",
    "if 'hello':\n",
    "    print(True)\n",
    "else:\n",
    "    print(False)\n",
    "\n",
    "# ''\n",
    "if '':\n",
    "    print(True)\n",
    "else:\n",
    "    print(False)"
   ],
   "id": "412c0356a01e38e4"
  },
  {
   "metadata": {},
   "cell_type": "code",
   "outputs": [],
   "execution_count": null,
   "source": [
    "# not True\n",
    "if not True:\n",
    "    print(True)\n",
    "else:\n",
    "    print(False)\n",
    "\n",
    "# not ''\n",
    "if not '':\n",
    "    print(True)\n",
    "else:\n",
    "    priint(False)"
   ],
   "id": "a3e9bc112dae0d92"
  },
  {
   "metadata": {},
   "cell_type": "code",
   "outputs": [],
   "execution_count": null,
   "source": [
    "# 8. 조건식 여러개 설정하기\n",
    "\n",
    "a, b = 10, 30\n",
    "\n",
    "if a == 10 and b == 30:\n",
    "    print(\"동일합니다.\")\n",
    "else:\n",
    "    print(\"동일하a지 않습니다.\")\n",
    "\n",
    "if a == 10 or b == 30:\n",
    "    print(\"동일합니다.\")\n",
    "else:\n",
    "    print(\"동일하지 않습니다.\")\n",
    "\n",
    "if a >= 10 and a < 20:\n",
    "    print(\"10보다 크고 20보다 작습니다.\")\n",
    "\n",
    "if 10 <= a < 20:\n",
    "    print(\"10보다 크고 20보다 작습니다.\")"
   ],
   "id": "b7d120d9fa54d2b4"
  },
  {
   "metadata": {},
   "cell_type": "code",
   "outputs": [],
   "execution_count": null,
   "source": [
    "# 9. elif ~ if 문\n",
    "\n",
    "맛 = input(\"붕어빵 맛을 골라주세요. (팥, 슈크림, 잡채)\")\n",
    "\n",
    "if 맛 == \"팥\":\n",
    "    print(f'{맛}을 선택하셨습니다.')\n",
    "elif 맛 == \"슈크림\":\n",
    "    print(f'{맛}을 선택하셨습니다.')\n",
    "else:\n",
    "    print(f'{맛}를 선택하셨습니다.')"
   ],
   "id": "55a89e32eedaaaf1"
  },
  {
   "metadata": {},
   "cell_type": "code",
   "outputs": [],
   "execution_count": null,
   "source": [
    "# 10. 예제로 if문 익혀보기\n",
    "# 문제 : 단어 a의 가운데 글자를 반환하는 코드\n",
    "# 조건 : 단어의 길이가 짝수라면 가운데 두글자를 출력하면 됩니다.\n",
    "\n",
    "# 입력값1 : \"abcde\"\n",
    "# 입력값2 : \"qwer\"\n",
    "\n",
    "center__index = int(len(a) / 2)\n",
    "\n",
    "a = input()\n",
    "if len(a) % 2 != 0:\n",
    "    print(a[center__index])\n",
    "else:\n",
    "    print(a[center__index -1 : center__index + 1])"
   ],
   "id": "8325490896c57083"
  }
 ],
 "metadata": {
  "kernelspec": {
   "display_name": "Python 3",
   "language": "python",
   "name": "python3"
  },
  "language_info": {
   "codemirror_mode": {
    "name": "ipython",
    "version": 2
   },
   "file_extension": ".py",
   "mimetype": "text/x-python",
   "name": "python",
   "nbconvert_exporter": "python",
   "pygments_lexer": "ipython2",
   "version": "2.7.6"
  }
 },
 "nbformat": 4,
 "nbformat_minor": 5
}
