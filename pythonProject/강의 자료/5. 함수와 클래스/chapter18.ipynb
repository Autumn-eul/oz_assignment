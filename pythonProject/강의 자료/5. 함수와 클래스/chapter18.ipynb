{
 "cells": [
  {
   "metadata": {},
   "cell_type": "markdown",
   "source": [
    "# 클래스\n",
    "\n",
    "객체에 해당하는 것들\n",
    "* 게임 캐릭터 (궁수, 성직자 등)\n",
    "* 집, 나무, 자동차\n",
    "* 네이버 홈페이지의 버튼들"
   ],
   "id": "c968a5fd783a81cc"
  },
  {
   "cell_type": "code",
   "id": "initial_id",
   "metadata": {
    "collapsed": true,
    "ExecuteTime": {
     "end_time": "2024-10-18T06:18:07.639488Z",
     "start_time": "2024-10-18T06:18:07.617855Z"
    }
   },
   "source": [
    "class 클래스 이름:\n",
    "    def 메서드(self):\n",
    "        코드"
   ],
   "outputs": [
    {
     "ename": "SyntaxError",
     "evalue": "invalid syntax (3378713202.py, line 1)",
     "output_type": "error",
     "traceback": [
      "\u001B[0;36m  Cell \u001B[0;32mIn[1], line 1\u001B[0;36m\u001B[0m\n\u001B[0;31m    class 클래스 이름:\u001B[0m\n\u001B[0m              ^\u001B[0m\n\u001B[0;31mSyntaxError\u001B[0m\u001B[0;31m:\u001B[0m invalid syntax\n"
     ]
    }
   ],
   "execution_count": 1
  },
  {
   "metadata": {
    "ExecuteTime": {
     "end_time": "2024-10-18T06:19:17.795420Z",
     "start_time": "2024-10-18T06:19:17.781930Z"
    }
   },
   "cell_type": "code",
   "source": [
    "class Person:\n",
    "    def hello(self):\n",
    "        print(\"수강생 여러분\")\n",
    "        \n",
    "호출 = Person() # 인스턴스\n",
    "호출.hello() # .index, .count()"
   ],
   "id": "4945c02d6268de2b",
   "outputs": [
    {
     "name": "stdout",
     "output_type": "stream",
     "text": [
      "수강생 여러분\n"
     ]
    }
   ],
   "execution_count": 2
  },
  {
   "metadata": {
    "ExecuteTime": {
     "end_time": "2024-10-18T06:21:53.962046Z",
     "start_time": "2024-10-18T06:21:53.951961Z"
    }
   },
   "cell_type": "code",
   "source": [
    "a = int(10) # a 인스턴스\n",
    "print(a)\n",
    "\n",
    "b = list(range(10)) # b 인스턴스\n",
    "print(b)\n",
    "\n",
    "# 인스턴스와 객체는 무슨 차이인가?\n",
    "# 사실 인스턴스와 객체는 같은 것이지만, 언제 사용하는지에 따라 다르다.\n",
    "# 객체 자체를 언급할 때는 객체\n",
    "# 클래스라는 내용이 동반이 되면 인스턴스"
   ],
   "id": "edb112f77d95b4b9",
   "outputs": [
    {
     "name": "stdout",
     "output_type": "stream",
     "text": [
      "10\n",
      "[0, 1, 2, 3, 4, 5, 6, 7, 8, 9]\n"
     ]
    }
   ],
   "execution_count": 3
  },
  {
   "metadata": {},
   "cell_type": "code",
   "outputs": [],
   "execution_count": null,
   "source": [
    "class 클래스이름:\n",
    "    def __init__(self):\n",
    "        self.속성 = 값"
   ],
   "id": "98dab47698810d49"
  },
  {
   "metadata": {
    "ExecuteTime": {
     "end_time": "2024-10-18T06:43:31.432636Z",
     "start_time": "2024-10-18T06:43:31.427211Z"
    }
   },
   "cell_type": "code",
   "source": [
    "class Person:\n",
    "    def __init__(self):\n",
    "        self.hello = \"안녕하세요\"\n",
    "    \n",
    "    def greeting(self):\n",
    "        print(self.hello)\n",
    "        \n",
    "호출 = Person()\n",
    "호출.greeting()"
   ],
   "id": "479fdf1ae026a1d5",
   "outputs": [
    {
     "name": "stdout",
     "output_type": "stream",
     "text": [
      "안녕하세요\n"
     ]
    }
   ],
   "execution_count": 10
  },
  {
   "metadata": {
    "ExecuteTime": {
     "end_time": "2024-10-18T06:38:25.985568Z",
     "start_time": "2024-10-18T06:38:25.973388Z"
    }
   },
   "cell_type": "code",
   "source": [
    "# 매직 매서드\n",
    "print(dir(int))"
   ],
   "id": "bf4cba555ba9e4e4",
   "outputs": [
    {
     "name": "stdout",
     "output_type": "stream",
     "text": [
      "['__abs__', '__add__', '__and__', '__bool__', '__ceil__', '__class__', '__delattr__', '__dir__', '__divmod__', '__doc__', '__eq__', '__float__', '__floor__', '__floordiv__', '__format__', '__ge__', '__getattribute__', '__getnewargs__', '__gt__', '__hash__', '__index__', '__init__', '__init_subclass__', '__int__', '__invert__', '__le__', '__lshift__', '__lt__', '__mod__', '__mul__', '__ne__', '__neg__', '__new__', '__or__', '__pos__', '__pow__', '__radd__', '__rand__', '__rdivmod__', '__reduce__', '__reduce_ex__', '__repr__', '__rfloordiv__', '__rlshift__', '__rmod__', '__rmul__', '__ror__', '__round__', '__rpow__', '__rrshift__', '__rshift__', '__rsub__', '__rtruediv__', '__rxor__', '__setattr__', '__sizeof__', '__str__', '__sub__', '__subclasshook__', '__truediv__', '__trunc__', '__xor__', 'as_integer_ratio', 'bit_length', 'conjugate', 'denominator', 'from_bytes', 'imag', 'numerator', 'real', 'to_bytes']\n"
     ]
    }
   ],
   "execution_count": 7
  },
  {
   "metadata": {},
   "cell_type": "markdown",
   "source": [
    "self 란 무엇인가? 인스턴스 자신을 의미\n",
    "여기서 int 의 매개변수 self 에 들어가는 값은 Person()이라고 할 수 있음"
   ],
   "id": "cb49e9785164f410"
  },
  {
   "metadata": {
    "ExecuteTime": {
     "end_time": "2024-10-18T06:45:18.791768Z",
     "start_time": "2024-10-18T06:45:18.780166Z"
    }
   },
   "cell_type": "code",
   "source": [
    "class 클래스이름:\n",
    "    def __init_(self, 매개변수1, 매개변수2):\n",
    "        self.속성1 = 매개변수1\n",
    "        self.속성2 = 매개변수2"
   ],
   "id": "df6bff5c571d8779",
   "outputs": [],
   "execution_count": 11
  },
  {
   "metadata": {
    "ExecuteTime": {
     "end_time": "2024-10-18T06:48:58.881286Z",
     "start_time": "2024-10-18T06:48:58.862187Z"
    }
   },
   "cell_type": "code",
   "source": [
    "class  Person:\n",
    "    def __init__(self, name, age, address):\n",
    "        self.hello = \"안녕하세요.\"\n",
    "        self.name = name\n",
    "        self.age = age\n",
    "        self.address = address\n",
    "        \n",
    "    def greeting(self):\n",
    "        print('{0} 저는 {1}입니다.'.format(self.hello, self.name))\n",
    "        \n",
    "maria = Person('마리아', 20, '서울시 서초구 반포동')\n",
    "maria.greeting() # 안녕하세요 저는 마리아입니다.\n",
    "\n",
    "print('이름:', maria.name)\n",
    "print('나이:', maria.age)\n",
    "print('주소:', maria.address)"
   ],
   "id": "ada414173e395320",
   "outputs": [
    {
     "name": "stdout",
     "output_type": "stream",
     "text": [
      "안녕하세요. 저는 마리아입니다.\n",
      "이름: 마리아\n",
      "나이: 20\n",
      "주소: 서울시 서초구 반포동\n"
     ]
    }
   ],
   "execution_count": 12
  },
  {
   "metadata": {},
   "cell_type": "markdown",
   "source": "## 클래스의 상속",
   "id": "13ba14063d758b49"
  },
  {
   "metadata": {
    "ExecuteTime": {
     "end_time": "2024-10-18T07:11:38.780664Z",
     "start_time": "2024-10-18T07:11:38.757303Z"
    }
   },
   "cell_type": "code",
   "source": [
    "class Car (object):\n",
    "    maxspeed = 300\n",
    "    maxpeople = 5\n",
    "    def move(self, x):\n",
    "        print(\"스피드로 달리고 있습니다.\")\n",
    "    def stop(self):\n",
    "        print(\"멈췄습니다.\")\n",
    "\n",
    "class HybridCar(Car):\n",
    "    battery = 1000\n",
    "    batteryKM = 300\n",
    "    # maxspeed = 300\n",
    "    # maxpeople = 5\n",
    "    # def move(self, x):\n",
    "    #     print(\"스피드로 달리고 있습니다.\")\n",
    "    # def stop(self):\n",
    "    #     print(\"멈췄습니다.\")\n",
    "    \n",
    "class ElectricCar(HybridCar):\n",
    "    battery = 1000\n",
    "    batteryKM = 300\n",
    "\n",
    "k5 = HybridCar()\n",
    "k5.maxspeed # 원래 없는 값인데 상속으로 인해 작동함\n",
    "\n",
    "electricCark5 = ElectricCar()\n",
    "electricCark5.maxspeed\n",
    "\n",
    "# print(dir(k5))"
   ],
   "id": "262b46f3150d83d4",
   "outputs": [
    {
     "data": {
      "text/plain": [
       "300"
      ]
     },
     "execution_count": 20,
     "metadata": {},
     "output_type": "execute_result"
    }
   ],
   "execution_count": 20
  },
  {
   "metadata": {
    "ExecuteTime": {
     "end_time": "2024-10-18T07:13:04.160294Z",
     "start_time": "2024-10-18T07:13:04.143823Z"
    }
   },
   "cell_type": "code",
   "source": [
    "class Car (object):\n",
    "    maxspeed = 300\n",
    "    maxpeople = 5\n",
    "    def move(self, x):\n",
    "        print(\"스피드로 달리고 있습니다.\")\n",
    "    def stop(self):\n",
    "        print(\"멈췄습니다.\")\n",
    "\n",
    "class HybridCar(Car):\n",
    "    battery = 1000\n",
    "    batteryKM = 300\n",
    "    \n",
    "class ElectricCar(HybridCar):\n",
    "    battery = 1000\n",
    "    batteryKM = 300\n",
    "    def move(self, x): # 중복되는 함수가 존재할 때 가장 마지막에 있는 함수를 실행 : 메소드 오버라이징\n",
    "        print(self.batteryKM, '만큼 달릴 수 있습니다.')\n",
    "        print(x, \"스피드로 달리고 있습니다.\")\n",
    "\n",
    "k5 = HybridCar()\n",
    "k5.maxspeed # 원래 없는 값인데 상속으로 인해 작동함\n",
    "\n",
    "electricCark5 = ElectricCar()\n",
    "electricCark5.maxspeed\n",
    "electricCark5.battery\n",
    "electricCark5.move(10)\n",
    "\n",
    "# print(dir(k5))"
   ],
   "id": "4fb907b9e6ab897c",
   "outputs": [
    {
     "name": "stdout",
     "output_type": "stream",
     "text": [
      "300 만큼 달릴 수 있습니다.\n",
      "10 스피드로 달리고 있습니다.\n"
     ]
    }
   ],
   "execution_count": 21
  }
 ],
 "metadata": {
  "kernelspec": {
   "display_name": "Python 3",
   "language": "python",
   "name": "python3"
  },
  "language_info": {
   "codemirror_mode": {
    "name": "ipython",
    "version": 2
   },
   "file_extension": ".py",
   "mimetype": "text/x-python",
   "name": "python",
   "nbconvert_exporter": "python",
   "pygments_lexer": "ipython2",
   "version": "2.7.6"
  }
 },
 "nbformat": 4,
 "nbformat_minor": 5
}
