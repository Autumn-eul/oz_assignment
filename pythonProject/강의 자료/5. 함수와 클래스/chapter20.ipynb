{
 "cells": [
  {
   "metadata": {},
   "cell_type": "markdown",
   "source": [
    "## 파일 입출력\n",
    "\n",
    "#### 웹 -> 크롤링 -> 데이터 베이스 -> 1차 클렌징 -> 출력 후 담당자에게 전달 -> 2차 클렌징 -> 유용한 데이터셋 -> csv 데이터 베이스 입력 -> 인공지능 학습"
   ],
   "id": "cfc91575f9123f6"
  },
  {
   "cell_type": "code",
   "id": "initial_id",
   "metadata": {
    "collapsed": true,
    "ExecuteTime": {
     "end_time": "2024-10-18T08:04:33.376304Z",
     "start_time": "2024-10-18T08:04:33.367638Z"
    }
   },
   "source": "pwd",
   "outputs": [
    {
     "data": {
      "text/plain": [
       "'/Users/lolll/Desktop/oz_assignment/pythonProject/무제 폴더'"
      ]
     },
     "execution_count": 18,
     "metadata": {},
     "output_type": "execute_result"
    }
   ],
   "execution_count": 18
  },
  {
   "metadata": {
    "ExecuteTime": {
     "end_time": "2024-10-18T08:04:34.500178Z",
     "start_time": "2024-10-18T08:04:34.490976Z"
    }
   },
   "cell_type": "code",
   "source": "cd/content/drive/MyDrive/Colab Notebooks",
   "id": "e19a84052b99ff30",
   "outputs": [
    {
     "name": "stdout",
     "output_type": "stream",
     "text": [
      "[Errno 2] No such file or directory: '/content/drive/MyDrive/Colab Notebooks'\n",
      "/Users/lolll/Desktop/oz_assignment/pythonProject/무제 폴더\n"
     ]
    }
   ],
   "execution_count": 19
  },
  {
   "metadata": {},
   "cell_type": "markdown",
   "source": [
    "r - 읽기\n",
    "\n",
    "w - 쓰기 (주의 : 덮어쓰기)\n",
    "\n",
    "a - 추가"
   ],
   "id": "41e7ff2a2b940611"
  },
  {
   "metadata": {
    "ExecuteTime": {
     "end_time": "2024-10-18T08:04:38.345672Z",
     "start_time": "2024-10-18T08:04:38.339138Z"
    }
   },
   "cell_type": "code",
   "source": [
    "f = open('test.txt', 'w')\n",
    "f.write('수강생 여러분')\n",
    "f.close()"
   ],
   "id": "fd30caf48ba7eb1e",
   "outputs": [],
   "execution_count": 20
  },
  {
   "metadata": {
    "ExecuteTime": {
     "end_time": "2024-10-18T08:04:40.122582Z",
     "start_time": "2024-10-18T08:04:40.113252Z"
    }
   },
   "cell_type": "code",
   "source": [
    "f = open(\"test.txt\", 'w')\n",
    "f.write('개발자 여러분')\n",
    "f.close() # 덮어씌여짐"
   ],
   "id": "b76f10ac865a8617",
   "outputs": [],
   "execution_count": 21
  },
  {
   "metadata": {
    "ExecuteTime": {
     "end_time": "2024-10-18T08:04:42.087545Z",
     "start_time": "2024-10-18T08:04:42.078183Z"
    }
   },
   "cell_type": "code",
   "source": [
    "f = open('test.txt', 'w')\n",
    "f.write('''개발자 여러분\n",
    "개발자 여러분\n",
    "개발자 여러분\n",
    "개발자 여러분\n",
    "개발자 여러분\n",
    "개발자 여러분\n",
    "''')\n",
    "f.close()"
   ],
   "id": "91b7043a172b41d2",
   "outputs": [],
   "execution_count": 22
  },
  {
   "metadata": {
    "ExecuteTime": {
     "end_time": "2024-10-18T08:04:44.572980Z",
     "start_time": "2024-10-18T08:04:44.563797Z"
    }
   },
   "cell_type": "code",
   "source": [
    "f = open('test.txt', 'w')\n",
    "메시지 = ''\n",
    "\n",
    "for i in range(10):\n",
    "    메시지 += \"개발자 여러분\\n\"\n",
    "f.write(메시지)\n",
    "f.close()"
   ],
   "id": "4dbb77eed10380f1",
   "outputs": [],
   "execution_count": 23
  },
  {
   "metadata": {
    "ExecuteTime": {
     "end_time": "2024-10-18T08:04:48.787390Z",
     "start_time": "2024-10-18T08:04:48.775195Z"
    }
   },
   "cell_type": "code",
   "source": [
    "f = open('test.txt', 'r')\n",
    "s = f.read()\n",
    "print(s)\n",
    "f.close()"
   ],
   "id": "89423fe7e3752bbb",
   "outputs": [
    {
     "name": "stdout",
     "output_type": "stream",
     "text": [
      "개발자 여러분\n",
      "개발자 여러분\n",
      "개발자 여러분\n",
      "개발자 여러분\n",
      "개발자 여러분\n",
      "개발자 여러분\n",
      "개발자 여러분\n",
      "개발자 여러분\n",
      "개발자 여러분\n",
      "개발자 여러분\n",
      "\n"
     ]
    }
   ],
   "execution_count": 24
  },
  {
   "metadata": {
    "ExecuteTime": {
     "end_time": "2024-10-18T08:04:53.065642Z",
     "start_time": "2024-10-18T08:04:53.055085Z"
    }
   },
   "cell_type": "code",
   "source": [
    "f = open('test.txt', 'r')\n",
    "line = f.readline()\n",
    "print(line)\n",
    "print(type(line))\n",
    "f.close()"
   ],
   "id": "b145ee4acbcc0854",
   "outputs": [
    {
     "name": "stdout",
     "output_type": "stream",
     "text": [
      "개발자 여러분\n",
      "\n",
      "<class 'str'>\n"
     ]
    }
   ],
   "execution_count": 25
  },
  {
   "metadata": {
    "ExecuteTime": {
     "end_time": "2024-10-18T08:04:55.350166Z",
     "start_time": "2024-10-18T08:04:55.335977Z"
    }
   },
   "cell_type": "code",
   "source": [
    "f = open('test.txt', 'r')\n",
    "while line:\n",
    "    line = f.readline()\n",
    "    print(line)\n",
    "f.close()"
   ],
   "id": "466f05e498944dfc",
   "outputs": [
    {
     "name": "stdout",
     "output_type": "stream",
     "text": [
      "개발자 여러분\n",
      "\n",
      "개발자 여러분\n",
      "\n",
      "개발자 여러분\n",
      "\n",
      "개발자 여러분\n",
      "\n",
      "개발자 여러분\n",
      "\n",
      "개발자 여러분\n",
      "\n",
      "개발자 여러분\n",
      "\n",
      "개발자 여러분\n",
      "\n",
      "개발자 여러분\n",
      "\n",
      "개발자 여러분\n",
      "\n",
      "\n"
     ]
    }
   ],
   "execution_count": 26
  },
  {
   "metadata": {
    "ExecuteTime": {
     "end_time": "2024-10-18T08:05:25.862050Z",
     "start_time": "2024-10-18T08:05:25.853241Z"
    }
   },
   "cell_type": "code",
   "source": [
    "f = open('test.txt', 'a')\n",
    "f.write(\"힘내자\")\n",
    "f.close()"
   ],
   "id": "f19bbc32cf48410",
   "outputs": [],
   "execution_count": 27
  },
  {
   "metadata": {},
   "cell_type": "code",
   "outputs": [],
   "execution_count": null,
   "source": [
    "with open('test.txt', 'a') as f:\n",
    "    f.write(\"힘내자 !!!\")"
   ],
   "id": "13745734e425f2a"
  },
  {
   "metadata": {
    "ExecuteTime": {
     "end_time": "2024-10-18T08:06:45.697353Z",
     "start_time": "2024-10-18T08:06:45.690156Z"
    }
   },
   "cell_type": "code",
   "source": [
    "list = [10, 20, 30]\n",
    "\n",
    "with open('test.txt', 'a') as f:\n",
    "    f.write(str(list))"
   ],
   "id": "c3af4a0aa517ab47",
   "outputs": [],
   "execution_count": 28
  },
  {
   "metadata": {
    "ExecuteTime": {
     "end_time": "2024-10-18T08:08:05.947290Z",
     "start_time": "2024-10-18T08:08:05.939447Z"
    }
   },
   "cell_type": "code",
   "source": [
    "list = [10, 20, 30]\n",
    "with open('test.txt', 'w') as f:\n",
    "    f.write('let test =' + str(list))"
   ],
   "id": "80438f7ea04ece8d",
   "outputs": [],
   "execution_count": 30
  },
  {
   "metadata": {
    "ExecuteTime": {
     "end_time": "2024-10-18T08:08:52.333906Z",
     "start_time": "2024-10-18T08:08:52.324390Z"
    }
   },
   "cell_type": "code",
   "source": [
    "list = ['10', '20', '30']\n",
    "with open('test.txt', 'w') as f:\n",
    "    f.writelines(list)"
   ],
   "id": "b51afa19866aa485",
   "outputs": [],
   "execution_count": 33
  },
  {
   "metadata": {
    "ExecuteTime": {
     "end_time": "2024-10-18T08:10:03.871937Z",
     "start_time": "2024-10-18T08:10:03.860461Z"
    }
   },
   "cell_type": "code",
   "source": [
    "# csv\n",
    "list = ['10', '20', '30']\n",
    "\n",
    "with open('test3.csv', 'w') as f:\n",
    "    f.write(','.join(list))"
   ],
   "id": "5a1d65e9221ba7d6",
   "outputs": [],
   "execution_count": 35
  }
 ],
 "metadata": {
  "kernelspec": {
   "display_name": "Python 3",
   "language": "python",
   "name": "python3"
  },
  "language_info": {
   "codemirror_mode": {
    "name": "ipython",
    "version": 2
   },
   "file_extension": ".py",
   "mimetype": "text/x-python",
   "name": "python",
   "nbconvert_exporter": "python",
   "pygments_lexer": "ipython2",
   "version": "2.7.6"
  }
 },
 "nbformat": 4,
 "nbformat_minor": 5
}
