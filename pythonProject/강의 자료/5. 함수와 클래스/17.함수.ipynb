{
 "cells": [
  {
   "cell_type": "code",
   "id": "initial_id",
   "metadata": {
    "collapsed": true,
    "ExecuteTime": {
     "end_time": "2024-10-18T02:27:21.038065Z",
     "start_time": "2024-10-18T02:27:21.024118Z"
    }
   },
   "source": [
    "def 양파():\n",
    "    print(\"양파를 2개 수확했습니다.\")\n",
    "def 대파():\n",
    "    print(\"대파를 수확했습니다.\")\n",
    "    \n",
    "# 함수 호출하기\n",
    "양파()\n",
    "대파()"
   ],
   "outputs": [
    {
     "name": "stdout",
     "output_type": "stream",
     "text": [
      "양파를 2개 수확했습니다.\n",
      "대파를 수확했습니다.\n"
     ]
    }
   ],
   "execution_count": 2
  },
  {
   "metadata": {
    "ExecuteTime": {
     "end_time": "2024-10-18T02:27:45.684692Z",
     "start_time": "2024-10-18T02:27:45.668790Z"
    }
   },
   "cell_type": "code",
   "source": [
    "def 수확():\n",
    "    print(\"올해 비가 많이 왔습니다.\")\n",
    "    \n",
    "print(\"농작물 수확량이 현저히 줄었습니다.\")\n",
    "\n",
    "수확()"
   ],
   "id": "4d1713c6aa87d1f5",
   "outputs": [
    {
     "name": "stdout",
     "output_type": "stream",
     "text": [
      "농작물 수확량이 현저히 줄었습니다.\n",
      "올해 비가 많이 왔습니다.\n"
     ]
    }
   ],
   "execution_count": 3
  },
  {
   "metadata": {
    "ExecuteTime": {
     "end_time": "2024-10-18T02:29:05.840878Z",
     "start_time": "2024-10-18T02:29:05.824381Z"
    }
   },
   "cell_type": "code",
   "source": [
    "def function(x, y):\n",
    "    z = x + y\n",
    "    return z\n",
    "\n",
    "# A등급 10마리, B등급 9마리\n",
    "print(\"옥수수와 수박의 수확량 : \", function(10, 2))"
   ],
   "id": "5d25f63271e2058",
   "outputs": [
    {
     "name": "stdout",
     "output_type": "stream",
     "text": [
      "옥수수와 수박의 수확량 :  12\n"
     ]
    }
   ],
   "execution_count": 5
  },
  {
   "metadata": {
    "ExecuteTime": {
     "end_time": "2024-10-18T02:30:12.736246Z",
     "start_time": "2024-10-18T02:30:12.727862Z"
    }
   },
   "cell_type": "code",
   "source": [
    "def 수확():\n",
    "    print(\"고라니 2마리를 잡았습니다.\")\n",
    "    \n",
    "수확()"
   ],
   "id": "f729d3c25c8a9732",
   "outputs": [
    {
     "name": "stdout",
     "output_type": "stream",
     "text": [
      "고라니 2마리를 잡았습니다.\n"
     ]
    }
   ],
   "execution_count": 6
  },
  {
   "metadata": {
    "ExecuteTime": {
     "end_time": "2024-10-18T02:31:53.488257Z",
     "start_time": "2024-10-18T02:31:53.473777Z"
    }
   },
   "cell_type": "code",
   "source": [
    "def function(x, y):\n",
    "    z = x + y\n",
    "    print(z)\n",
    "    \n",
    "# A 등급 10마리, B 등급 9마리\n",
    "print(\"옥수수와 수박의 수확량 : \", function(10, 2))"
   ],
   "id": "3ff57dcb7304cd0c",
   "outputs": [
    {
     "name": "stdout",
     "output_type": "stream",
     "text": [
      "12\n",
      "옥수수와 수박의 수확량 :  None\n"
     ]
    }
   ],
   "execution_count": 7
  },
  {
   "metadata": {
    "ExecuteTime": {
     "end_time": "2024-10-18T02:32:53.681897Z",
     "start_time": "2024-10-18T02:32:53.662432Z"
    }
   },
   "cell_type": "code",
   "source": [
    "def 계산(가격, 개수):\n",
    "    return 가격 * 개수\n",
    "print(계산(1000, 5), \"원입니다.\")"
   ],
   "id": "b47713963dd40a7",
   "outputs": [
    {
     "name": "stdout",
     "output_type": "stream",
     "text": [
      "5000 원입니다.\n"
     ]
    }
   ],
   "execution_count": 9
  },
  {
   "metadata": {
    "ExecuteTime": {
     "end_time": "2024-10-18T02:35:09.351782Z",
     "start_time": "2024-10-18T02:35:09.342442Z"
    }
   },
   "cell_type": "code",
   "source": [
    "def 계산(a, b, c):\n",
    "    합계 = a * 1000 + b * 500 + c * 100\n",
    "    return 합계\n",
    "\n",
    "print(계산(5, 2, 3), \"원입니다.\")"
   ],
   "id": "630f2acc2eb4db2b",
   "outputs": [
    {
     "name": "stdout",
     "output_type": "stream",
     "text": [
      "6300 원입니다.\n"
     ]
    }
   ],
   "execution_count": 10
  },
  {
   "metadata": {
    "ExecuteTime": {
     "end_time": "2024-10-18T02:36:07.440457Z",
     "start_time": "2024-10-18T02:36:07.404142Z"
    }
   },
   "cell_type": "code",
   "source": [
    "a = 100\n",
    "def f():\n",
    "    global  a\n",
    "    a = a + 1\n",
    "    return a\n",
    "f()"
   ],
   "id": "cf3b0464bc6635a5",
   "outputs": [
    {
     "data": {
      "text/plain": [
       "101"
      ]
     },
     "execution_count": 12,
     "metadata": {},
     "output_type": "execute_result"
    }
   ],
   "execution_count": 12
  },
  {
   "metadata": {
    "ExecuteTime": {
     "end_time": "2024-10-18T02:39:46.308395Z",
     "start_time": "2024-10-18T02:39:46.289396Z"
    }
   },
   "cell_type": "code",
   "source": [
    "won = {\"A등급\" : 1000, \"B등급\" : 500, \"C등급\" : 100}\n",
    "\n",
    "def 계산(a, b, c):\n",
    "    합계 = won[\"A등급\"] * a + won[\"B등급\"] * b + won[\"C등급\"] * c\n",
    "    return 합계\n",
    "\n",
    "print(계산(5, 2, 3), \"원입니다.\")\n",
    "# dict 타입에 한에서만 전역변수를 함수에 바로 적용시킬 수 있다."
   ],
   "id": "c62d095a172049ba",
   "outputs": [
    {
     "name": "stdout",
     "output_type": "stream",
     "text": [
      "6300 원입니다.\n"
     ]
    }
   ],
   "execution_count": 14
  },
  {
   "metadata": {
    "ExecuteTime": {
     "end_time": "2024-10-18T02:43:12.263628Z",
     "start_time": "2024-10-18T02:43:12.257477Z"
    }
   },
   "cell_type": "code",
   "source": [
    "# 상수\n",
    "\n",
    "PI = 3.14\n",
    "def circle(r, inputpi):\n",
    "    Z = r * r * inputpi\n",
    "    return Z\n",
    "\n",
    "result = circle(10, PI)\n",
    "print(result)"
   ],
   "id": "bddc0e6ccb940a32",
   "outputs": [
    {
     "name": "stdout",
     "output_type": "stream",
     "text": [
      "314.0\n"
     ]
    }
   ],
   "execution_count": 16
  },
  {
   "metadata": {
    "ExecuteTime": {
     "end_time": "2024-10-18T02:50:34.826Z",
     "start_time": "2024-10-18T02:50:34.817749Z"
    }
   },
   "cell_type": "code",
   "source": [
    "A = 0\n",
    "B = 0\n",
    "C = 0\n",
    "유물 = 0\n",
    "\n",
    "def 감자():\n",
    "    global A\n",
    "    A += 1\n",
    "    \n",
    "def 양파():\n",
    "    global A, B, C\n",
    "    A += 3\n",
    "    B += 3\n",
    "    C += 4\n",
    "    \n",
    "def 옥수수():\n",
    "    global 유물\n",
    "    유물 += 1\n",
    "    \n",
    "감자()\n",
    "양파()\n",
    "옥수수()\n",
    "\n",
    "합계 = A + B + C + 유물\n",
    "print(\"오늘 수확한 수확물 : \", 합계)"
   ],
   "id": "1434d17e10733e26",
   "outputs": [
    {
     "name": "stdout",
     "output_type": "stream",
     "text": [
      "오늘 수확한 수확물 :  12\n"
     ]
    }
   ],
   "execution_count": 17
  },
  {
   "metadata": {},
   "cell_type": "markdown",
   "source": "#### 지역변수와 전역변수 공부",
   "id": "c637d6f4a1d5f787"
  },
  {
   "metadata": {},
   "cell_type": "markdown",
   "source": "def 함수이름1():코드 def 함수이름2():코드",
   "id": "e18155673e231ce2"
  },
  {
   "metadata": {
    "ExecuteTime": {
     "end_time": "2024-10-18T02:54:35.043390Z",
     "start_time": "2024-10-18T02:54:35.034484Z"
    }
   },
   "cell_type": "code",
   "source": [
    "def print_text():\n",
    "    text = \"콩콩팥팥 수확의 기쁨\"\n",
    "    def txt():\n",
    "        print(text)\n",
    "    txt()\n",
    "print_text()"
   ],
   "id": "dc2d59f511cb0ff1",
   "outputs": [
    {
     "name": "stdout",
     "output_type": "stream",
     "text": [
      "콩콩팥팥 수확의 기쁨\n"
     ]
    }
   ],
   "execution_count": 19
  },
  {
   "metadata": {
    "ExecuteTime": {
     "end_time": "2024-10-18T06:14:10.406512Z",
     "start_time": "2024-10-18T06:14:10.392245Z"
    }
   },
   "cell_type": "code",
   "source": [
    "def 수확철():\n",
    "    야채 = {\"A등급\": 0, \"B등급\": 0, \"C등급\": 0}\n",
    "    \n",
    "    def 양파():\n",
    "        야채[\"A등급\"] += 1\n",
    "    \n",
    "    def 대파():\n",
    "        야채[\"A등급\"] += 3\n",
    "        야채[\"B등급\"] += 3\n",
    "        야채[\"C등급\"] += 4\n",
    "    \n",
    "    def 쪽파():\n",
    "        야채[\"금\"] = 1\n",
    "    \n",
    "    양파()\n",
    "    대파()\n",
    "    쪽파()\n",
    "\n",
    "    return 야채\n",
    "\n",
    "수확철()\n",
    "# sum(수확철().values())"
   ],
   "id": "37b3cb28c84d3392",
   "outputs": [
    {
     "data": {
      "text/plain": [
       "{'A등급': 4, 'B등급': 3, 'C등급': 4, '금': 1}"
      ]
     },
     "execution_count": 24,
     "metadata": {},
     "output_type": "execute_result"
    }
   ],
   "execution_count": 24
  }
 ],
 "metadata": {
  "kernelspec": {
   "display_name": "Python 3",
   "language": "python",
   "name": "python3"
  },
  "language_info": {
   "codemirror_mode": {
    "name": "ipython",
    "version": 2
   },
   "file_extension": ".py",
   "mimetype": "text/x-python",
   "name": "python",
   "nbconvert_exporter": "python",
   "pygments_lexer": "ipython2",
   "version": "2.7.6"
  }
 },
 "nbformat": 4,
 "nbformat_minor": 5
}
