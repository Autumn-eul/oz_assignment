{
 "cells": [
  {
   "metadata": {},
   "cell_type": "markdown",
   "source": [
    "* dict (딕셔너리)\n",
    "        * list, tuple, str, range (범위 안에 연속된 데이터를 만드는 시퀀스) 의 공통적인 특징은 데이터의 연관성이 없다\n",
    "        * dict 는 여러개의 값이 일렬로 정렬되면서도 값끼리의 연관성이 존재\n",
    "        (예시 : 게임 캐릭터 힘: 30, 지능 : 20, 체력 : 40, 민첩 : 90)\n",
    "        * dict 생성방법은 중괄호"
   ],
   "id": "d2d89f9137187656"
  },
  {
   "cell_type": "code",
   "execution_count": null,
   "id": "initial_id",
   "metadata": {
    "collapsed": true
   },
   "outputs": [],
   "source": [
    "# list[], tuple(), dict{}\n",
    "\n",
    "짱짱맨 = {'힘':30, '지능':20, '체력':40, '민첩':90}\n",
    "print(짱짱맨)\n",
    "\n",
    "# {키 : 값}\n",
    "# {key1 : value, key2 : value}\n",
    "\n",
    "# 시퀀스 데이터는 인덱싱을 이용해 데이터를 찾았습니다.\n",
    "# dict() 값 넣는 기호 \"\" : 주의!\n",
    "짱짱맨['힘']\n",
    "print(f'짱짱맨님은 힘이 {짱짱맨[\"힘\"]}입니다.')"
   ]
  },
  {
   "metadata": {},
   "cell_type": "code",
   "outputs": [],
   "execution_count": null,
   "source": [
    "# 딕셔너리를 만드는 다양한 방법\n",
    "\n",
    "# 빈 딕셔너리 만들기\n",
    "딕셔너리 = {}\n",
    "print(딕셔너리)\n",
    "\n",
    "딕셔너리2 = dict()\n",
    "print(딕셔너리2)\n",
    "\n",
    "# 값을 넣어 만드는 방법\n",
    "딕셔너리3 = dict(힘=30, 지능=20, 체력=40, 민첩=90)\n",
    "print(딕셔너리3)\n",
    "\n",
    "# zip() : 병렬 처리를 도와줍니다.\n",
    "딕셔너리4 = dict(zip(['힘', '지능', '체력', '민첩'], [30, 20, 40, 90]))\n",
    "print(딕셔너리4)"
   ],
   "id": "f514fa1940832463"
  },
  {
   "metadata": {
    "ExecuteTime": {
     "end_time": "2024-10-17T18:01:45.092627Z",
     "start_time": "2024-10-17T18:01:45.080824Z"
    }
   },
   "cell_type": "code",
   "source": [
    "# 값의 중복은 허락되는데, 키의 중복은 허락하지 않습니다.\n",
    "\n",
    "짱짱맨 = {'힘':30, '지능':20, '체력':40, '힘':90, '지구력':90}\n",
    "print(짱짱맨)\n",
    "\n",
    "'체력' in 짱짱맨"
   ],
   "id": "12ad4dd9dccd04f8",
   "outputs": [
    {
     "name": "stdout",
     "output_type": "stream",
     "text": [
      "{'힘': 90, '지능': 20, '체력': 40, '지구력': 90}\n"
     ]
    },
    {
     "data": {
      "text/plain": [
       "True"
      ]
     },
     "execution_count": 1,
     "metadata": {},
     "output_type": "execute_result"
    }
   ],
   "execution_count": 1
  },
  {
   "metadata": {
    "ExecuteTime": {
     "end_time": "2024-10-17T18:02:30.823493Z",
     "start_time": "2024-10-17T18:02:30.815892Z"
    }
   },
   "cell_type": "code",
   "source": [
    "# 딕셔너리의 다양한 메소드\n",
    "\n",
    "print(짱짱맨.keys())\n",
    "print(짱짱맨.values())\n",
    "\n",
    "print(짱짱맨.items())\n",
    "print(type(짱짱맨.items()))\n",
    "\n",
    "리스트화된_짱짱맨 = list(짱짱맨.items())\n",
    "리스트화된_짱짱맨[0][1]"
   ],
   "id": "2dea127a4a04a32f",
   "outputs": [
    {
     "name": "stdout",
     "output_type": "stream",
     "text": [
      "dict_keys(['힘', '지능', '체력', '지구력'])\n",
      "dict_values([90, 20, 40, 90])\n",
      "dict_items([('힘', 90), ('지능', 20), ('체력', 40), ('지구력', 90)])\n",
      "<class 'dict_items'>\n"
     ]
    },
    {
     "data": {
      "text/plain": [
       "90"
      ]
     },
     "execution_count": 2,
     "metadata": {},
     "output_type": "execute_result"
    }
   ],
   "execution_count": 2
  },
  {
   "metadata": {},
   "cell_type": "code",
   "outputs": [],
   "execution_count": null,
   "source": [
    "# 딕셔너리 값 삭제\n",
    "del 짱짱맨['지구력']\n",
    "print(짱짱맨)"
   ],
   "id": "e3ffab96db8655ac"
  },
  {
   "metadata": {},
   "cell_type": "code",
   "outputs": [],
   "execution_count": null,
   "source": [
    "# 딕셔너리 값 변경\n",
    "짱짱맨['지능'] = 100\n",
    "print(짱짱맨)"
   ],
   "id": "26ee394b13a7b01e"
  },
  {
   "metadata": {},
   "cell_type": "code",
   "outputs": [],
   "execution_count": null,
   "source": [
    "# 딕셔너리 값 추가\n",
    "짱짱맨.update({'손재주':44, '매력':100})\n",
    "print(짱짱맨)"
   ],
   "id": "3453506c49e0e52f"
  },
  {
   "metadata": {},
   "cell_type": "code",
   "outputs": [],
   "execution_count": null,
   "source": [
    "코디 = {\n",
    "    '모자' : {\n",
    "        '캡' : '발렌시아',\n",
    "        '비니' : '셀린느'\n",
    "    },\n",
    "    '상의' : {\n",
    "        '후드티' : '칼하트',\n",
    "        '맨투맨' : '슈프림'\n",
    "    }\n",
    "}\n",
    "\n",
    "코디['모자']\n",
    "코디['모자']['캡']"
   ],
   "id": "4e0010d1662b38"
  },
  {
   "metadata": {},
   "cell_type": "markdown",
   "source": "* 해시, 해시맵, 해시테이블",
   "id": "65521e83d19dc08"
  }
 ],
 "metadata": {
  "kernelspec": {
   "display_name": "Python 3",
   "language": "python",
   "name": "python3"
  },
  "language_info": {
   "codemirror_mode": {
    "name": "ipython",
    "version": 2
   },
   "file_extension": ".py",
   "mimetype": "text/x-python",
   "name": "python",
   "nbconvert_exporter": "python",
   "pygments_lexer": "ipython2",
   "version": "2.7.6"
  }
 },
 "nbformat": 4,
 "nbformat_minor": 5
}
