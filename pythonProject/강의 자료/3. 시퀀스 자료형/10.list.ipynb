{
 "cells": [
  {
   "metadata": {},
   "cell_type": "markdown",
   "source": [
    "### list\n",
    "\n",
    "* list 란? 원소들이 연속적으로 저장되는 형태의 자료형을 말합니다.\n",
    "* 시퀀스 자료형!\n",
    "    * str , list, tuple, dict, set\n",
    "* 만드는 방법은 대괄호로 묶어주고, 값들은 콤마로 구분합니다."
   ],
   "id": "891217651f12815b"
  },
  {
   "cell_type": "code",
   "execution_count": null,
   "id": "initial_id",
   "metadata": {
    "collapsed": true
   },
   "outputs": [],
   "source": [
    "# 첫 리스트\n",
    "\n",
    "리스트 = []\n",
    "print(리스트)\n",
    "\n",
    "리스트 = [23, '이게 리스트다', 3.23, True, False]\n",
    "print(리스트)"
   ]
  },
  {
   "metadata": {},
   "cell_type": "code",
   "outputs": [],
   "execution_count": null,
   "source": [
    "리스트 = ['이', '렇', '게', '만', '들', '어', '요']\n",
    "print(리스트)\n",
    "\n",
    "리스트2 = list()\n",
    "리스트2\n",
    "\n",
    "# range? 연속된 숫자를 생산하는 기능\n",
    "range(10)\n",
    "\n",
    "# list(range(시작, 끝))\n",
    "리스트_매직_들어간다 = list(range(0, 20))\n",
    "print(리스트_매직_들어간다)"
   ],
   "id": "2362eef58e1ad4f3"
  },
  {
   "metadata": {},
   "cell_type": "code",
   "outputs": [],
   "execution_count": null,
   "source": [
    "# list(range(시작, 끝, 증가))\n",
    "리스트_매직2 = list(range(0, 20, 2))\n",
    "print(리스트_매직2)\n",
    "\n",
    "리스트_매직3 = list(range(20, 0, -1))\n",
    "print(리스트_매직3)\n",
    "\n",
    "리스트_매직4 = list(range(20, 0))\n",
    "print(리스트_매직4)"
   ],
   "id": "4aeb1c04698da573"
  },
  {
   "metadata": {},
   "cell_type": "code",
   "outputs": [],
   "execution_count": null,
   "source": [
    "# 끝나지 않는 리스트 매직\n",
    "# 리스트를 이용해 변수에 값 넣기\n",
    "\n",
    "a, b, c = ['들', '어', '가']\n",
    "print(a, b, c)\n",
    "\n",
    "d, e, f = [7, 7, 8]\n",
    "print(d, e, f)\n",
    "\n",
    "지갑 = [10000, 5000, 1000]\n",
    "만원, 오천원, 천원 = 지갑\n",
    "print(f'{만원} 2장, {오천원} 3장, {천원} 1장')"
   ],
   "id": "9f14d8905cf7475b"
  },
  {
   "metadata": {},
   "cell_type": "code",
   "outputs": [],
   "execution_count": null,
   "source": [
    "# 리스트 패킹, 리스트 언패킹\n",
    "input().split()"
   ],
   "id": "403d368e1763b871"
  },
  {
   "metadata": {},
   "cell_type": "code",
   "outputs": [],
   "execution_count": null,
   "source": [
    "# 슬라이싱\n",
    "\n",
    "로또 = [3, 5, 15, 33, 41, 44]\n",
    "\n",
    "# 로또 변수에 있는 리스트의 인덱스 1번부터 2번까지의 값을 출력하시오\n",
    "print(로또[1:3])\n",
    "\n",
    "# 로또 변수의 마지막 위치를 출력하시오\n",
    "print(로또[5])\n",
    "\n",
    "# 반대로 출력하시오\n",
    "print(로또[::-1])\n",
    "\n",
    "# 로또 리스트 안에 33이 있는지 확인하시오\n",
    "print( 33 in 로또 )\n",
    "\n",
    "# 로또 리스트를 로또2 리스트와 합쳐보시오\n",
    "로또2 = [2, 12, 15, 24, 33, 39]\n",
    "print(로또 + 로또2)\n",
    "\n",
    "# range 를 이용해서 1부터 10까지의 짝수만 들어있는 짝수 리스트를 만드시오\n",
    "짝수 = list(range(2, 11, 2))\n",
    "print(짝수)\n",
    "\n",
    "# 짝수 리스트에 들어있는 값을 2배 늘리고 다시 짝수 변수에 담으시오\n",
    "짝수 = 짝수 * 2\n",
    "print(짝수)\n",
    "\n",
    "# 짝수 리스트에 들어있는 요소의 개수를 구하시오\n",
    "print(len(짝수))\n",
    "\n",
    "# 짝수 리스트의 3번째 인덱스를 출력하시오\n",
    "print(짝수[3])\n",
    "\n",
    "# len() 함수를 이용하여 인덱스 마지막 값을 출력하시오\n",
    "print(짝수[len(짝수)-1])"
   ],
   "id": "b676072c1a670fe9"
  },
  {
   "metadata": {},
   "cell_type": "code",
   "outputs": [],
   "execution_count": null,
   "source": [
    "# list 값 넣고, 바꾸고, 지우고\n",
    "\n",
    "mzfood = ['숙주', '분모자', '마라', '소세지', '소고기', '옥수수면']\n",
    "\n",
    "# 값을 넣는 방법 2가지  1. append() : 마지막 요소에 값 넣기 2. insert() : 원하는 곳에 값 넣기\n",
    "mzfood.append('고수')\n",
    "print(mzfood)\n",
    "\n",
    "mzfood.insert(0, '탕후루')\n",
    "print(mzfood)\n",
    "\n",
    "# 값 지우기\n",
    "del mzfood[-1]\n",
    "print(mzfood)\n",
    "\n",
    "del mzfood[0]\n",
    "print(mzfood)\n",
    "\n",
    "# 값 바꾸기\n",
    "mzfood[-2] = '양고기'\n",
    "print(mzfood)\n",
    "\n",
    "# 문자열 시퀀스 아니냐 그럼 저거 다 될 듯\n",
    "인사 = '반가워'\n",
    "인사[2] = '웡'"
   ],
   "id": "98d8625f8d879a97"
  },
  {
   "metadata": {},
   "cell_type": "code",
   "outputs": [],
   "execution_count": null,
   "source": "print(dir(list))",
   "id": "4985efa6c0e98eb9"
  },
  {
   "metadata": {},
   "cell_type": "code",
   "outputs": [],
   "execution_count": null,
   "source": [
    "print(mzfood)\n",
    "\n",
    "mzfood.reverse()\n",
    "print(mzfood)\n",
    "\n",
    "mzfood.sort()\n",
    "print(mzfood)\n",
    "\n",
    "print(mzfood.reverse())\n",
    "print(mzfood.sort())"
   ],
   "id": "9deec0cf3698522a"
  },
  {
   "metadata": {},
   "cell_type": "code",
   "outputs": [],
   "execution_count": null,
   "source": [
    "# 리스트 까도까도 또 나오네?\n",
    "# 2차원 리스트에 대해서도 공부는 필수 !!\n",
    "\n",
    "양파같은 = [[2, 0], [3, 1]]\n",
    "print(양파같은)\n",
    "\n",
    "print(양파같은[0])\n",
    "print(양파같은[1])\n",
    "\n",
    "# 3을 출력해줘\n",
    "print(양파같은[1][0])\n",
    "\n",
    "양파같은.append([4, 1])\n",
    "print(양파같은)"
   ],
   "id": "2a3f555c0451f707"
  }
 ],
 "metadata": {
  "kernelspec": {
   "display_name": "Python 3",
   "language": "python",
   "name": "python3"
  },
  "language_info": {
   "codemirror_mode": {
    "name": "ipython",
    "version": 2
   },
   "file_extension": ".py",
   "mimetype": "text/x-python",
   "name": "python",
   "nbconvert_exporter": "python",
   "pygments_lexer": "ipython2",
   "version": "2.7.6"
  }
 },
 "nbformat": 4,
 "nbformat_minor": 5
}
