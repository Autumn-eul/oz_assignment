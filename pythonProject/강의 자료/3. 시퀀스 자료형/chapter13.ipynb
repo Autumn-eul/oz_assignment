{
 "cells": [
  {
   "metadata": {},
   "cell_type": "markdown",
   "source": [
    "* set\n",
    "        * set 은 수학적 집합을 의미합니다.\n",
    "        * 딕셔너리와 같은 순서가 없습니다.\n",
    "        * 값의 중복을 허락하지 않습니다. 매우 중요!\n",
    "        * set 생성 방법은 중괄호"
   ],
   "id": "14c68c16e18843ca"
  },
  {
   "metadata": {},
   "cell_type": "code",
   "outputs": [],
   "execution_count": null,
   "source": [
    "채소 = {'당근', '배추', '대파', '양파'}\n",
    "type(채소)\n",
    "print(채소)\n",
    "\n",
    "# 순서가 없고, 출력하면 요소가 다르게 나오는 것이 특징입니다.\n",
    "\n",
    "# set 를 만드는 다양한 방법\n",
    "세트 = set()\n",
    "세트2 = {}\n",
    "\n",
    "print(세트)\n",
    "print(세트2)"
   ],
   "id": "7c23f96d763214d9"
  },
  {
   "metadata": {},
   "cell_type": "code",
   "outputs": [],
   "execution_count": null,
   "source": [
    "# 중복을 제일 싫어하는 set\n",
    "\n",
    "사과_리스트 = list('apple')\n",
    "print(사과_리스트)\n",
    "사과_튜플 = tuple('apple')\n",
    "print(사과_튜플)\n",
    "사과_set = set('apple')\n",
    "print(사과_set)"
   ],
   "id": "29b8046f55684907"
  },
  {
   "metadata": {},
   "cell_type": "code",
   "outputs": [],
   "execution_count": null,
   "source": [
    "# set() 자료형의 데이터 삽입\n",
    "채소.add('토마토')\n",
    "print(채소)\n",
    "\n",
    "채소.update('깻잎')\n",
    "print(채소)"
   ],
   "id": "61e9d57c0be4f9ee"
  },
  {
   "metadata": {},
   "cell_type": "code",
   "outputs": [],
   "execution_count": null,
   "source": [
    "# set()  데이터 삭제\n",
    "채소.remove('잎') # 없는걸 삭제하면 오류 발생\n",
    "print(채소)\n",
    "\n",
    "채소.discard('깻') # 없어도 상관없어서 오류 발생 안함\n",
    "print(채소)\n",
    "\n",
    "채소.pop()\n",
    "print(채소)"
   ],
   "id": "84b3879b0ef66560"
  },
  {
   "metadata": {},
   "cell_type": "code",
   "outputs": [],
   "execution_count": null,
   "source": [
    "채소 = {'당근', '배추', '대파', '양파'}\n",
    "반환된_채소 = 채소.pop()\n",
    "print(f'{반환된_채소}는 내다버린 채소입니다.')"
   ],
   "id": "2cdc0ac288f69b75"
  },
  {
   "metadata": {},
   "cell_type": "code",
   "outputs": [],
   "execution_count": null,
   "source": [
    "# set = 집합 (합집합, 교집합, 차집합) 등등\n",
    "# 대표적으로 합집합, 교집합, 차지함\n",
    "\n",
    "채소1 = {'당근', '양파', '오이', '배추'}\n",
    "채소2 = {'양파', '오이', '대파', '가지'}\n",
    "\n",
    "# 합집합(union)\n",
    "채소1 | 채소2\n",
    "set.union(채소1, 채소2)\n",
    "\n",
    "# 교집합(intersection)\n",
    "채소1 & 채소2\n",
    "set.intersection(채소1, 채소2)\n",
    "\n",
    "# 차집합(differnce)\n",
    "채소1 - 채소2\n",
    "set.difference(채소1, 채소2)"
   ],
   "id": "5a93f916e838f82e"
  }
 ],
 "metadata": {
  "kernelspec": {
   "display_name": "Python 3",
   "language": "python",
   "name": "python3"
  },
  "language_info": {
   "codemirror_mode": {
    "name": "ipython",
    "version": 2
   },
   "file_extension": ".py",
   "mimetype": "text/x-python",
   "name": "python",
   "nbconvert_exporter": "python",
   "pygments_lexer": "ipython2",
   "version": "2.7.6"
  }
 },
 "nbformat": 4,
 "nbformat_minor": 5
}
