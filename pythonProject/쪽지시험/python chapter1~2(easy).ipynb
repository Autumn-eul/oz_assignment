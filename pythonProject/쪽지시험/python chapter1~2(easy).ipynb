{
 "cells": [
  {
   "metadata": {},
   "cell_type": "markdown",
   "source": "# 파이썬 1~2일차 쪽지시험",
   "id": "5ce5aa2babe14282"
  },
  {
   "metadata": {},
   "cell_type": "markdown",
   "source": [
    "## 문제 1\n",
    "### 오즈코딩스쿨에서 코딩을 처음 시작한 박상훈!\n",
    "### 박상훈에게는 덩치, 애기라는 도마뱀이 있습니다.\n",
    "### 도마뱀의 나이는 각각 1살 2살 입니다.\n",
    "### 각 도마뱀의 이름으로 변수를 선언하고 각 도마뱀의 나이를 할당해주세요!!"
   ],
   "id": "136e2d85abe685b9"
  },
  {
   "metadata": {
    "ExecuteTime": {
     "end_time": "2024-10-17T13:55:19.778600Z",
     "start_time": "2024-10-17T13:55:19.775482Z"
    }
   },
   "cell_type": "code",
   "source": "덩치, 애기 = 1, 2",
   "id": "8e5a1ab9c30b38a7",
   "outputs": [],
   "execution_count": 151
  },
  {
   "metadata": {},
   "cell_type": "markdown",
   "source": [
    "## 문제 2\n",
    "### 박상훈의 `도마뱀 변수`들을 사용하여 `도마뱀 리스트`를 만들어 주세요!"
   ],
   "id": "6405061ec8e54ca0"
  },
  {
   "metadata": {
    "ExecuteTime": {
     "end_time": "2024-10-17T13:49:49.629614Z",
     "start_time": "2024-10-17T13:49:49.625854Z"
    }
   },
   "cell_type": "code",
   "source": [
    "도마뱀_리스트 = [('덩치', 덩치), ('애기', 애기)]\n",
    "print(도마뱀_리스트)"
   ],
   "id": "56d98b86b2f04343",
   "outputs": [
    {
     "name": "stdout",
     "output_type": "stream",
     "text": [
      "[('덩치', 1), ('애기', 2)]\n"
     ]
    }
   ],
   "execution_count": 140
  },
  {
   "metadata": {},
   "cell_type": "markdown",
   "source": [
    "## 문제 3\n",
    "### 박상훈이 도마뱀을 새로 샀어요!\n",
    "### 도마뱀의 이름은 마고, 나이는 2살이에요!\n",
    "### `도마뱀 리스트`에 가장 끝에 추가해주세요!!"
   ],
   "id": "454fe842db180fc"
  },
  {
   "metadata": {
    "ExecuteTime": {
     "end_time": "2024-10-17T13:49:51.952589Z",
     "start_time": "2024-10-17T13:49:51.948628Z"
    }
   },
   "cell_type": "code",
   "source": [
    "마고 = 2\n",
    "도마뱀_리스트.append(('마고', 마고))\n",
    "print(도마뱀_리스트)"
   ],
   "id": "3ec1ef1be2927b78",
   "outputs": [
    {
     "name": "stdout",
     "output_type": "stream",
     "text": [
      "[('덩치', 1), ('애기', 2), ('마고', 2)]\n"
     ]
    }
   ],
   "execution_count": 141
  },
  {
   "metadata": {},
   "cell_type": "markdown",
   "source": "",
   "id": "9d23b532b36070ff"
  },
  {
   "metadata": {},
   "cell_type": "markdown",
   "source": [
    "## 문제 4\n",
    "### 박상훈의 도마뱀들의 나이를 더해 주세요!!"
   ],
   "id": "20ccbdf20f857d13"
  },
  {
   "metadata": {
    "ExecuteTime": {
     "end_time": "2024-10-17T13:49:54.109877Z",
     "start_time": "2024-10-17T13:49:54.106293Z"
    }
   },
   "cell_type": "code",
   "source": [
    "나이합 = 덩치 + 애기 + 마고\n",
    "print(f'도마뱀들의 나이의 합은 {나이합}살입니다.')"
   ],
   "id": "3ebc179d264d3866",
   "outputs": [
    {
     "name": "stdout",
     "output_type": "stream",
     "text": [
      "도마뱀들의 나이의 합은 5살입니다.\n"
     ]
    }
   ],
   "execution_count": 142
  },
  {
   "metadata": {},
   "cell_type": "markdown",
   "source": [
    "## 문제 5\n",
    "### 박상훈의 `도마뱀 리스트`를 사용하여 \"사육장\"이라는 딕셔너리를 만들어주세요!"
   ],
   "id": "eea768f4f558a28a"
  },
  {
   "metadata": {
    "ExecuteTime": {
     "end_time": "2024-10-17T13:49:58.323747Z",
     "start_time": "2024-10-17T13:49:58.319389Z"
    }
   },
   "cell_type": "code",
   "source": [
    "사육장 = dict(도마뱀_리스트)\n",
    "print(사육장)"
   ],
   "id": "49874bd7d6ee7c2d",
   "outputs": [
    {
     "name": "stdout",
     "output_type": "stream",
     "text": [
      "{'덩치': 1, '애기': 2, '마고': 2}\n"
     ]
    }
   ],
   "execution_count": 143
  },
  {
   "metadata": {},
   "cell_type": "markdown",
   "source": [
    "## 문제 6\n",
    "### 사육장 딕셔너리를 `key, value` 형태로 출력해주세요!"
   ],
   "id": "a7b973b398f00642"
  },
  {
   "metadata": {
    "ExecuteTime": {
     "end_time": "2024-10-17T13:50:01.624905Z",
     "start_time": "2024-10-17T13:50:01.621152Z"
    }
   },
   "cell_type": "code",
   "source": [
    "print(사육장.keys())\n",
    "print(사육장.values())"
   ],
   "id": "94544cb2f847228f",
   "outputs": [
    {
     "name": "stdout",
     "output_type": "stream",
     "text": [
      "dict_keys(['덩치', '애기', '마고'])\n",
      "dict_values([1, 2, 2])\n"
     ]
    }
   ],
   "execution_count": 144
  },
  {
   "metadata": {},
   "cell_type": "markdown",
   "source": "",
   "id": "fec443543704aada"
  },
  {
   "metadata": {},
   "cell_type": "markdown",
   "source": [
    "## 문제 7\n",
    "### 도마뱀들의 나이를 `실수형태`로 출력해주세요!"
   ],
   "id": "a9aa1a28e60e6bf8"
  },
  {
   "metadata": {
    "ExecuteTime": {
     "end_time": "2024-10-17T13:50:05.133516Z",
     "start_time": "2024-10-17T13:50:05.129265Z"
    }
   },
   "cell_type": "code",
   "source": "print(f'덩치 : {float(덩치)}살, 애기 : {float(애기)}살, 마고 : {float(마고)}살')",
   "id": "2183407c40686977",
   "outputs": [
    {
     "name": "stdout",
     "output_type": "stream",
     "text": [
      "덩치 : 1.0살, 애기 : 2.0살, 마고 : 2.0살\n"
     ]
    }
   ],
   "execution_count": 145
  },
  {
   "metadata": {},
   "cell_type": "markdown",
   "source": [
    "## 문제 8\n",
    "### 1년이 지났습니다.\n",
    "### 도마뱀들이 1살씩 나이를 먹었어요\n",
    "### 도마뱀들의 나이를 바꿔주세요!"
   ],
   "id": "43428aabdee55513"
  },
  {
   "metadata": {
    "ExecuteTime": {
     "end_time": "2024-10-17T13:51:15.068002Z",
     "start_time": "2024-10-17T13:51:15.063780Z"
    }
   },
   "cell_type": "code",
   "source": [
    "덩치 += 1\n",
    "애기 += 1\n",
    "마고 += 1\n",
    "사육장[\"덩치\"] = 덩치\n",
    "사육장[\"애기\"] = 애기\n",
    "사육장[\"마고\"] = 마고"
   ],
   "id": "59cda62e8780ca09",
   "outputs": [],
   "execution_count": 149
  },
  {
   "metadata": {},
   "cell_type": "markdown",
   "source": [
    "## 문제 9\n",
    "### n년이 지났을 때 도마뱀의 나이가 알고 싶어 졌어요!!\n",
    "### `input` 을 이용해서 n년차 도마뱀들의 나이를 출력해주세요!"
   ],
   "id": "ed5d1e1503e37223"
  },
  {
   "metadata": {
    "ExecuteTime": {
     "end_time": "2024-10-17T13:51:19.748019Z",
     "start_time": "2024-10-17T13:51:17.973726Z"
    }
   },
   "cell_type": "code",
   "source": [
    "n년 = int(input('몇 년이 지났나요?'))\n",
    "덩치 += n년\n",
    "애기 += n년\n",
    "마고 += n년\n",
    "print(f'덩치 : {덩치}살, 애기 : {애기}살, 마고 : {마고}살')"
   ],
   "id": "7a8db95dd6192d42",
   "outputs": [
    {
     "name": "stdout",
     "output_type": "stream",
     "text": [
      "덩치 : 9살, 애기 : 10살, 마고 : 10살\n"
     ]
    }
   ],
   "execution_count": 150
  },
  {
   "metadata": {},
   "cell_type": "markdown",
   "source": [
    "## 문제 10\n",
    "### 5년이 지났습니다\n",
    "### 우리 도마뱀들이 너무 커서 사육장을 분리해야해요!\n",
    "### 딕셔너리로 나누었던 것을 사육장1, 2, 3 `리스트`로 변경하고\n",
    "### 각 도마뱀들을 넣어주세요!"
   ],
   "id": "3e3fd38bd44d9b2e"
  },
  {
   "metadata": {
    "ExecuteTime": {
     "end_time": "2024-10-17T13:50:22.697016Z",
     "start_time": "2024-10-17T13:50:22.691989Z"
    }
   },
   "cell_type": "code",
   "source": [
    "사육장[\"덩치\"] = 덩치 + 5\n",
    "사육장[\"애기\"] = 애기 + 5\n",
    "사육장[\"마고\"] = 마고 + 5\n",
    "사육장_리스트 = list(사육장.items())\n",
    "사육장1 = 사육장_리스트[0]\n",
    "사육장2 = 사육장_리스트[1]\n",
    "사육장3 = 사육장_리스트[2]\n",
    "print(f'사육장1 : {사육장1}, 사육장2 : {사육장2}, 사육장3 : {사육장3}')"
   ],
   "id": "95ad0c7878164214",
   "outputs": [
    {
     "name": "stdout",
     "output_type": "stream",
     "text": [
      "사육장1 : ('덩치', 1), 사육장2 : ('애기', 2), 사육장3 : ('마고', 2)\n"
     ]
    }
   ],
   "execution_count": 148
  },
  {
   "metadata": {},
   "cell_type": "markdown",
   "source": "",
   "id": "e9add10bf3ea4774"
  }
 ],
 "metadata": {
  "kernelspec": {
   "display_name": "Python 3",
   "language": "python",
   "name": "python3"
  },
  "language_info": {
   "codemirror_mode": {
    "name": "ipython",
    "version": 2
   },
   "file_extension": ".py",
   "mimetype": "text/x-python",
   "name": "python",
   "nbconvert_exporter": "python",
   "pygments_lexer": "ipython2",
   "version": "2.7.6"
  }
 },
 "nbformat": 4,
 "nbformat_minor": 5
}
