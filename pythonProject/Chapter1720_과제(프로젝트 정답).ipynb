{
 "cells": [
  {
   "cell_type": "markdown",
   "metadata": {
    "id": "aLkxKxnFLowa"
   },
   "source": [
    "안녕하세요. 수강생 여러분~! Chapter17 ~ 20 수업은 잘 들으셨나요?\n",
    "\n",
    "Chapter17 ~ 20의 수업 내용을 바탕으로 아래 문제를 풀어주시면 됩니다.\n",
    "\n",
    "[**답변 입력 방법**]\n",
    "\n",
    "문제 아래에 있는 코드 입력창에 정답코드를 작성하신 후 ▷ 버튼을 클릭해 코드를 실행해보세요<br>"
   ]
  },
  {
   "cell_type": "markdown",
   "metadata": {},
   "source": [
    "#### 리팩토링 과제\n",
    "\n",
    "Day4에서 만든 \"붕어빵 자동 판매 시스템\"은 절차적 코드로 구현되어있습니다.\n",
    "\n",
    "Day5에서 배운 함수, 클래스 개념을 적용시켜 객체지향적으로 리팩토링을 진행해주세요\n"
   ]
  },
  {
   "cell_type": "code",
   "execution_count": null,
   "metadata": {},
   "outputs": [],
   "source": [
    "# 리팩토링 과제 힌트\n",
    "# 구조는 아래와 같습니다.\n",
    "class BungeoppangShop:\n",
    "    def __init__(self):\n",
    "\n",
    "    def check_stock(self):\n",
    "\n",
    "    def process_order(self, bread_type, bread_count):\n",
    "\n",
    "    def admin_mode(self):\n",
    "\n",
    "    def calculate_total_sales(self):\n",
    "\n",
    "def main():\n",
    "\n",
    "if __name__ == \"__main__\":\n",
    "    main()\n"
   ]
  },
  {
   "cell_type": "markdown",
   "metadata": {},
   "source": [
    "과제_1: BungeoppangShop 클래스 만들기\n",
    "\n",
    "- __init__: 초기 재고, 가격, 판매량을 설정합니다.\n",
    "- check_stock: 현재 재고를 출력합니다.\n",
    "- process_order: 주문을 처리하고 재고를 업데이트합니다.\n",
    "- admin_mode: 관리자 모드에서 재고를 추가합니다.\n",
    "- calculate_total_sales: 총 매출을 계산하고 출력합니다."
   ]
  },
  {
   "cell_type": "code",
   "execution_count": null,
   "metadata": {},
   "outputs": [],
   "source": [
    "class BungeoppangShop:\n",
    "    def __init__(self):\n",
    "       \n",
    "    def check_stock(self):\n",
    "        # 현재 붕어빵 재고 출력\n",
    "\n",
    "    def process_order(self, bread_type, bread_count):\n",
    "        # 주문 처리 및 재고 업데이트\n",
    "\n",
    "    def admin_mode(self):\n",
    "        # 관리자 모드에서 재고 추가\n",
    "\n",
    "    def calculate_total_sales(self):\n",
    "        # 총 매출 계산 및 출력"
   ]
  },
  {
   "cell_type": "markdown",
   "metadata": {},
   "source": [
    "[과제 2: 초기화 메서드 __init__]\n",
    "\n",
    "목표: __init__ 메서드를 구현하여 붕어빵 가게의 초기 재고, 가격, 판매량을 설정합니다.\n",
    "\n",
    "설명: self.stock, self.prices, self.sales 딕셔너리를 초기화하세요.\n",
    "- stock \n",
    "    - \"팥붕어빵\": 10\n",
    "    - \"슈크림붕어빵\": 8\n",
    "    - \"초코붕어빵\": 5\n",
    "\n",
    "- prices\n",
    "    - \"팥붕어빵\": 1000\n",
    "    - \"슈크림붕어빵\": 1200\n",
    "    - \"초코붕어빵\": 1500\n",
    "\n",
    "- sales\n",
    "    - \"팥붕어빵\": 0,\n",
    "    - \"슈크림붕어빵\": 0,\n",
    "    - \"초코붕어빵\": 0"
   ]
  },
  {
   "cell_type": "code",
   "execution_count": null,
   "metadata": {},
   "outputs": [],
   "source": [
    "def __init__(self):\n",
    "    self.stock = {\n",
    "        \"팥붕어빵\": 10,\n",
    "        \"슈크림붕어빵\": 8,\n",
    "        \"초코붕어빵\": 5\n",
    "    }\n",
    "    self.prices = {\n",
    "        \"팥붕어빵\": 1000,\n",
    "        \"슈크림붕어빵\": 1200,\n",
    "        \"초코붕어빵\": 1500\n",
    "    }\n",
    "    self.sales = {\n",
    "        \"팥붕어빵\": 0,\n",
    "        \"슈크림붕어빵\": 0,\n",
    "        \"초코붕어빵\": 0\n",
    "    }"
   ]
  },
  {
   "cell_type": "markdown",
   "metadata": {},
   "source": [
    "[과제 3: 재고 확인 메서드 check_stock]\n",
    "\n",
    "목표: check_stock 함수를 구현하여 현재 붕어빵 재고를 출력합니다.\n",
    "\n",
    "설명: self.stock 딕셔너리를 순회하며 각 붕어빵의 종류와 재고를 출력하세요.\n"
   ]
  },
  {
   "cell_type": "code",
   "execution_count": null,
   "metadata": {},
   "outputs": [],
   "source": [
    "def check_stock(self):\n",
    "    print(\"현재 붕어빵 재고:\")\n",
    "    for bread, quantity in self.stock.items():\n",
    "        print(f\"{bread}: {quantity}개\")"
   ]
  },
  {
   "cell_type": "markdown",
   "metadata": {},
   "source": [
    "[과제 4: 주문 처리 메서드 process_order]\n",
    "\n",
    "목표: process_order 함수를 구현하여 손님의 주문을 처리하고 재고를 업데이트합니다.\n",
    "\n",
    "설명: bread_type과 bread_count를 매개변수로 받아, 재고를 확인하고 충분한 경우 재고를 감소시키고 판매량을 증가시킵니다. 재고가 부족하거나 잘못된 붕어빵 종류인 경우 적절한 메시지를 출력하세요."
   ]
  },
  {
   "cell_type": "code",
   "execution_count": 2,
   "metadata": {},
   "outputs": [],
   "source": [
    "def process_order(self, bread_type, bread_count):\n",
    "    try:\n",
    "        if self.stock[bread_type] >= bread_count:\n",
    "            self.stock[bread_type] -= bread_count\n",
    "            self.sales[bread_type] += bread_count\n",
    "            print(f\"{bread_type} {bread_count}개를 판매했습니다.\")\n",
    "        else:\n",
    "            print(f\"죄송합니다. {bread_type} 재고가 부족합니다.\")\n",
    "    except KeyError:\n",
    "        print(\"존재하지 않는 붕어빵 종류입니다.\")"
   ]
  },
  {
   "cell_type": "markdown",
   "metadata": {},
   "source": [
    "[과제 5: 관리자 모드 메서드 admin_mode]\n",
    "\n",
    "목표: admin_mode 메서드를 구현하여 관리자 모드에서 재고를 추가할 수 있도록 합니다.\n",
    "\n",
    "설명: bread_type과 additional_stock을 입력받아 재고를 추가합니다. 잘못된 입력 값이 들어온 경우 적절한 메시지를 출력하세요."
   ]
  },
  {
   "cell_type": "code",
   "execution_count": 3,
   "metadata": {},
   "outputs": [],
   "source": [
    "def admin_mode(self):\n",
    "    while True:\n",
    "        bread_type = input(\"추가할 붕어빵 종류를 입력하세요 (팥붕어빵, 슈크림붕어빵, 초코붕어빵). 종료를 원하시면 '종료'를 입력하세요: \")\n",
    "        if bread_type == \"종료\":\n",
    "            break\n",
    "        try:\n",
    "            additional_stock = int(input(f\"{bread_type}의 추가할 개수를 입력하세요: \"))\n",
    "            self.stock[bread_type] += additional_stock\n",
    "            print(f\"{bread_type}의 재고가 {additional_stock}개 추가되었습니다.\")\n",
    "            self.check_stock()\n",
    "        except ValueError:\n",
    "            print(\"잘못된 입력입니다. 숫자를 입력해주세요.\")\n",
    "        except KeyError:\n",
    "            print(\"존재하지 않는 붕어빵 종류입니다.\")"
   ]
  },
  {
   "cell_type": "markdown",
   "metadata": {},
   "source": [
    "\n",
    "[과제 6: 매출 계산 메서드 calculate_total_sales]\n",
    "\n",
    "목표: calculate_total_sales 메서드를 구현하여 총 매출을 계산하고 출력합니다.\n",
    "\n",
    "설명: self.sales와 self.prices를 사용하여 총 매출을 계산하고 출력하세요."
   ]
  },
  {
   "cell_type": "code",
   "execution_count": null,
   "metadata": {},
   "outputs": [],
   "source": [
    "def calculate_total_sales(self):\n",
    "    total_sales = sum(self.sales[bread] * self.prices[bread] for bread in self.sales)\n",
    "    print(f\"총 매출: {total_sales}원\")\n",
    "    print(\"모든 거래 내역:\")\n",
    "    for bread in self.sales:\n",
    "        print(f\"{bread} 판매: {self.sales[bread]}개, 매출: {self.sales[bread] * self.prices[bread]}원\")"
   ]
  },
  {
   "cell_type": "markdown",
   "metadata": {},
   "source": [
    "[과제 8: 메인 함수 main]\n",
    "\n",
    "목표: main 함수를 작성하여 프로그램의 주요 로직을 실행합니다.\n",
    "\n",
    "설명:\n",
    "- BungeoppangShop 객체를 생성합니다.\n",
    "- 사용자에게 모드를 선택하도록 요청합니다.\n",
    "- \"주문\" 모드에서는 손님의 주문을 처리하고, \"관리자\" 모드에서는 재고를 추가할 수 있습니다.\n",
    "- 프로그램이 종료될 때 총 매출을 계산하고 데이터를 저장합니다.\n"
   ]
  },
  {
   "cell_type": "code",
   "execution_count": null,
   "metadata": {},
   "outputs": [],
   "source": [
    "def main():\n",
    "    shop = BungeoppangShop()\n",
    "\n",
    "    while True:\n",
    "        mode = input(\"원하는 모드를 선택하세요 (주문, 관리자, 종료): \")\n",
    "        \n",
    "        if mode == \"종료\":\n",
    "            break\n",
    "        \n",
    "        if mode == \"관리자\":\n",
    "            shop.admin_mode()\n",
    "            continue\n",
    "        \n",
    "        if mode == \"주문\":\n",
    "            while True:\n",
    "                bread_type = input(\"주문할 붕어빵 종류를 입력하세요 (팥붕어빵, 슈크림붕어빵, 초코붕어빵). 종료를 원하시면 '종료'를 입력하세요: \")\n",
    "                if bread_type == \"종료\":\n",
    "                    break\n",
    "                try:\n",
    "                    bread_count = int(input(\"주문할 붕어빵 개수를 입력하세요: \"))\n",
    "                    shop.process_order(bread_type, bread_count)\n",
    "                except ValueError:\n",
    "                    print(\"잘못된 입력입니다. 숫자를 입력해주세요.\")\n",
    "                \n",
    "                shop.check_stock()\n",
    "\n",
    "    shop.calculate_total_sales()\n",
    "\n",
    "if __name__ == \"__main__\":\n",
    "    main()"
   ]
  },
  {
   "cell_type": "code",
   "metadata": {
    "ExecuteTime": {
     "end_time": "2024-10-19T12:33:47.937518Z",
     "start_time": "2024-10-19T12:33:45.805307Z"
    }
   },
   "source": [
    "class BungeoppangShop:\n",
    "    def __init__(self):\n",
    "        self.stock = {\n",
    "            \"팥붕어빵\": 10,\n",
    "            \"슈크림붕어빵\": 8,\n",
    "            \"초코붕어빵\": 5\n",
    "        }\n",
    "        self.prices = {\n",
    "            \"팥붕어빵\": 1000,\n",
    "            \"슈크림붕어빵\": 1200,\n",
    "            \"초코붕어빵\": 1500\n",
    "        }\n",
    "        self.sales = {\n",
    "            \"팥붕어빵\": 0,\n",
    "            \"슈크림붕어빵\": 0,\n",
    "            \"초코붕어빵\": 0\n",
    "        }\n",
    "\n",
    "    def check_stock(self):\n",
    "        print(\"현재 붕어빵 재고:\")\n",
    "        for bread, quantity in self.stock.items():\n",
    "            print(f\"{bread}: {quantity}개\")\n",
    "        print('----------------------------------')\n",
    "\n",
    "    def process_order(self, bread_type, bread_count):\n",
    "        try:\n",
    "            if self.stock[bread_type] >= bread_count:\n",
    "                self.stock[bread_type] -= bread_count\n",
    "                self.sales[bread_type] += bread_count\n",
    "                print(f\"{bread_type} {bread_count}개를 판매했습니다.\")\n",
    "                print('----------------------------------')\n",
    "            else:\n",
    "                print(f\"죄송합니다. {bread_type} 재고가 부족합니다.\")\n",
    "                print('----------------------------------')\n",
    "        except KeyError:\n",
    "            print(\"존재하지 않는 붕어빵 종류입니다.\")\n",
    "            print('----------------------------------')\n",
    "\n",
    "    def admin_mode(self):\n",
    "        while True:\n",
    "            bread_type = input(\"추가할 붕어빵 종류를 입력하세요 (팥붕어빵, 슈크림붕어빵, 초코붕어빵). 종료를 원하시면 '종료'를 입력하세요: \")\n",
    "            if bread_type == \"종료\":\n",
    "                break\n",
    "            try:\n",
    "                additional_stock = int(input(f\"{bread_type}의 추가할 개수를 입력하세요: \"))\n",
    "                self.stock[bread_type] += additional_stock\n",
    "                print(f\"{bread_type}의 재고가 {additional_stock}개 추가되었습니다.\")\n",
    "                self.check_stock()\n",
    "                print('----------------------------------')\n",
    "            except ValueError:\n",
    "                print(\"잘못된 입력입니다. 숫자를 입력해주세요.\")\n",
    "            except KeyError:\n",
    "                print(\"존재하지 않는 붕어빵 종류입니다.\")\n",
    "    \n",
    "\n",
    "    def calculate_total_sales(self):\n",
    "        total_sales = sum(self.sales[bread] * self.prices[bread] for bread in self.sales)\n",
    "        print(f\"총 매출: {total_sales}원\")\n",
    "        print(\"모든 거래 내역:\")\n",
    "        for bread in self.sales:\n",
    "            print(f\"{bread} 판매: {self.sales[bread]}개, 매출: {self.sales[bread] * self.prices[bread]}원\")\n",
    "\n",
    "def main():\n",
    "    shop = BungeoppangShop()\n",
    "    while True:\n",
    "        mode = input(\"원하는 모드를 선택하세요 (주문, 관리자, 종료): \")\n",
    "        \n",
    "        if mode == \"종료\":\n",
    "            break\n",
    "        \n",
    "        if mode == \"관리자\":\n",
    "            shop.admin_mode()\n",
    "            continue\n",
    "        \n",
    "        if mode == \"주문\":\n",
    "            while True:\n",
    "                bread_type = input(\"주문할 붕어빵 종류를 입력하세요 (팥붕어빵, 슈크림붕어빵, 초코붕어빵). 종료를 원하시면 '종료'를 입력하세요: \")\n",
    "                if bread_type == \"종료\":\n",
    "                    break\n",
    "                try:\n",
    "                    bread_count = int(input(\"주문할 붕어빵 개수를 입력하세요: \"))\n",
    "                    shop.process_order(bread_type, bread_count)\n",
    "                except ValueError:\n",
    "                    print(\"잘못된 입력입니다. 숫자를 입력해주세요.\")\n",
    "                \n",
    "                shop.check_stock()\n",
    "\n",
    "    shop.calculate_total_sales()\n",
    "\n",
    "if __name__ == \"__main__\":\n",
    "    main()\n"
   ],
   "outputs": [
    {
     "ename": "KeyboardInterrupt",
     "evalue": "Interrupted by user",
     "output_type": "error",
     "traceback": [
      "\u001B[0;31m---------------------------------------------------------------------------\u001B[0m",
      "\u001B[0;31mKeyboardInterrupt\u001B[0m                         Traceback (most recent call last)",
      "Cell \u001B[0;32mIn[1], line 91\u001B[0m\n\u001B[1;32m     88\u001B[0m     shop\u001B[38;5;241m.\u001B[39mcalculate_total_sales()\n\u001B[1;32m     90\u001B[0m \u001B[38;5;28;01mif\u001B[39;00m \u001B[38;5;18m__name__\u001B[39m \u001B[38;5;241m==\u001B[39m \u001B[38;5;124m\"\u001B[39m\u001B[38;5;124m__main__\u001B[39m\u001B[38;5;124m\"\u001B[39m:\n\u001B[0;32m---> 91\u001B[0m     \u001B[43mmain\u001B[49m\u001B[43m(\u001B[49m\u001B[43m)\u001B[49m\n",
      "Cell \u001B[0;32mIn[1], line 66\u001B[0m, in \u001B[0;36mmain\u001B[0;34m()\u001B[0m\n\u001B[1;32m     64\u001B[0m shop \u001B[38;5;241m=\u001B[39m BungeoppangShop()\n\u001B[1;32m     65\u001B[0m \u001B[38;5;28;01mwhile\u001B[39;00m \u001B[38;5;28;01mTrue\u001B[39;00m:\n\u001B[0;32m---> 66\u001B[0m     mode \u001B[38;5;241m=\u001B[39m \u001B[38;5;28;43minput\u001B[39;49m\u001B[43m(\u001B[49m\u001B[38;5;124;43m\"\u001B[39;49m\u001B[38;5;124;43m원하는 모드를 선택하세요 (주문, 관리자, 종료): \u001B[39;49m\u001B[38;5;124;43m\"\u001B[39;49m\u001B[43m)\u001B[49m\n\u001B[1;32m     68\u001B[0m     \u001B[38;5;28;01mif\u001B[39;00m mode \u001B[38;5;241m==\u001B[39m \u001B[38;5;124m\"\u001B[39m\u001B[38;5;124m종료\u001B[39m\u001B[38;5;124m\"\u001B[39m:\n\u001B[1;32m     69\u001B[0m         \u001B[38;5;28;01mbreak\u001B[39;00m\n",
      "File \u001B[0;32m~/Library/Python/3.9/lib/python/site-packages/ipykernel/kernelbase.py:1282\u001B[0m, in \u001B[0;36mKernel.raw_input\u001B[0;34m(self, prompt)\u001B[0m\n\u001B[1;32m   1280\u001B[0m     msg \u001B[38;5;241m=\u001B[39m \u001B[38;5;124m\"\u001B[39m\u001B[38;5;124mraw_input was called, but this frontend does not support input requests.\u001B[39m\u001B[38;5;124m\"\u001B[39m\n\u001B[1;32m   1281\u001B[0m     \u001B[38;5;28;01mraise\u001B[39;00m StdinNotImplementedError(msg)\n\u001B[0;32m-> 1282\u001B[0m \u001B[38;5;28;01mreturn\u001B[39;00m \u001B[38;5;28;43mself\u001B[39;49m\u001B[38;5;241;43m.\u001B[39;49m\u001B[43m_input_request\u001B[49m\u001B[43m(\u001B[49m\n\u001B[1;32m   1283\u001B[0m \u001B[43m    \u001B[49m\u001B[38;5;28;43mstr\u001B[39;49m\u001B[43m(\u001B[49m\u001B[43mprompt\u001B[49m\u001B[43m)\u001B[49m\u001B[43m,\u001B[49m\n\u001B[1;32m   1284\u001B[0m \u001B[43m    \u001B[49m\u001B[38;5;28;43mself\u001B[39;49m\u001B[38;5;241;43m.\u001B[39;49m\u001B[43m_parent_ident\u001B[49m\u001B[43m[\u001B[49m\u001B[38;5;124;43m\"\u001B[39;49m\u001B[38;5;124;43mshell\u001B[39;49m\u001B[38;5;124;43m\"\u001B[39;49m\u001B[43m]\u001B[49m\u001B[43m,\u001B[49m\n\u001B[1;32m   1285\u001B[0m \u001B[43m    \u001B[49m\u001B[38;5;28;43mself\u001B[39;49m\u001B[38;5;241;43m.\u001B[39;49m\u001B[43mget_parent\u001B[49m\u001B[43m(\u001B[49m\u001B[38;5;124;43m\"\u001B[39;49m\u001B[38;5;124;43mshell\u001B[39;49m\u001B[38;5;124;43m\"\u001B[39;49m\u001B[43m)\u001B[49m\u001B[43m,\u001B[49m\n\u001B[1;32m   1286\u001B[0m \u001B[43m    \u001B[49m\u001B[43mpassword\u001B[49m\u001B[38;5;241;43m=\u001B[39;49m\u001B[38;5;28;43;01mFalse\u001B[39;49;00m\u001B[43m,\u001B[49m\n\u001B[1;32m   1287\u001B[0m \u001B[43m\u001B[49m\u001B[43m)\u001B[49m\n",
      "File \u001B[0;32m~/Library/Python/3.9/lib/python/site-packages/ipykernel/kernelbase.py:1325\u001B[0m, in \u001B[0;36mKernel._input_request\u001B[0;34m(self, prompt, ident, parent, password)\u001B[0m\n\u001B[1;32m   1322\u001B[0m \u001B[38;5;28;01mexcept\u001B[39;00m \u001B[38;5;167;01mKeyboardInterrupt\u001B[39;00m:\n\u001B[1;32m   1323\u001B[0m     \u001B[38;5;66;03m# re-raise KeyboardInterrupt, to truncate traceback\u001B[39;00m\n\u001B[1;32m   1324\u001B[0m     msg \u001B[38;5;241m=\u001B[39m \u001B[38;5;124m\"\u001B[39m\u001B[38;5;124mInterrupted by user\u001B[39m\u001B[38;5;124m\"\u001B[39m\n\u001B[0;32m-> 1325\u001B[0m     \u001B[38;5;28;01mraise\u001B[39;00m \u001B[38;5;167;01mKeyboardInterrupt\u001B[39;00m(msg) \u001B[38;5;28;01mfrom\u001B[39;00m \u001B[38;5;28;01mNone\u001B[39;00m\n\u001B[1;32m   1326\u001B[0m \u001B[38;5;28;01mexcept\u001B[39;00m \u001B[38;5;167;01mException\u001B[39;00m:\n\u001B[1;32m   1327\u001B[0m     \u001B[38;5;28mself\u001B[39m\u001B[38;5;241m.\u001B[39mlog\u001B[38;5;241m.\u001B[39mwarning(\u001B[38;5;124m\"\u001B[39m\u001B[38;5;124mInvalid Message:\u001B[39m\u001B[38;5;124m\"\u001B[39m, exc_info\u001B[38;5;241m=\u001B[39m\u001B[38;5;28;01mTrue\u001B[39;00m)\n",
      "\u001B[0;31mKeyboardInterrupt\u001B[0m: Interrupted by user"
     ]
    }
   ],
   "execution_count": 1
  }
 ],
 "metadata": {
  "colab": {
   "authorship_tag": "ABX9TyMfxSNOybrh/E7+DQqfYMY3",
   "provenance": []
  },
  "kernelspec": {
   "display_name": "Python 3 (ipykernel)",
   "name": "python3",
   "language": "python"
  },
  "language_info": {
   "codemirror_mode": {
    "name": "ipython",
    "version": 3
   },
   "file_extension": ".py",
   "mimetype": "text/x-python",
   "name": "python",
   "nbconvert_exporter": "python",
   "pygments_lexer": "ipython3",
   "version": "3.11.7"
  }
 },
 "nbformat": 4,
 "nbformat_minor": 0
}
