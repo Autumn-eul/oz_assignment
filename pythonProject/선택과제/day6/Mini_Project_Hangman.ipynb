{
 "cells": [
  {
   "cell_type": "markdown",
   "metadata": {
    "id": "MoWlK0jinrpN"
   },
   "source": [
    "\n",
    "## Mini project [행맨 게임 제작]\n",
    "\n",
    "안녕하세요.\n",
    "수강생 여러분~! Chapter 1 ~ 6 까지의 수업은 잘 들으셨나요?\n",
    "\n",
    "여러분의 모든 역량을 총 동원해 문제를 풀어주셨합니다.\n",
    "\n",
    "\n",
    "\n",
    "#### 과제 설명\n",
    "\n",
    "이번 개발 주제는 '행맨' 게임이구요.\n",
    "\n",
    "행맨 게임은 아주 유명한 단어 퀴즈 프로그램이예요\n",
    "\n",
    "어떤 단어가 주어지면 그 단어의 길이만큼 빈 칸(밑줄) 이 주어지고\n",
    "플레이어는 알파벳을 하나씩 얘기하면서 단어를 추측해요!\n",
    "\n",
    "10번만에 맞히지 못하면 게임이 끝납니다. 🥲\n",
    "\n"
   ]
  },
  {
   "cell_type": "markdown",
   "metadata": {
    "id": "TQ0_AReItZ4z"
   },
   "source": [
    "#### 예시를 들어볼께요!!\n",
    "\n",
    "만약 E 가 단어에 포함돼있다면, 해당하는 위치에 E 를 표시해줍니다\n",
    "\n",
    "_ _ _ _ E E\n",
    "이렇게 되겠네요.\n",
    "\n",
    "이번에는 A를 해볼께요\n",
    "A 는 포함되지 않으므로 기회가 줄어들고 지금까지 맞힌 내용 그대로 출력합니다.\n",
    "\n",
    "_ _ _ _ E E\n",
    "변화가 없지요.\n",
    "\n",
    "이번에는 C 를 해봅시다.\n",
    "\n",
    "그럼\n",
    "C _ _ _ E E\n",
    "\n",
    "다음에는 F 를\n",
    "C _ F F E E\n",
    "\n",
    "마지막으로 O 를 해보면\n",
    "C O F F E E 로 게임은 성공으로 끝나게 됩니다."
   ]
  },
  {
   "cell_type": "markdown",
   "metadata": {
    "id": "eAI1BLDfuoNp"
   },
   "source": [
    "##본격적인 행맨 게임 규칙 설명\n",
    "\n",
    "- words 리스트에 추가된 단어들을 사용해주세요\n",
    "  - words = [\"apple\", \"banana\", \"orange\", \"grape\", \"lemon\"]\n",
    "\n",
    "- 단어의 길이에 맞게 밑줄을 출력해주세요  \n",
    "  (예)banana의 경우 _ _ _ _ _ _\n",
    "\n",
    "- 사용자부터 1글자씩 입력을 받되,\n",
    "   - 단어에 입력값이 포함되면 \"단어를 맞추셨군요. 더 힘내봐요\"라고 출력해주세요\"\n",
    "   - 단어에 입력값이 포함되어 있지 않다면 \"틀렸습니다. 남은 시도 횟수 \"란 메시지와 함꼐 남은 횟수를 출력해주세요\n",
    "\n",
    "- 매번 입력을 받을 때마다 현재까지 맞힌 글자들 표시(맞히면 글자는 밑줄 출력)\n",
    "    - 예) a 입력 시 : a _ _ _ _\n",
    "          p 입력 시 : a p p _ _\n",
    "          c 입력 시 : a p p _ _\n",
    "\n",
    "- 모든 단어를 맞췄을 경우 \"축하합니다! 단어를 맞추셨습니다\"와 시도 횟수를 출력해주세요\n",
    "\n",
    "\n",
    "행맨은 정말 유명 게임으로 찾아볼 수 있는 자료들이 많습니다.   \n",
    "문제가 어려우신 경우 구글링 통해 문제를 해결해보세요.  "
   ]
  },
  {
   "cell_type": "code",
   "execution_count": null,
   "metadata": {
    "id": "SlxmsiBtnqdd"
   },
   "outputs": [],
   "source": [
    "# 기본 라이브러리라 파이썬 설치시 자동으로 설치됩니다!\n",
    "# random 모듈은 랜덤한 숫자를 생성할 때 사용합니다.\n",
    "import random\n",
    "\n",
    "# 게임에 사용될 단어 목록\n",
    "words = [\"apple\", \"banana\", \"orange\", \"grape\", \"lemon\"]\n",
    "\n",
    "# 행맨 그림\n",
    "hangman_pics = [\n",
    "    \"\"\"\n",
    "     ------\n",
    "     |    |\n",
    "     |\n",
    "     |\n",
    "     |\n",
    "     |\n",
    "    ---\"\"\",\n",
    "    \"\"\"\n",
    "     ------\n",
    "     |    |\n",
    "     |    O\n",
    "     |\n",
    "     |\n",
    "     |\n",
    "    ---\"\"\",\n",
    "    \"\"\"\n",
    "     ------\n",
    "     |    |\n",
    "     |    O\n",
    "     |    |\n",
    "     |\n",
    "     |\n",
    "    ---\"\"\",\n",
    "    \"\"\"\n",
    "     ------\n",
    "     |    |\n",
    "     |    O\n",
    "     |   /|\n",
    "     |\n",
    "     |\n",
    "    ---\"\"\",\n",
    "    \"\"\"\n",
    "     ------\n",
    "     |    |\n",
    "     |    O\n",
    "     |   /|\\\n",
    "     |\n",
    "     |\n",
    "    ---\"\"\",\n",
    "    \"\"\"\n",
    "     ------\n",
    "     |    |\n",
    "     |    O\n",
    "     |   /|\\\n",
    "     |   /\n",
    "     |\n",
    "    ---\"\"\",\n",
    "    \"\"\"\n",
    "     ------\n",
    "     |    |\n",
    "     |    O\n",
    "     |   /|\\\n",
    "     |   / \\\n",
    "     |\n",
    "    ---\"\"\",\n",
    "]\n",
    "\n",
    "\n",
    "class HangmanGame:\n",
    "    def __init__(self):\n",
    "        pass\n",
    "\n",
    "    def display(self):\n",
    "        pass\n",
    "    def play(self):\n",
    "        pass\n",
    "\n",
    "if __name__ == \"__main__\":\n",
    "    game = HangmanGame()\n",
    "    game.play()\n"
   ]
  },
  {
   "metadata": {
    "ExecuteTime": {
     "end_time": "2024-10-21T11:03:11.076468Z",
     "start_time": "2024-10-21T11:03:09.098758Z"
    }
   },
   "cell_type": "code",
   "source": [
    "words = [\"apple\", \"banana\", \"orange\", \"grape\", \"lemon\"]\n",
    "\n",
    "# import random\n",
    "# chance = 10\n",
    "# answer = random.choice(words)\n",
    "\n",
    "chance = 10\n",
    "answer = \"orange\"\n",
    "a = '_' * len(answer)\n",
    "\n",
    "while chance > 0:\n",
    "    if a != answer:\n",
    "        print(a)\n",
    "        b = input('단어의 한 글자를 입력하세요 : ')\n",
    "        \n",
    "        if b in answer:\n",
    "            print('단어를 맞추셨군요. 더 힘내봐요')\n",
    "            c = a.index(b)\n",
    "            a.index[c] = b\n",
    "            chance -= 1\n",
    "            \n",
    "        else:\n",
    "            chance -= 1\n",
    "            print('틀렸습니다. 남은 시도 횟수 :', chance)\n",
    "            break\n",
    "            \n",
    "    else: # 정답을 모두 맞췄을 경우\n",
    "        print(\"축하합니다! 단어를 모두 맞추어 탈출에 성공하셨습니다.\")\n",
    "        \n",
    "else:\n",
    "    print(\"탈출에 실패하여 사망하셨습니다.\")\n",
    "        \n",
    "\n",
    "\n",
    "# class HangmanGame:\n",
    "#     def __init__(self):\n",
    "#         pass\n",
    "# \n",
    "#     def display(self):\n",
    "#         pass\n",
    "#     def play(self):\n",
    "#         pass\n",
    "# \n",
    "# if __name__ == \"__main__\":\n",
    "#     game = HangmanGame()\n",
    "#     game.play()"
   ],
   "outputs": [
    {
     "name": "stdout",
     "output_type": "stream",
     "text": [
      "______\n",
      "단어를 맞추셨군요. 더 힘내봐요\n"
     ]
    },
    {
     "ename": "ValueError",
     "evalue": "substring not found",
     "output_type": "error",
     "traceback": [
      "\u001B[0;31m---------------------------------------------------------------------------\u001B[0m",
      "\u001B[0;31mValueError\u001B[0m                                Traceback (most recent call last)",
      "Cell \u001B[0;32mIn[22], line 18\u001B[0m\n\u001B[1;32m     16\u001B[0m \u001B[38;5;28;01mif\u001B[39;00m b \u001B[38;5;129;01min\u001B[39;00m answer:\n\u001B[1;32m     17\u001B[0m     \u001B[38;5;28mprint\u001B[39m(\u001B[38;5;124m'\u001B[39m\u001B[38;5;124m단어를 맞추셨군요. 더 힘내봐요\u001B[39m\u001B[38;5;124m'\u001B[39m)\n\u001B[0;32m---> 18\u001B[0m     c \u001B[38;5;241m=\u001B[39m \u001B[43ma\u001B[49m\u001B[38;5;241;43m.\u001B[39;49m\u001B[43mindex\u001B[49m\u001B[43m(\u001B[49m\u001B[43mb\u001B[49m\u001B[43m)\u001B[49m\n\u001B[1;32m     19\u001B[0m     a\u001B[38;5;241m.\u001B[39mindex[c] \u001B[38;5;241m=\u001B[39m b\n\u001B[1;32m     20\u001B[0m     chance \u001B[38;5;241m-\u001B[39m\u001B[38;5;241m=\u001B[39m \u001B[38;5;241m1\u001B[39m\n",
      "\u001B[0;31mValueError\u001B[0m: substring not found"
     ]
    }
   ],
   "execution_count": 22
  },
  {
   "metadata": {
    "ExecuteTime": {
     "end_time": "2024-10-21T10:48:52.771168Z",
     "start_time": "2024-10-21T10:48:52.752979Z"
    }
   },
   "cell_type": "code",
   "source": [
    "a = \"apple\"\n",
    "b = \"_\" * len(a)\n",
    "print(a.index(\"p\"))\n",
    "b.index[a.index(\"p\")] = \"p\"\n",
    "print(b)\n"
   ],
   "outputs": [
    {
     "name": "stdout",
     "output_type": "stream",
     "text": [
      "1\n"
     ]
    },
    {
     "ename": "TypeError",
     "evalue": "'builtin_function_or_method' object does not support item assignment",
     "output_type": "error",
     "traceback": [
      "\u001B[0;31m---------------------------------------------------------------------------\u001B[0m",
      "\u001B[0;31mTypeError\u001B[0m                                 Traceback (most recent call last)",
      "Cell \u001B[0;32mIn[15], line 4\u001B[0m\n\u001B[1;32m      2\u001B[0m b \u001B[38;5;241m=\u001B[39m \u001B[38;5;124m\"\u001B[39m\u001B[38;5;124m_\u001B[39m\u001B[38;5;124m\"\u001B[39m \u001B[38;5;241m*\u001B[39m \u001B[38;5;28mlen\u001B[39m(a)\n\u001B[1;32m      3\u001B[0m \u001B[38;5;28mprint\u001B[39m(a\u001B[38;5;241m.\u001B[39mindex(\u001B[38;5;124m\"\u001B[39m\u001B[38;5;124mp\u001B[39m\u001B[38;5;124m\"\u001B[39m))\n\u001B[0;32m----> 4\u001B[0m \u001B[43mb\u001B[49m\u001B[38;5;241;43m.\u001B[39;49m\u001B[43mindex\u001B[49m\u001B[43m[\u001B[49m\u001B[43ma\u001B[49m\u001B[38;5;241;43m.\u001B[39;49m\u001B[43mindex\u001B[49m\u001B[43m(\u001B[49m\u001B[38;5;124;43m\"\u001B[39;49m\u001B[38;5;124;43mp\u001B[39;49m\u001B[38;5;124;43m\"\u001B[39;49m\u001B[43m)\u001B[49m\u001B[43m]\u001B[49m \u001B[38;5;241m=\u001B[39m \u001B[38;5;124m\"\u001B[39m\u001B[38;5;124mp\u001B[39m\u001B[38;5;124m\"\u001B[39m\n\u001B[1;32m      5\u001B[0m \u001B[38;5;28mprint\u001B[39m(b)\n",
      "\u001B[0;31mTypeError\u001B[0m: 'builtin_function_or_method' object does not support item assignment"
     ]
    }
   ],
   "execution_count": 15
  }
 ],
 "metadata": {
  "colab": {
   "authorship_tag": "ABX9TyNNCo1QYzhdJd5V1XN0ya9f",
   "provenance": []
  },
  "kernelspec": {
   "display_name": "Python 3 (ipykernel)",
   "name": "python3",
   "language": "python"
  },
  "language_info": {
   "name": "python"
  }
 },
 "nbformat": 4,
 "nbformat_minor": 0
}
