{
 "cells": [
  {
   "cell_type": "code",
   "execution_count": 17,
   "metadata": {},
   "outputs": [
    {
     "name": "stdout",
     "output_type": "stream",
     "text": [
      "Data inserted successfully\n"
     ]
    }
   ],
   "source": [
    "from pymongo import MongoClient\n",
    "\n",
    "def insert_data():\n",
    "    client = MongoClient('mongodb://localhost:27017/')\n",
    "    db = client.local  # 'local' 데이터베이스 사용\n",
    "\n",
    "    # 책 데이터 삽입\n",
    "    books = [\n",
    "        {\"title\": \"Kafka on the Shore\", \"author\": \"Haruki Murakami\", \"year\": 2002},\n",
    "        {\"title\": \"Norwegian Wood\", \"author\": \"Haruki Murakami\", \"year\": 1987},\n",
    "        {\"title\": \"1Q84\", \"author\": \"Haruki Murakami\", \"year\": 2009}\n",
    "    ]\n",
    "    db.books.insert_many(books)\n",
    "\n",
    "    # 영화 데이터 삽입\n",
    "    movies = [\n",
    "        {\"title\": \"Inception\", \"director\": \"Christopher Nolan\", \"year\": 2010, \"rating\": 8.8},\n",
    "        {\"title\": \"Interstellar\", \"director\": \"Christopher Nolan\", \"year\": 2014, \"rating\": 8.6},\n",
    "        {\"title\": \"The Dark Knight\", \"director\": \"Christopher Nolan\", \"year\": 2008, \"rating\": 9.0}\n",
    "    ]\n",
    "    db.movies.insert_many(movies)\n",
    "\n",
    "    # 사용자 행동 데이터 삽입\n",
    "    user_actions = [\n",
    "        {\"user_id\": 1, \"action\": \"click\", \"timestamp\": \"2023-04-12T08:00:00Z\"},\n",
    "        {\"user_id\": 1, \"action\": \"view\", \"timestamp\": \"2023-04-12T09:00:00Z\"},\n",
    "        {\"user_id\": 2, \"action\": \"purchase\", \"timestamp\": \"2023-04-12T10:00:00Z\"}\n",
    "    ]\n",
    "    db.user_actions.insert_many(user_actions)\n",
    "\n",
    "    print(\"Data inserted successfully\")\n",
    "    client.close()\n",
    "\n",
    "if __name__ == \"__main__\":\n",
    "    insert_data()\n"
   ]
  },
  {
   "cell_type": "markdown",
   "metadata": {},
   "source": [
    "## 문제 1\n",
    "#### 데이터베이스에 새로운 필드로 genre 추가\n",
    "#### 사용자는 fantasy 장르의 모든 책을 요청\n",
    "#### 쿼리 작성 목표 : fantasy 장르에 해당하는 모든 책의 제목과 저자를 찾는 MongoDB 쿼리를 함수로 생성"
   ]
  },
  {
   "cell_type": "code",
   "execution_count": null,
   "metadata": {},
   "outputs": [],
   "source": [
    "def find_genre(db, genre):\n",
    "    # db 의 books 컬렉션을 선택하여 변수에 할당\n",
    "    books_colloection = db.books\n",
    "\n",
    "    # 검색 조건 : genre 필드가 입력된 장르와 일치하는 도큐먼트를 찾음\n",
    "    query = {'genre': genre}\n",
    "\n",
    "    # 검색 결과에 포함할 필드를 정의 : _id 는 제외하고 title, author 만 포함\n",
    "    projection = {'_id': 0, 'title': 1, 'author': 1}\n",
    "\n",
    "    # books_collection 에서 query 와 projection 조건에 맞는 도큐먼트를 검색\n",
    "    books = books_colloection.find(query, projection)\n",
    "\n",
    "    # 검색된 도큐먼트를 하나씩 반복하며 출력\n",
    "    for book in books:\n",
    "        print(book)\n",
    "\n",
    "# Mongodb 클라이언트를 생성하여 데이터베이스에 연결\n",
    "client = MongoClient('mongodb://localhost:27017/')\n",
    "\n",
    "# local 데이터베이스를 선택하여 db 변수에 할당\n",
    "db = client.local\n",
    "find_genre(db, 'fantasy')   # 함수 실행\n",
    "client.close()  # MongoDB 연결 종료"
   ]
  },
  {
   "cell_type": "markdown",
   "metadata": {},
   "source": [
    "## 문제 2\n",
    "#### 영화 감독 별로 영화 평점의 평균을 계산\n",
    "#### 쿼리 작성 목표 : 모든 영화 감독의 영화 평점 평균을 계산하고, 평균이 높은 순으로 정렬하는 쿼리 함수 생성"
   ]
  },
  {
   "cell_type": "code",
   "execution_count": null,
   "metadata": {},
   "outputs": [
    {
     "name": "stdout",
     "output_type": "stream",
     "text": [
      "{'_id': 'Christopher Nolan', 'average_rating': 8.799999999999999}\n"
     ]
    }
   ],
   "source": [
    "def calculate_avg_ratings(db):\n",
    "    movies_collection = db.movies   # movie 컬렉션을 선택하여 변수에 할당\n",
    "    \n",
    "    # MongoDB aggregation 파이프라인 정의\n",
    "    pipeline = [\n",
    "        # 1. 감독별로 그룹화 하고 각 감독의 평균 rating 계산\n",
    "        {'$group': {'_id': '$director', 'average_rating': {\"$avg\": \"$rating\"}}},\n",
    "        # 2. average_rating 을 기준으로 내림차순 정렬\n",
    "        {\"$sort\": {\"average_rating\": -1}}\n",
    "    ]\n",
    "\n",
    "    # pipeline 을 사용해 movie_collection 에서 aggregation 실행\n",
    "    results = movies_collection.aggregate(pipeline)\n",
    "\n",
    "    # aggregation 결과를 반복하며 출력\n",
    "    for result in results:\n",
    "        print(result)\n",
    "\n",
    "client = MongoClient('mongodb://localhost:27017/')\n",
    "db = client.local\n",
    "calculate_avg_ratings(db)\n",
    "client.close()"
   ]
  },
  {
   "cell_type": "markdown",
   "metadata": {},
   "source": [
    "## 문제 3\n",
    "#### 특정 사용자의 최근 행동 로그 조회\n",
    "#### 쿼리 작성 목표 : 사용자 ID가 1인 사용자의 최근 행동 5개를 최신순으로 정렬하여 조회하는 쿼리 함수 생성"
   ]
  },
  {
   "cell_type": "code",
   "execution_count": null,
   "metadata": {},
   "outputs": [
    {
     "name": "stdout",
     "output_type": "stream",
     "text": [
      "{'_id': ObjectId('672f7c30c4fbe6b6015944bf'), 'user_id': 1, 'action': 'view', 'timestamp': '2023-04-12T09:00:00Z'}\n",
      "{'_id': ObjectId('672f7c30c4fbe6b6015944be'), 'user_id': 1, 'action': 'click', 'timestamp': '2023-04-12T08:00:00Z'}\n"
     ]
    }
   ],
   "source": [
    "def find_recent_actions_by_user(db, user_id, limit = 5):\n",
    "    user_actions_collection = db.user_actions   # user_action 컬렉션을 선택하여 변수에 할당\n",
    "    query = {'user_id': user_id}    # user_id 필드가 함수 인자로 받은 user_id 와 일치하는 도큐먼트를 찾음\n",
    "    sort_criteria = [('timestamp', -1)]     # 정렬 기준 : timestamp 필드를 기준으로 내림차순(-1) 정렬\n",
    "\n",
    "    # 조건에 맞는 도큐먼트를 찾고(.find) 정렬한 뒤(.sort), 지정된 limit 수만큼 결과를 제한(.limit)\n",
    "    actions = user_actions_collection.find(query).sort(sort_criteria).limit(limit)\n",
    "    for action in actions:\n",
    "        print(action)\n",
    "\n",
    "client = MongoClient('mongodb://localhost:27017/')\n",
    "db = client.local\n",
    "find_recent_actions_by_user(db, 1)\n",
    "client.close()"
   ]
  },
  {
   "cell_type": "markdown",
   "metadata": {},
   "source": [
    "## 문제 4\n",
    "#### 데이터베이스에 저장된 책 데이터를 이용하여 각 출판 연도별로 출판된 책의 수를 계산\n",
    "#### 쿼리 작성 목표 : 각 출판 연도별로 출판된 책의 수를 계산하고, 출판된 책의 수가 많은 순서대로 정렬하는 쿼리 함수 생성"
   ]
  },
  {
   "cell_type": "code",
   "execution_count": null,
   "metadata": {},
   "outputs": [
    {
     "name": "stdout",
     "output_type": "stream",
     "text": [
      "{'_id': 1987, 'count': 1}\n",
      "{'_id': 2009, 'count': 1}\n",
      "{'_id': 2002, 'count': 1}\n"
     ]
    }
   ],
   "source": [
    "def count_by_year(db):\n",
    "    books_collection = db.books     # books 컬렉션을 선택하여 변수에 할당\n",
    "\n",
    "    pipeline = [\n",
    "        # 년도별로 그룹화하고, 각 년도의 도큐먼트 수를 count 필드에 저장\n",
    "        {\"$group\": {\"_id\": \"$year\", \"count\": {\"$sum\": 1}}},\n",
    "        # 최신순으로 정렬\n",
    "        {\"$sort\": {\"count\": -1}}\n",
    "    ]\n",
    "\n",
    "    results = books_collection.aggregate(pipeline)\n",
    "    for result in results:\n",
    "        print(result)\n",
    "\n",
    "client = MongoClient('mongodb://localhost:27017/')\n",
    "db = client.local\n",
    "count_by_year(db)\n",
    "client.close()"
   ]
  },
  {
   "cell_type": "markdown",
   "metadata": {},
   "source": [
    "## 문제 5\n",
    "#### 특정 사용자의 행동 로그 중 특정 날짜 이전의 view 행동을 seen 으로 변경\n",
    "#### 쿼리 작성 목표 : 사용자 ID가 1인 사용자의 23년 4월 10일 이전의 view 행동을 seen 으로 변경하는 업데이트 쿼리 함수 생성"
   ]
  },
  {
   "cell_type": "code",
   "execution_count": null,
   "metadata": {},
   "outputs": [
    {
     "name": "stdout",
     "output_type": "stream",
     "text": [
      "Updated 0 documents.\n"
     ]
    }
   ],
   "source": [
    "from datetime import datetime\n",
    "\n",
    "def update_user_actions_before_date(db, user_id, date, old_action, new_action):\n",
    "    user_actions_collection = db.user_actions   # user_actions 컬렉션을 선택 후 변수에 할당\n",
    "\n",
    "    # user_id 필드가 지정된 user_id 와 action 필드가 지정된 old_action 과 일치하고\n",
    "    # timestamp 필드가 지정된 date 보다 이전인 도큐먼트를 검색\n",
    "    query = {'user_id': user_id, 'action': old_action, 'timestamp': {'$lt': date}}\n",
    "\n",
    "    # 업데이트 내용 : action 의 필드에 새로운 값 new_action 으로 변경\n",
    "    update = {'$set': {'action': new_action}}\n",
    "\n",
    "    # update_many 함수를 사용해 조건에 부합한 모든 도큐먼트를 업데이트하고 결과 저장\n",
    "    result = user_actions_collection.update_many(query, update)\n",
    "\n",
    "    # 업데이트 된 도큐먼트의 개수를 출력\n",
    "    print(f'Updated {result.modified_count} documents.')\n",
    "\n",
    "client = MongoClient('mongodb://localhost:27017/')\n",
    "db = client.local\n",
    "\n",
    "# user_id = 1 이고 23년 4월 10일 이전, action 값이 view 인 경우 seen 으로 변경\n",
    "update_user_actions_before_date(db, 1, datetime(2023, 4, 10), 'view', 'seen')\n",
    "client.close()"
   ]
  }
 ],
 "metadata": {
  "kernelspec": {
   "display_name": "Python 3",
   "language": "python",
   "name": "python3"
  },
  "language_info": {
   "codemirror_mode": {
    "name": "ipython",
    "version": 3
   },
   "file_extension": ".py",
   "mimetype": "text/x-python",
   "name": "python",
   "nbconvert_exporter": "python",
   "pygments_lexer": "ipython3",
   "version": "3.13.0"
  }
 },
 "nbformat": 4,
 "nbformat_minor": 2
}
